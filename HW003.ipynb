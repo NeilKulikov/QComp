{
 "cells": [
  {
   "cell_type": "code",
   "execution_count": 1,
   "metadata": {},
   "outputs": [],
   "source": [
    "%%capture\n",
    "!pip3 install qiskit"
   ]
  },
  {
   "cell_type": "markdown",
   "metadata": {},
   "source": [
    "# Homework #3"
   ]
  },
  {
   "cell_type": "code",
   "execution_count": 2,
   "metadata": {},
   "outputs": [],
   "source": [
    "import numpy as np\n",
    "import qiskit as qk\n",
    "from sympy import *"
   ]
  },
  {
   "cell_type": "code",
   "execution_count": 3,
   "metadata": {},
   "outputs": [],
   "source": [
    "from qiskit.visualization import plot_histogram\n",
    "import matplotlib.pyplot as plt"
   ]
  },
  {
   "cell_type": "code",
   "execution_count": 4,
   "metadata": {},
   "outputs": [],
   "source": [
    "with open('./token', 'r') as token_file:\n",
    "    token = token_file.read()"
   ]
  },
  {
   "cell_type": "code",
   "execution_count": 5,
   "metadata": {},
   "outputs": [],
   "source": [
    "%%capture\n",
    "qk.IBMQ.save_account(token, overwrite = True)\n",
    "qk.IBMQ.load_account()"
   ]
  },
  {
   "cell_type": "code",
   "execution_count": 6,
   "metadata": {},
   "outputs": [],
   "source": [
    "provider = qk.IBMQ.get_provider(hub = 'ibm-q')"
   ]
  },
  {
   "cell_type": "code",
   "execution_count": 7,
   "metadata": {},
   "outputs": [],
   "source": [
    "devices = provider.backends(filters=lambda x: (3 <= x.configuration().n_qubits <= 5) and not x.configuration().simulator)"
   ]
  },
  {
   "cell_type": "code",
   "execution_count": 8,
   "metadata": {},
   "outputs": [
    {
     "data": {
      "text/plain": [
       "[<IBMQBackend('ibmqx2') from IBMQ(hub='ibm-q', group='open', project='main')>,\n",
       " <IBMQBackend('ibmq_vigo') from IBMQ(hub='ibm-q', group='open', project='main')>,\n",
       " <IBMQBackend('ibmq_ourense') from IBMQ(hub='ibm-q', group='open', project='main')>,\n",
       " <IBMQBackend('ibmq_valencia') from IBMQ(hub='ibm-q', group='open', project='main')>,\n",
       " <IBMQBackend('ibmq_santiago') from IBMQ(hub='ibm-q', group='open', project='main')>]"
      ]
     },
     "execution_count": 8,
     "metadata": {},
     "output_type": "execute_result"
    }
   ],
   "source": [
    "devices"
   ]
  },
  {
   "cell_type": "code",
   "execution_count": 9,
   "metadata": {},
   "outputs": [],
   "source": [
    "simd_backend = qk.Aer.get_backend('qasm_simulator')"
   ]
  },
  {
   "cell_type": "markdown",
   "metadata": {},
   "source": [
    "## Task \\#1"
   ]
  },
  {
   "cell_type": "markdown",
   "metadata": {},
   "source": [
    "### QFT in general"
   ]
  },
  {
   "cell_type": "markdown",
   "metadata": {},
   "source": [
    "FFT is Matrix-Vector multiplication of input vector. QFT inherits this form of matrix $\\hat Q = \\frac{1}{\\sqrt{N}} \\sum_{jk} e^{i \\frac{2\\pi}{N} jk} \\vert j \\rangle \\langle k \\vert$ in computational basis ($N=2^n$). This matrix is unitary $\\hat Q \\hat{Q}^\\dagger = \\hat{I}$."
   ]
  },
  {
   "cell_type": "markdown",
   "metadata": {},
   "source": [
    "Since we apply this matrix:\n",
    "$$\\hat{Q} \\vert x \\rangle = \\frac{1}{\\sqrt{N}} \\sum_{y} e^{i \\frac{2\\pi}{N} xy} \\vert y \\rangle = \n",
    "\\frac{1}{\\sqrt{N}} \\sum_{y} e^{i 2\\pi \\vec{x} \\sum_j y_j \\vec{e}_j / 2^j} \\vert y \\rangle$$"
   ]
  },
  {
   "cell_type": "markdown",
   "metadata": {},
   "source": [
    "It can be productized:\n",
    "$$\\hat{Q} \\vert x \\rangle = \\frac{1}{\\sqrt{N}} \\sum_{y} \\Pi_j e^{i 2\\pi \\vec{x} y_j \\vec{e}_j / 2^j} \\vert y \\rangle = \\frac{1}{\\sqrt{N}} \\otimes_j \\left(\\vert 0 \\rangle + e^{i 2\\pi x / 2^j} \\vert 1 \\rangle \\right)$$"
   ]
  },
  {
   "cell_type": "markdown",
   "metadata": {},
   "source": [
    "Thus we can se how algorithm can be implemented using Hadamard's operators and controlled rotations. "
   ]
  },
  {
   "cell_type": "markdown",
   "metadata": {},
   "source": [
    "### Sub-Task \\#1 - Shor's algorithm"
   ]
  },
  {
   "cell_type": "markdown",
   "metadata": {},
   "source": [
    "If target function works on first $n$ bits we can dou le their number. So we'll use $2n$ qbits in circuit."
   ]
  },
  {
   "cell_type": "markdown",
   "metadata": {},
   "source": [
    "Let's apply Hadamard's operators to first $n$ qubits:\n",
    "$$\\vert \\psi_0 \\rangle = (\\hat{H}^{\\otimes n} \\otimes \\hat{I}^{\\otimes n})(\\vert 0 \\rangle^{\\otimes n} \\otimes \\vert 0 \\rangle^{\\otimes n}) = \\vert x \\rangle \\otimes \\vert 0 \\rangle^{\\otimes n},~\\vert x \\rangle = \\frac{1}{\\sqrt 2} (\\vert 0 \\rangle + \\vert 1 \\rangle)$$\n",
    "Then we can apply our oracle with function $f(x) = f\\big((x + a) \\text{mod} 2^n\\big)$. It gives us ($x_0=\\text{min}\\{x: f(x)=z\\}$):\n",
    "$$\\vert \\psi_1 \\rangle = \\hat{U}_f \\vert \\psi_0 \\rangle = \\vert x \\rangle \\otimes \\vert f(x) \\rangle$$"
   ]
  },
  {
   "cell_type": "markdown",
   "metadata": {},
   "source": [
    "After imagined measurement of the last qbits we'll get:\n",
    "$$\\vert \\psi_1 \\rangle_m = \\sqrt \\frac{a}{N} \\sum_{x:f(x) = z} \\vert x \\rangle = \\sqrt \\frac{a}{N} \\sum_{j = 0}^{N/a - 1} \\vert x_0 +  j a \\rangle$$"
   ]
  },
  {
   "cell_type": "markdown",
   "metadata": {},
   "source": [
    "Thus we can perform QFT:\n",
    "$$\\hat Q \\vert \\psi_1 \\rangle_m = \\frac{1}{\\sqrt N} \\sqrt \\frac{a}{N} \\sum_{j=0}^{N/a - 1} \\sum_{t=0}^{N-1} \\exp\\left(\\frac{2\\pi i}{N} (x_0 + ja)t\\right) \\vert t \\rangle = \\frac{\\sqrt a}{N} \\sum_{t} \\exp\\left(\\frac{2\\pi i}{N}x_0 t\\right) \\sum_{j} \\exp\\left(\\frac{2\\pi i}{N}  ja t\\right)\\vert t \\rangle$$"
   ]
  },
  {
   "cell_type": "markdown",
   "metadata": {},
   "source": [
    "Using result for specific $t^{'} = k N / a,~\\forall k \\in \\mathbb{N}$ we can get:\n",
    "$$\\alpha = \\sum_{j} \\exp\\left(\\frac{2\\pi i}{N}  ja t^{'}\\right) = \\frac{N}{a}$$"
   ]
  },
  {
   "cell_type": "markdown",
   "metadata": {},
   "source": [
    "That gives us possibility to find this peak:\n",
    "$$P(t) = \\frac{a}{N^2} \\vert \\alpha \\vert^2 = \\frac{1}{a}$$"
   ]
  },
  {
   "cell_type": "markdown",
   "metadata": {},
   "source": [
    "Overall probability to find qubit in sych state is:\n",
    "$$\\sum_{t: at=kN} P(t) = a\\frac{1}{a} = 1$$"
   ]
  },
  {
   "cell_type": "markdown",
   "metadata": {},
   "source": [
    "Let's do it for 2 qubits. We'll use simple oracle:\n",
    "\n",
    "|Before &nbsp;&nbsp;&nbsp;&nbsp;&nbsp;&nbsp;&nbsp;&nbsp;&nbsp;&nbsp;&nbsp;&nbsp;&nbsp;&nbsp;&nbsp;&nbsp;&nbsp;&nbsp;| After &nbsp;&nbsp;&nbsp;&nbsp;&nbsp;&nbsp;&nbsp;&nbsp;&nbsp;&nbsp;&nbsp;&nbsp;&nbsp;&nbsp;&nbsp;&nbsp;&nbsp;&nbsp;&nbsp;&nbsp;&nbsp;&nbsp;&nbsp;&nbsp;&nbsp;&nbsp;|\n",
    "|-----------------------------|--------------------------------------|\n",
    "|$\\vert 0000 \\rangle = \\vert 0, 0 \\rangle$  | $\\vert 0000 \\rangle = \\vert 0, 0 \\rangle$|\n",
    "|$\\vert 0100 \\rangle = \\vert 1, 0 \\rangle$  | $\\vert 0101 \\rangle = \\vert 1, 1 \\rangle$|\n",
    "|$\\vert 1000 \\rangle = \\vert 2, 0 \\rangle$  | $\\vert 1000 \\rangle = \\vert 2, 0 \\rangle$|\n",
    "|$\\vert 1100 \\rangle = \\vert 3, 0 \\rangle$  | $\\vert 1101 \\rangle = \\vert 3, 1 \\rangle$|"
   ]
  },
  {
   "cell_type": "code",
   "execution_count": 10,
   "metadata": {},
   "outputs": [
    {
     "data": {
      "text/html": [
       "<pre style=\"word-wrap: normal;white-space: pre;background: #fff0;line-height: 1.1;font-family: &quot;Courier New&quot;,Courier,monospace\">     ┌───┐ ░       ░ ┌───┐             ░ ┌─┐   \n",
       "q_0: ┤ H ├─░───────░─┤ H ├─■───────────░─┤M├───\n",
       "     ├───┤ ░       ░ └───┘ │pi/2 ┌───┐ ░ └╥┘┌─┐\n",
       "q_1: ┤ H ├─░───■───░───────■─────┤ H ├─░──╫─┤M├\n",
       "     └───┘ ░   │   ░             └───┘ ░  ║ └╥┘\n",
       "q_2: ──────░───┼───░───────────────────░──╫──╫─\n",
       "           ░ ┌─┴─┐ ░                   ░  ║  ║ \n",
       "q_3: ──────░─┤ X ├─░───────────────────░──╫──╫─\n",
       "           ░ └───┘ ░                   ░  ║  ║ \n",
       "c: 2/═════════════════════════════════════╩══╩═\n",
       "                                          0  1 </pre>"
      ],
      "text/plain": [
       "     ┌───┐ ░       ░ ┌───┐             ░ ┌─┐   \n",
       "q_0: ┤ H ├─░───────░─┤ H ├─■───────────░─┤M├───\n",
       "     ├───┤ ░       ░ └───┘ │pi/2 ┌───┐ ░ └╥┘┌─┐\n",
       "q_1: ┤ H ├─░───■───░───────■─────┤ H ├─░──╫─┤M├\n",
       "     └───┘ ░   │   ░             └───┘ ░  ║ └╥┘\n",
       "q_2: ──────░───┼───░───────────────────░──╫──╫─\n",
       "           ░ ┌─┴─┐ ░                   ░  ║  ║ \n",
       "q_3: ──────░─┤ X ├─░───────────────────░──╫──╫─\n",
       "           ░ └───┘ ░                   ░  ║  ║ \n",
       "c: 2/═════════════════════════════════════╩══╩═\n",
       "                                          0  1 "
      ]
     },
     "execution_count": 10,
     "metadata": {},
     "output_type": "execute_result"
    }
   ],
   "source": [
    "qc = qk.QuantumCircuit(4, 2)\n",
    "qc.h(range(2))\n",
    "qc.barrier()\n",
    "#Oracle\n",
    "qc.cnot(1, 3)\n",
    "qc.barrier()\n",
    "#QFT\n",
    "qc.h(0)\n",
    "qc.cu1(np.pi / 2, 0, 1)\n",
    "qc.h(1)\n",
    "qc.barrier()\n",
    "qc.measure(range(2), range(2))\n",
    "qc.draw()"
   ]
  },
  {
   "cell_type": "code",
   "execution_count": 11,
   "metadata": {},
   "outputs": [],
   "source": [
    "res = qk.execute(qc, backend = simd_backend, shots = 262144).result()"
   ]
  },
  {
   "cell_type": "code",
   "execution_count": 12,
   "metadata": {},
   "outputs": [
    {
     "data": {
      "image/png": "[encoded data removed]",
      "text/plain": [
       "<Figure size 504x360 with 1 Axes>"
      ]
     },
     "execution_count": 12,
     "metadata": {},
     "output_type": "execute_result"
    }
   ],
   "source": [
    "cs = res.get_counts()\n",
    "plot_histogram(cs)"
   ]
  },
  {
   "cell_type": "markdown",
   "metadata": {},
   "source": [
    "It gives us right answer. It corresponds 2 values: 0(4) & 2 - as it was predicted."
   ]
  },
  {
   "cell_type": "markdown",
   "metadata": {},
   "source": [
    "### Sub-Task \\#2 - QFT for 3 qubits"
   ]
  },
  {
   "cell_type": "markdown",
   "metadata": {},
   "source": [
    "Let's apply QFT to the following state (8 elements length in computational basis) $e^{i \\pi / 4} \\exp(3 \\cdot 2 \\pi i \\cdot x / 8) + e^{i 3 \\pi / 7} \\sin(5 \\cdot 2 \\pi x / 8)$: "
   ]
  },
  {
   "cell_type": "code",
   "execution_count": 13,
   "metadata": {},
   "outputs": [
    {
     "data": {
      "text/plain": [
       "[<matplotlib.lines.Line2D at 0x127053ca0>]"
      ]
     },
     "execution_count": 13,
     "metadata": {},
     "output_type": "execute_result"
    },
    {
     "data": {
      "image/png": "[encoded data removed]",
      "text/plain": [
       "<Figure size 432x288 with 1 Axes>"
      ]
     },
     "metadata": {
      "needs_background": "light"
     },
     "output_type": "display_data"
    }
   ],
   "source": [
    "n = 3\n",
    "nb = 2**n\n",
    "ns = np.arange(nb)\n",
    "x0 = 0.75 * np.exp(2 * np.pi * 1j * 3 * ns / 8  - 1j * np.pi / 4) + np.exp(2 * np.pi * 1j * 5 * ns / 8 + 3j * np.pi / 7)\n",
    "x0 = x0 / np.linalg.norm(x0)\n",
    "plt.plot(np.real(x0))\n",
    "plt.plot(np.imag(x0))"
   ]
  },
  {
   "cell_type": "code",
   "execution_count": 14,
   "metadata": {},
   "outputs": [
    {
     "data": {
      "text/plain": [
       "<qiskit.circuit.instructionset.InstructionSet at 0x126cb4d30>"
      ]
     },
     "execution_count": 14,
     "metadata": {},
     "output_type": "execute_result"
    }
   ],
   "source": [
    "qc = qk.QuantumCircuit(3, 3)\n",
    "qc.initialize(x0, range(3))\n",
    "qc.barrier()\n",
    "qc.h(0)\n",
    "qc.cu1(np.pi / 2, 0, 1)\n",
    "qc.cu1(np.pi / 4, 0, 2)\n",
    "qc.h(1)\n",
    "qc.cu1(np.pi / 2, 1, 2)\n",
    "qc.h(2)\n",
    "qc.barrier()\n",
    "qc.measure(range(3), range(3))"
   ]
  },
  {
   "cell_type": "code",
   "execution_count": 15,
   "metadata": {},
   "outputs": [
    {
     "data": {
      "text/html": [
       "<pre style=\"word-wrap: normal;white-space: pre;background: #fff0;line-height: 1.1;font-family: &quot;Courier New&quot;,Courier,monospace\">     »\n",
       "q_0: »\n",
       "     »\n",
       "q_1: »\n",
       "     »\n",
       "q_2: »\n",
       "     »\n",
       "c: 3/»\n",
       "     »\n",
       "«     ┌──────────────────────────────────────────────────────────────────────────────────────────────────────────────────────────────────────────────────────────────────┐»\n",
       "«q_0: ┤0                                                                                                                                                                 ├»\n",
       "«     │                                                                                                                                                                  │»\n",
       "«q_1: ┤1 initialize(0.21294+0.12575j,0.15048+-0.027358j,-0.42575+-0.087062j,0.45162+0.15048j,-0.21294+-0.12575j,-0.15048+0.027358j,0.42575+0.087062j,-0.45162+-0.15048j) ├»\n",
       "«     │                                                                                                                                                                  │»\n",
       "«q_2: ┤2                                                                                                                                                                 ├»\n",
       "«     └──────────────────────────────────────────────────────────────────────────────────────────────────────────────────────────────────────────────────────────────────┘»\n",
       "«c: 3/════════════════════════════════════════════════════════════════════════════════════════════════════════════════════════════════════════════════════════════════════»\n",
       "«                                                                                                                                                                         »\n",
       "«      ░ ┌───┐                                ░ ┌─┐      \n",
       "«q_0: ─░─┤ H ├─■──────■───────────────────────░─┤M├──────\n",
       "«      ░ └───┘ │pi/2  │     ┌───┐             ░ └╥┘┌─┐   \n",
       "«q_1: ─░───────■──────┼─────┤ H ├─■───────────░──╫─┤M├───\n",
       "«      ░              │pi/4 └───┘ │pi/2 ┌───┐ ░  ║ └╥┘┌─┐\n",
       "«q_2: ─░──────────────■───────────■─────┤ H ├─░──╫──╫─┤M├\n",
       "«      ░                                └───┘ ░  ║  ║ └╥┘\n",
       "«c: 3/═══════════════════════════════════════════╩══╩══╩═\n",
       "«                                                0  1  2 </pre>"
      ],
      "text/plain": [
       "     »\n",
       "q_0: »\n",
       "     »\n",
       "q_1: »\n",
       "     »\n",
       "q_2: »\n",
       "     »\n",
       "c: 3/»\n",
       "     »\n",
       "«     ┌──────────────────────────────────────────────────────────────────────────────────────────────────────────────────────────────────────────────────────────────────┐»\n",
       "«q_0: ┤0                                                                                                                                                                 ├»\n",
       "«     │                                                                                                                                                                  │»\n",
       "«q_1: ┤1 initialize(0.21294+0.12575j,0.15048+-0.027358j,-0.42575+-0.087062j,0.45162+0.15048j,-0.21294+-0.12575j,-0.15048+0.027358j,0.42575+0.087062j,-0.45162+-0.15048j) ├»\n",
       "«     │                                                                                                                                                                  │»\n",
       "«q_2: ┤2                                                                                                                                                                 ├»\n",
       "«     └──────────────────────────────────────────────────────────────────────────────────────────────────────────────────────────────────────────────────────────────────┘»\n",
       "«c: 3/════════════════════════════════════════════════════════════════════════════════════════════════════════════════════════════════════════════════════════════════════»\n",
       "«                                                                                                                                                                         »\n",
       "«      ░ ┌───┐                                ░ ┌─┐      \n",
       "«q_0: ─░─┤ H ├─■──────■───────────────────────░─┤M├──────\n",
       "«      ░ └───┘ │pi/2  │     ┌───┐             ░ └╥┘┌─┐   \n",
       "«q_1: ─░───────■──────┼─────┤ H ├─■───────────░──╫─┤M├───\n",
       "«      ░              │pi/4 └───┘ │pi/2 ┌───┐ ░  ║ └╥┘┌─┐\n",
       "«q_2: ─░──────────────■───────────■─────┤ H ├─░──╫──╫─┤M├\n",
       "«      ░                                └───┘ ░  ║  ║ └╥┘\n",
       "«c: 3/═══════════════════════════════════════════╩══╩══╩═\n",
       "«                                                0  1  2 "
      ]
     },
     "execution_count": 15,
     "metadata": {},
     "output_type": "execute_result"
    }
   ],
   "source": [
    "qc.draw()"
   ]
  },
  {
   "cell_type": "code",
   "execution_count": 16,
   "metadata": {},
   "outputs": [],
   "source": [
    "res = qk.execute(qc, backend = simd_backend, shots = 262144).result()"
   ]
  },
  {
   "cell_type": "code",
   "execution_count": 17,
   "metadata": {},
   "outputs": [],
   "source": [
    "cs = res.get_counts()"
   ]
  },
  {
   "cell_type": "code",
   "execution_count": 18,
   "metadata": {},
   "outputs": [
    {
     "data": {
      "image/png": "[encoded data removed]",
      "text/plain": [
       "<Figure size 504x360 with 1 Axes>"
      ]
     },
     "execution_count": 18,
     "metadata": {},
     "output_type": "execute_result"
    }
   ],
   "source": [
    "plot_histogram(cs)"
   ]
  },
  {
   "cell_type": "code",
   "execution_count": 19,
   "metadata": {},
   "outputs": [
    {
     "data": {
      "text/plain": [
       "1.0068381112677647"
      ]
     },
     "execution_count": 19,
     "metadata": {},
     "output_type": "execute_result"
    }
   ],
   "source": [
    "#Because of inversed order\n",
    "ex_ratio = cs['101'] / cs['011']\n",
    "th_ratio = 0.75**2\n",
    "ex_ratio / th_ratio"
   ]
  },
  {
   "cell_type": "markdown",
   "metadata": {},
   "source": [
    "Almost Ideal"
   ]
  },
  {
   "cell_type": "markdown",
   "metadata": {},
   "source": [
    "## Task \\#2"
   ]
  },
  {
   "cell_type": "markdown",
   "metadata": {},
   "source": [
    "We need to estime $\\theta$ after applying 1-qbit rotation operator:\n",
    "$$\\hat{R}(\\theta) = \n",
    "    \\begin{bmatrix}\n",
    "        1 & 0 \\\\\n",
    "        0 & e^{i\\theta}\n",
    "    \\end{bmatrix}$$\n",
    "I.e. $\\vert \\psi \\rangle = \\hat{R} \\vert 1 \\rangle = e^{i \\theta} \\vert 1 \\rangle$."
   ]
  },
  {
   "cell_type": "markdown",
   "metadata": {},
   "source": [
    "Let's assume that we work with $n + 1$ qbits $\\vert 0 \\rangle^{\\otimes n} \\otimes \\vert \\psi \\rangle$.\n",
    "\n",
    "After Hadamard's gates on first $n$ qubits we have: $\\frac{1}{\\sqrt{2^n}} (\\vert 0 \\rangle + \\vert 1 \\rangle)^{\\otimes n} \\otimes \\vert \\psi \\rangle$."
   ]
  },
  {
   "cell_type": "markdown",
   "metadata": {},
   "source": [
    "Then we should aaply controlled unitary operations. This operations works if the controlled bit is equal $\\vert 1 \\rangle$ and gives: $\\hat{U}(\\theta) \\vert \\psi \\rangle = e^{2\\pi i \\theta} \\vert \\psi \\rangle$. Thus $\\hat{U}^{j} \\vert \\psi \\rangle = \\hat{U}^{j-1} \\hat{U} \\vert \\psi \\rangle = e^{2\\pi i j \\theta} \\vert \\psi \\rangle$.\n",
    "\n",
    "We should apply $\\hat{CU}^{2j}$ for pairs $\\vert \\phi \\rangle_j \\otimes \\vert \\psi \\rangle$. It will give us:\n",
    "$$\\frac{1}{\\sqrt{2^n}} \\otimes_j \\left(\\vert 0 \\rangle + e^{2\\pi i \\theta j} \\vert 1 \\rangle \\right) \\otimes \\vert \\psi \\rangle = \\frac{1}{\\sqrt{2^n}} \\sum_j e^{2\\pi i \\theta j} \\vert j \\rangle \\otimes \\vert \\psi \\rangle$$."
   ]
  },
  {
   "cell_type": "markdown",
   "metadata": {},
   "source": [
    "Then we should just apply iQFT:\n",
    "$$\\frac{1}{2^n} \\sum_j \\sum_k e^{2\\pi i k \\theta j} e^{-2\\pi i j / N} \\vert j \\rangle \\otimes \\vert \\psi \\rangle$$\n",
    "\n",
    "This dependency has peak at $\\theta = j / N$."
   ]
  },
  {
   "cell_type": "markdown",
   "metadata": {},
   "source": [
    "Let's work with 3-qubits approximation and $\\theta / 2 \\pi = 13 / 29$"
   ]
  },
  {
   "cell_type": "code",
   "execution_count": 20,
   "metadata": {},
   "outputs": [
    {
     "data": {
      "text/plain": [
       "<qiskit.circuit.instructionset.InstructionSet at 0x1270ac910>"
      ]
     },
     "execution_count": 20,
     "metadata": {},
     "output_type": "execute_result"
    }
   ],
   "source": [
    "n = 5\n",
    "th = 2 * np.pi * 13 / 29\n",
    "qc = qk.QuantumCircuit(n + 1, n)\n",
    "#Initialization \n",
    "qc.x(n)\n",
    "qc.barrier()\n",
    "#{reparation of first qbits\n",
    "qc.h(range(n))\n",
    "qc.barrier()\n",
    "#Controlled unitaries\n",
    "r = 1\n",
    "for cq in range(n):\n",
    "    for i in range(r):\n",
    "        qc.cu1(th, cq, n)\n",
    "    r *= 2\n",
    "qc.barrier()\n",
    "#iQFT\n",
    "# Swaps\n",
    "for q in range(n // 2):\n",
    "    qc.swap(q, n - 1 - q)\n",
    "for i in range(n):\n",
    "    for j in range(i):\n",
    "        qc.cu1(- np.pi / 2**(i - j), j, i)\n",
    "    qc.h(i)\n",
    "qc.barrier()\n",
    "#Measurements\n",
    "qc.measure(range(n), range(n))"
   ]
  },
  {
   "cell_type": "code",
   "execution_count": 21,
   "metadata": {},
   "outputs": [
    {
     "data": {
      "text/html": [
       "<pre style=\"word-wrap: normal;white-space: pre;background: #fff0;line-height: 1.1;font-family: &quot;Courier New&quot;,Courier,monospace\">           ░ ┌───┐ ░                                                       »\n",
       "q_0: ──────░─┤ H ├─░──■────────────────────────────────────────────────────»\n",
       "           ░ ├───┤ ░  │                                                    »\n",
       "q_1: ──────░─┤ H ├─░──┼────────■────────■──────────────────────────────────»\n",
       "           ░ ├───┤ ░  │        │        │                                  »\n",
       "q_2: ──────░─┤ H ├─░──┼────────┼────────┼────────■────────■────────■───────»\n",
       "           ░ ├───┤ ░  │        │        │        │        │        │       »\n",
       "q_3: ──────░─┤ H ├─░──┼────────┼────────┼────────┼────────┼────────┼───────»\n",
       "           ░ ├───┤ ░  │        │        │        │        │        │       »\n",
       "q_4: ──────░─┤ H ├─░──┼────────┼────────┼────────┼────────┼────────┼───────»\n",
       "     ┌───┐ ░ └───┘ ░  │2.8166  │2.8166  │2.8166  │2.8166  │2.8166  │2.8166 »\n",
       "q_5: ┤ X ├─░───────░──■────────■────────■────────■────────■────────■───────»\n",
       "     └───┘ ░       ░                                                       »\n",
       "c: 5/══════════════════════════════════════════════════════════════════════»\n",
       "                                                                           »\n",
       "«                                                                             »\n",
       "«q_0: ────────────────────────────────────────────────────────────────────────»\n",
       "«                                                                             »\n",
       "«q_1: ────────────────────────────────────────────────────────────────────────»\n",
       "«                                                                             »\n",
       "«q_2: ─■──────────────────────────────────────────────────────────────────────»\n",
       "«      │                                                                      »\n",
       "«q_3: ─┼────────■────────■────────■────────■────────■────────■────────■───────»\n",
       "«      │        │        │        │        │        │        │        │       »\n",
       "«q_4: ─┼────────┼────────┼────────┼────────┼────────┼────────┼────────┼───────»\n",
       "«      │2.8166  │2.8166  │2.8166  │2.8166  │2.8166  │2.8166  │2.8166  │2.8166 »\n",
       "«q_5: ─■────────■────────■────────■────────■────────■────────■────────■───────»\n",
       "«                                                                             »\n",
       "«c: 5/════════════════════════════════════════════════════════════════════════»\n",
       "«                                                                             »\n",
       "«                                                                             »\n",
       "«q_0: ────────────────────────────────────────────────────────────────────────»\n",
       "«                                                                             »\n",
       "«q_1: ────────────────────────────────────────────────────────────────────────»\n",
       "«                                                                             »\n",
       "«q_2: ────────────────────────────────────────────────────────────────────────»\n",
       "«                                                                             »\n",
       "«q_3: ─■──────────────────────────────────────────────────────────────────────»\n",
       "«      │                                                                      »\n",
       "«q_4: ─┼────────■────────■────────■────────■────────■────────■────────■───────»\n",
       "«      │2.8166  │2.8166  │2.8166  │2.8166  │2.8166  │2.8166  │2.8166  │2.8166 »\n",
       "«q_5: ─■────────■────────■────────■────────■────────■────────■────────■───────»\n",
       "«                                                                             »\n",
       "«c: 5/════════════════════════════════════════════════════════════════════════»\n",
       "«                                                                             »\n",
       "«                                                                             »\n",
       "«q_0: ────────────────────────────────────────────────────────────────────────»\n",
       "«                                                                             »\n",
       "«q_1: ────────────────────────────────────────────────────────────────────────»\n",
       "«                                                                             »\n",
       "«q_2: ────────────────────────────────────────────────────────────────────────»\n",
       "«                                                                             »\n",
       "«q_3: ────────────────────────────────────────────────────────────────────────»\n",
       "«                                                                             »\n",
       "«q_4: ─■────────■────────■────────■────────■────────■────────■────────■───────»\n",
       "«      │2.8166  │2.8166  │2.8166  │2.8166  │2.8166  │2.8166  │2.8166  │2.8166 »\n",
       "«q_5: ─■────────■────────■────────■────────■────────■────────■────────■───────»\n",
       "«                                                                             »\n",
       "«c: 5/════════════════════════════════════════════════════════════════════════»\n",
       "«                                                                             »\n",
       "«               ░    ┌───┐                                                  »\n",
       "«q_0: ──────────░──X─┤ H ├─■────────────■───────────────■───────────────────»\n",
       "«               ░  │ └───┘ │-pi/2 ┌───┐ │               │                   »\n",
       "«q_1: ──────────░──┼───X───■──────┤ H ├─┼───────■───────┼────────────■──────»\n",
       "«               ░  │   │          └───┘ │-pi/4  │-pi/2  │      ┌───┐ │      »\n",
       "«q_2: ──────────░──┼───┼────────────────■───────■───────┼──────┤ H ├─┼──────»\n",
       "«               ░  │   │                                │-pi/8 └───┘ │-pi/4 »\n",
       "«q_3: ──────────░──┼───X────────────────────────────────■────────────■──────»\n",
       "«               ░  │                                                        »\n",
       "«q_4: ─■────────░──X────────────────────────────────────────────────────────»\n",
       "«      │2.8166  ░                                                           »\n",
       "«q_5: ─■────────░───────────────────────────────────────────────────────────»\n",
       "«               ░                                                           »\n",
       "«c: 5/══════════════════════════════════════════════════════════════════════»\n",
       "«                                                                           »\n",
       "«                                                         ░ ┌─┐            \n",
       "«q_0: ─■──────────────────────────────────────────────────░─┤M├────────────\n",
       "«      │                                                  ░ └╥┘┌─┐         \n",
       "«q_1: ─┼────────────────■─────────────────────────────────░──╫─┤M├─────────\n",
       "«      │                │                                 ░  ║ └╥┘┌─┐      \n",
       "«q_2: ─┼────────■───────┼────────────■────────────────────░──╫──╫─┤M├──────\n",
       "«      │        │-pi/2  │      ┌───┐ │                    ░  ║  ║ └╥┘┌─┐   \n",
       "«q_3: ─┼────────■───────┼──────┤ H ├─┼───────■────────────░──╫──╫──╫─┤M├───\n",
       "«      │-pi/16          │-pi/8 └───┘ │-pi/4  │-pi/2 ┌───┐ ░  ║  ║  ║ └╥┘┌─┐\n",
       "«q_4: ─■────────────────■────────────■───────■──────┤ H ├─░──╫──╫──╫──╫─┤M├\n",
       "«                                                   └───┘ ░  ║  ║  ║  ║ └╥┘\n",
       "«q_5: ────────────────────────────────────────────────────░──╫──╫──╫──╫──╫─\n",
       "«                                                         ░  ║  ║  ║  ║  ║ \n",
       "«c: 5/═══════════════════════════════════════════════════════╩══╩══╩══╩══╩═\n",
       "«                                                            0  1  2  3  4 </pre>"
      ],
      "text/plain": [
       "           ░ ┌───┐ ░                                                       »\n",
       "q_0: ──────░─┤ H ├─░──■────────────────────────────────────────────────────»\n",
       "           ░ ├───┤ ░  │                                                    »\n",
       "q_1: ──────░─┤ H ├─░──┼────────■────────■──────────────────────────────────»\n",
       "           ░ ├───┤ ░  │        │        │                                  »\n",
       "q_2: ──────░─┤ H ├─░──┼────────┼────────┼────────■────────■────────■───────»\n",
       "           ░ ├───┤ ░  │        │        │        │        │        │       »\n",
       "q_3: ──────░─┤ H ├─░──┼────────┼────────┼────────┼────────┼────────┼───────»\n",
       "           ░ ├───┤ ░  │        │        │        │        │        │       »\n",
       "q_4: ──────░─┤ H ├─░──┼────────┼────────┼────────┼────────┼────────┼───────»\n",
       "     ┌───┐ ░ └───┘ ░  │2.8166  │2.8166  │2.8166  │2.8166  │2.8166  │2.8166 »\n",
       "q_5: ┤ X ├─░───────░──■────────■────────■────────■────────■────────■───────»\n",
       "     └───┘ ░       ░                                                       »\n",
       "c: 5/══════════════════════════════════════════════════════════════════════»\n",
       "                                                                           »\n",
       "«                                                                             »\n",
       "«q_0: ────────────────────────────────────────────────────────────────────────»\n",
       "«                                                                             »\n",
       "«q_1: ────────────────────────────────────────────────────────────────────────»\n",
       "«                                                                             »\n",
       "«q_2: ─■──────────────────────────────────────────────────────────────────────»\n",
       "«      │                                                                      »\n",
       "«q_3: ─┼────────■────────■────────■────────■────────■────────■────────■───────»\n",
       "«      │        │        │        │        │        │        │        │       »\n",
       "«q_4: ─┼────────┼────────┼────────┼────────┼────────┼────────┼────────┼───────»\n",
       "«      │2.8166  │2.8166  │2.8166  │2.8166  │2.8166  │2.8166  │2.8166  │2.8166 »\n",
       "«q_5: ─■────────■────────■────────■────────■────────■────────■────────■───────»\n",
       "«                                                                             »\n",
       "«c: 5/════════════════════════════════════════════════════════════════════════»\n",
       "«                                                                             »\n",
       "«                                                                             »\n",
       "«q_0: ────────────────────────────────────────────────────────────────────────»\n",
       "«                                                                             »\n",
       "«q_1: ────────────────────────────────────────────────────────────────────────»\n",
       "«                                                                             »\n",
       "«q_2: ────────────────────────────────────────────────────────────────────────»\n",
       "«                                                                             »\n",
       "«q_3: ─■──────────────────────────────────────────────────────────────────────»\n",
       "«      │                                                                      »\n",
       "«q_4: ─┼────────■────────■────────■────────■────────■────────■────────■───────»\n",
       "«      │2.8166  │2.8166  │2.8166  │2.8166  │2.8166  │2.8166  │2.8166  │2.8166 »\n",
       "«q_5: ─■────────■────────■────────■────────■────────■────────■────────■───────»\n",
       "«                                                                             »\n",
       "«c: 5/════════════════════════════════════════════════════════════════════════»\n",
       "«                                                                             »\n",
       "«                                                                             »\n",
       "«q_0: ────────────────────────────────────────────────────────────────────────»\n",
       "«                                                                             »\n",
       "«q_1: ────────────────────────────────────────────────────────────────────────»\n",
       "«                                                                             »\n",
       "«q_2: ────────────────────────────────────────────────────────────────────────»\n",
       "«                                                                             »\n",
       "«q_3: ────────────────────────────────────────────────────────────────────────»\n",
       "«                                                                             »\n",
       "«q_4: ─■────────■────────■────────■────────■────────■────────■────────■───────»\n",
       "«      │2.8166  │2.8166  │2.8166  │2.8166  │2.8166  │2.8166  │2.8166  │2.8166 »\n",
       "«q_5: ─■────────■────────■────────■────────■────────■────────■────────■───────»\n",
       "«                                                                             »\n",
       "«c: 5/════════════════════════════════════════════════════════════════════════»\n",
       "«                                                                             »\n",
       "«               ░    ┌───┐                                                  »\n",
       "«q_0: ──────────░──X─┤ H ├─■────────────■───────────────■───────────────────»\n",
       "«               ░  │ └───┘ │-pi/2 ┌───┐ │               │                   »\n",
       "«q_1: ──────────░──┼───X───■──────┤ H ├─┼───────■───────┼────────────■──────»\n",
       "«               ░  │   │          └───┘ │-pi/4  │-pi/2  │      ┌───┐ │      »\n",
       "«q_2: ──────────░──┼───┼────────────────■───────■───────┼──────┤ H ├─┼──────»\n",
       "«               ░  │   │                                │-pi/8 └───┘ │-pi/4 »\n",
       "«q_3: ──────────░──┼───X────────────────────────────────■────────────■──────»\n",
       "«               ░  │                                                        »\n",
       "«q_4: ─■────────░──X────────────────────────────────────────────────────────»\n",
       "«      │2.8166  ░                                                           »\n",
       "«q_5: ─■────────░───────────────────────────────────────────────────────────»\n",
       "«               ░                                                           »\n",
       "«c: 5/══════════════════════════════════════════════════════════════════════»\n",
       "«                                                                           »\n",
       "«                                                         ░ ┌─┐            \n",
       "«q_0: ─■──────────────────────────────────────────────────░─┤M├────────────\n",
       "«      │                                                  ░ └╥┘┌─┐         \n",
       "«q_1: ─┼────────────────■─────────────────────────────────░──╫─┤M├─────────\n",
       "«      │                │                                 ░  ║ └╥┘┌─┐      \n",
       "«q_2: ─┼────────■───────┼────────────■────────────────────░──╫──╫─┤M├──────\n",
       "«      │        │-pi/2  │      ┌───┐ │                    ░  ║  ║ └╥┘┌─┐   \n",
       "«q_3: ─┼────────■───────┼──────┤ H ├─┼───────■────────────░──╫──╫──╫─┤M├───\n",
       "«      │-pi/16          │-pi/8 └───┘ │-pi/4  │-pi/2 ┌───┐ ░  ║  ║  ║ └╥┘┌─┐\n",
       "«q_4: ─■────────────────■────────────■───────■──────┤ H ├─░──╫──╫──╫──╫─┤M├\n",
       "«                                                   └───┘ ░  ║  ║  ║  ║ └╥┘\n",
       "«q_5: ────────────────────────────────────────────────────░──╫──╫──╫──╫──╫─\n",
       "«                                                         ░  ║  ║  ║  ║  ║ \n",
       "«c: 5/═══════════════════════════════════════════════════════╩══╩══╩══╩══╩═\n",
       "«                                                            0  1  2  3  4 "
      ]
     },
     "execution_count": 21,
     "metadata": {},
     "output_type": "execute_result"
    }
   ],
   "source": [
    "qc.draw()"
   ]
  },
  {
   "cell_type": "code",
   "execution_count": 22,
   "metadata": {},
   "outputs": [],
   "source": [
    "res = qk.execute(qc, backend = simd_backend, shots = 262144).result()"
   ]
  },
  {
   "cell_type": "code",
   "execution_count": 23,
   "metadata": {},
   "outputs": [
    {
     "data": {
      "text/plain": [
       "<qiskit.result.result.Result at 0x1270f2cd0>"
      ]
     },
     "execution_count": 23,
     "metadata": {},
     "output_type": "execute_result"
    }
   ],
   "source": [
    "res"
   ]
  },
  {
   "cell_type": "code",
   "execution_count": 24,
   "metadata": {},
   "outputs": [],
   "source": [
    "cs = res.get_counts()"
   ]
  },
  {
   "cell_type": "code",
   "execution_count": 25,
   "metadata": {},
   "outputs": [],
   "source": [
    "def bit_str(x, n):\n",
    "    body = \"{0:b}\".format(x)\n",
    "    return '0' * (n - len(body)) + body"
   ]
  },
  {
   "cell_type": "code",
   "execution_count": 26,
   "metadata": {},
   "outputs": [],
   "source": [
    "ns = np.arange(2**n)\n",
    "fs = np.array([cs[bit_str(it, n)] if bit_str(it, n) in cs else 0. for it in ns])\n",
    "fs = fs / np.sum(fs)"
   ]
  },
  {
   "cell_type": "code",
   "execution_count": 27,
   "metadata": {},
   "outputs": [
    {
     "data": {
      "text/plain": [
       "array([0.00077438, 0.00075531, 0.0008049 , 0.00091171, 0.00094986,\n",
       "       0.00114822, 0.00141144, 0.00175095, 0.00209808, 0.00299072,\n",
       "       0.00442123, 0.0070343 , 0.01450348, 0.04366684, 0.66718292,\n",
       "       0.18484116, 0.02898407, 0.01127625, 0.00600433, 0.00358963,\n",
       "       0.00257492, 0.00214005, 0.00170898, 0.00144196, 0.00122833,\n",
       "       0.00105667, 0.00095367, 0.00085449, 0.00067902, 0.00072479,\n",
       "       0.00076294, 0.00077438])"
      ]
     },
     "execution_count": 27,
     "metadata": {},
     "output_type": "execute_result"
    }
   ],
   "source": [
    "fs"
   ]
  },
  {
   "cell_type": "code",
   "execution_count": 28,
   "metadata": {},
   "outputs": [
    {
     "data": {
      "image/png": "[encoded data removed]",
      "text/plain": [
       "<Figure size 504x360 with 1 Axes>"
      ]
     },
     "execution_count": 28,
     "metadata": {},
     "output_type": "execute_result"
    }
   ],
   "source": [
    "plot_histogram(cs)"
   ]
  },
  {
   "cell_type": "code",
   "execution_count": 29,
   "metadata": {},
   "outputs": [
    {
     "data": {
      "text/plain": [
       "<matplotlib.collections.PathCollection at 0x1272736a0>"
      ]
     },
     "execution_count": 29,
     "metadata": {},
     "output_type": "execute_result"
    },
    {
     "data": {
      "image/png": "[encoded data removed]",
      "text/plain": [
       "<Figure size 432x288 with 1 Axes>"
      ]
     },
     "metadata": {
      "needs_background": "light"
     },
     "output_type": "display_data"
    }
   ],
   "source": [
    "plt.scatter(ns, fs)"
   ]
  },
  {
   "cell_type": "code",
   "execution_count": 30,
   "metadata": {},
   "outputs": [],
   "source": [
    "def model(theta, nq):\n",
    "    nb = 2**nq\n",
    "    xs = np.arange(nb)\n",
    "    res = np.zeros(nb, dtype = 'complex128')\n",
    "    for j in range(nb):\n",
    "        for k in range(nb):\n",
    "            res[j] += np.exp(2j * np.pi * k * (theta - j / nb))\n",
    "    return res"
   ]
  },
  {
   "cell_type": "code",
   "execution_count": 31,
   "metadata": {},
   "outputs": [],
   "source": [
    "def sq_mod(theta, nq):\n",
    "    r = model(theta, nq)\n",
    "    sr = np.real(np.conjugate(r) * r).astype(dtype = 'float64')\n",
    "    return sr / np.sum(sr)"
   ]
  },
  {
   "cell_type": "code",
   "execution_count": 32,
   "metadata": {},
   "outputs": [
    {
     "data": {
      "text/plain": [
       "[<matplotlib.lines.Line2D at 0x1272cff40>]"
      ]
     },
     "execution_count": 32,
     "metadata": {},
     "output_type": "execute_result"
    },
    {
     "data": {
      "image/png": "[encoded data removed]",
      "text/plain": [
       "<Figure size 432x288 with 1 Axes>"
      ]
     },
     "metadata": {
      "needs_background": "light"
     },
     "output_type": "display_data"
    }
   ],
   "source": [
    "plt.plot(sq_mod(13 / 29, n))"
   ]
  },
  {
   "cell_type": "code",
   "execution_count": 33,
   "metadata": {},
   "outputs": [],
   "source": [
    "from scipy.optimize import *"
   ]
  },
  {
   "cell_type": "code",
   "execution_count": 34,
   "metadata": {},
   "outputs": [],
   "source": [
    "init_guess = float(np.argmax(fs) / 2**n)\n",
    "dfs = fs.astype(dtype = 'float64')\n",
    "dsqm = lambda x: np.sum((dfs - sq_mod(x, n))**2)\n",
    "opt_res = minimize(dsqm, init_guess, method = 'CG')"
   ]
  },
  {
   "cell_type": "code",
   "execution_count": 35,
   "metadata": {},
   "outputs": [
    {
     "data": {
      "text/plain": [
       "     fun: 2.147899039334766e-06\n",
       "     jac: array([-1.75209607e-08])\n",
       " message: 'Optimization terminated successfully.'\n",
       "    nfev: 22\n",
       "     nit: 1\n",
       "    njev: 11\n",
       "  status: 0\n",
       " success: True\n",
       "       x: array([0.44825606])"
      ]
     },
     "execution_count": 35,
     "metadata": {},
     "output_type": "execute_result"
    }
   ],
   "source": [
    "opt_res"
   ]
  },
  {
   "cell_type": "code",
   "execution_count": 36,
   "metadata": {},
   "outputs": [
    {
     "data": {
      "image/png": "[encoded data removed]",
      "text/plain": [
       "<Figure size 900x600 with 1 Axes>"
      ]
     },
     "metadata": {
      "needs_background": "light"
     },
     "output_type": "display_data"
    }
   ],
   "source": [
    "plt.figure(figsize = (7.5, 5), dpi = 120)\n",
    "plt.scatter(ns, fs, label = 'real')\n",
    "plt.plot(ns, fs)\n",
    "plt.scatter(ns, sq_mod(13 / 29, n), label = 'exact')\n",
    "plt.plot(ns, sq_mod(13 / 29, n))\n",
    "plt.scatter(ns, sq_mod(init_guess, n), label = 'init guess')\n",
    "plt.plot(ns, sq_mod(init_guess, n))\n",
    "plt.scatter(ns, sq_mod(opt_res['x'], n), label = 'result')\n",
    "plt.plot(ns, sq_mod(opt_res['x'] , n))\n",
    "plt.legend()\n",
    "plt.grid()"
   ]
  },
  {
   "cell_type": "markdown",
   "metadata": {},
   "source": [
    "We have very realistic result"
   ]
  },
  {
   "cell_type": "code",
   "execution_count": 37,
   "metadata": {},
   "outputs": [
    {
     "data": {
      "text/plain": [
       "array([-1.98017983e-05])"
      ]
     },
     "execution_count": 37,
     "metadata": {},
     "output_type": "execute_result"
    }
   ],
   "source": [
    "opt_res['x'] - 13 / 29"
   ]
  },
  {
   "cell_type": "code",
   "execution_count": null,
   "metadata": {},
   "outputs": [],
   "source": []
  },
  {
   "cell_type": "code",
   "execution_count": null,
   "metadata": {},
   "outputs": [],
   "source": []
  },
  {
   "cell_type": "code",
   "execution_count": null,
   "metadata": {},
   "outputs": [],
   "source": []
  }
 ],
 "metadata": {
  "kernelspec": {
   "display_name": "Python 3.8.3 64-bit",
   "language": "python",
   "name": "python38364bit3053ff7d49644525b06f57e8a0005985"
  },
  "language_info": {
   "codemirror_mode": {
    "name": "ipython",
    "version": 3
   },
   "file_extension": ".py",
   "mimetype": "text/x-python",
   "name": "python",
   "nbconvert_exporter": "python",
   "pygments_lexer": "ipython3",
   "version": "3.8.5"
  }
 },
 "nbformat": 4,
 "nbformat_minor": 4
}
