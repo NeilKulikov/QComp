{
 "cells": [
  {
   "cell_type": "markdown",
   "metadata": {},
   "source": [
    "# HW №1\n",
    "## Task 1"
   ]
  },
  {
   "cell_type": "code",
   "execution_count": 1,
   "metadata": {},
   "outputs": [],
   "source": [
    "%%capture\n",
    "!pip3 install qiskit"
   ]
  },
  {
   "cell_type": "code",
   "execution_count": 2,
   "metadata": {},
   "outputs": [],
   "source": [
    "import numpy as np\n",
    "import qiskit as qk\n",
    "from sympy import *"
   ]
  },
  {
   "cell_type": "code",
   "execution_count": 3,
   "metadata": {},
   "outputs": [],
   "source": [
    "with open('./token', 'r') as token_file:\n",
    "    token = token_file.read()"
   ]
  },
  {
   "cell_type": "code",
   "execution_count": 4,
   "metadata": {},
   "outputs": [],
   "source": [
    "%%capture\n",
    "qk.IBMQ.save_account(token, overwrite = True)\n",
    "qk.IBMQ.load_account()"
   ]
  },
  {
   "cell_type": "code",
   "execution_count": 5,
   "metadata": {},
   "outputs": [],
   "source": [
    "provider = qk.IBMQ.get_provider(hub = 'ibm-q')"
   ]
  },
  {
   "cell_type": "code",
   "execution_count": 6,
   "metadata": {},
   "outputs": [],
   "source": [
    "devices = provider.backends(filters=lambda x: (3 <= x.configuration().n_qubits <= 5) and not x.configuration().simulator)"
   ]
  },
  {
   "cell_type": "code",
   "execution_count": 7,
   "metadata": {},
   "outputs": [
    {
     "data": {
      "text/plain": [
       "[<IBMQBackend('ibmqx2') from IBMQ(hub='ibm-q', group='open', project='main')>,\n",
       " <IBMQBackend('ibmq_vigo') from IBMQ(hub='ibm-q', group='open', project='main')>,\n",
       " <IBMQBackend('ibmq_ourense') from IBMQ(hub='ibm-q', group='open', project='main')>,\n",
       " <IBMQBackend('ibmq_valencia') from IBMQ(hub='ibm-q', group='open', project='main')>,\n",
       " <IBMQBackend('ibmq_london') from IBMQ(hub='ibm-q', group='open', project='main')>,\n",
       " <IBMQBackend('ibmq_burlington') from IBMQ(hub='ibm-q', group='open', project='main')>,\n",
       " <IBMQBackend('ibmq_essex') from IBMQ(hub='ibm-q', group='open', project='main')>,\n",
       " <IBMQBackend('ibmq_santiago') from IBMQ(hub='ibm-q', group='open', project='main')>]"
      ]
     },
     "execution_count": 7,
     "metadata": {},
     "output_type": "execute_result"
    }
   ],
   "source": [
    "devices"
   ]
  },
  {
   "cell_type": "code",
   "execution_count": 8,
   "metadata": {},
   "outputs": [
    {
     "ename": "KeyboardInterrupt",
     "evalue": "",
     "output_type": "error",
     "traceback": [
      "\u001b[0;31m---------------------------------------------------------------------------\u001b[0m",
      "\u001b[0;31mKeyboardInterrupt\u001b[0m                         Traceback (most recent call last)",
      "\u001b[0;32m<ipython-input-8-f841107cefa7>\u001b[0m in \u001b[0;36m<module>\u001b[0;34m\u001b[0m\n\u001b[0;32m----> 1\u001b[0;31m \u001b[0mreal_backend\u001b[0m \u001b[0;34m=\u001b[0m \u001b[0mqk\u001b[0m\u001b[0;34m.\u001b[0m\u001b[0mproviders\u001b[0m\u001b[0;34m.\u001b[0m\u001b[0mibmq\u001b[0m\u001b[0;34m.\u001b[0m\u001b[0mleast_busy\u001b[0m\u001b[0;34m(\u001b[0m\u001b[0mdevices\u001b[0m\u001b[0;34m)\u001b[0m\u001b[0;34m\u001b[0m\u001b[0;34m\u001b[0m\u001b[0m\n\u001b[0m\u001b[1;32m      2\u001b[0m \u001b[0mprint\u001b[0m\u001b[0;34m(\u001b[0m\u001b[0mreal_backend\u001b[0m\u001b[0;34m.\u001b[0m\u001b[0mconfiguration\u001b[0m\u001b[0;34m(\u001b[0m\u001b[0;34m)\u001b[0m\u001b[0;34m.\u001b[0m\u001b[0mn_qubits\u001b[0m\u001b[0;34m)\u001b[0m\u001b[0;34m\u001b[0m\u001b[0;34m\u001b[0m\u001b[0m\n",
      "\u001b[0;32m/usr/local/lib/python3.8/site-packages/qiskit/providers/ibmq/__init__.py\u001b[0m in \u001b[0;36mleast_busy\u001b[0;34m(backends, reservation_lookahead)\u001b[0m\n\u001b[1;32m    149\u001b[0m             \u001b[0;32mif\u001b[0m \u001b[0mreservation_lookahead\u001b[0m \u001b[0;32mand\u001b[0m \u001b[0misinstance\u001b[0m\u001b[0;34m(\u001b[0m\u001b[0mback\u001b[0m\u001b[0;34m,\u001b[0m \u001b[0mIBMQBackend\u001b[0m\u001b[0;34m)\u001b[0m\u001b[0;34m:\u001b[0m\u001b[0;34m\u001b[0m\u001b[0;34m\u001b[0m\u001b[0m\n\u001b[1;32m    150\u001b[0m                 \u001b[0mend_time\u001b[0m \u001b[0;34m=\u001b[0m \u001b[0mnow\u001b[0m \u001b[0;34m+\u001b[0m \u001b[0mtimedelta\u001b[0m\u001b[0;34m(\u001b[0m\u001b[0mminutes\u001b[0m\u001b[0;34m=\u001b[0m\u001b[0mreservation_lookahead\u001b[0m\u001b[0;34m)\u001b[0m\u001b[0;34m\u001b[0m\u001b[0;34m\u001b[0m\u001b[0m\n\u001b[0;32m--> 151\u001b[0;31m                 \u001b[0;32mif\u001b[0m \u001b[0mback\u001b[0m\u001b[0;34m.\u001b[0m\u001b[0mreservations\u001b[0m\u001b[0;34m(\u001b[0m\u001b[0mnow\u001b[0m\u001b[0;34m,\u001b[0m \u001b[0mend_time\u001b[0m\u001b[0;34m)\u001b[0m\u001b[0;34m:\u001b[0m\u001b[0;34m\u001b[0m\u001b[0;34m\u001b[0m\u001b[0m\n\u001b[0m\u001b[1;32m    152\u001b[0m                     \u001b[0;32mcontinue\u001b[0m\u001b[0;34m\u001b[0m\u001b[0;34m\u001b[0m\u001b[0m\n\u001b[1;32m    153\u001b[0m             \u001b[0mcandidates\u001b[0m\u001b[0;34m.\u001b[0m\u001b[0mappend\u001b[0m\u001b[0;34m(\u001b[0m\u001b[0mback\u001b[0m\u001b[0;34m)\u001b[0m\u001b[0;34m\u001b[0m\u001b[0;34m\u001b[0m\u001b[0m\n",
      "\u001b[0;32m/usr/local/lib/python3.8/site-packages/qiskit/providers/ibmq/ibmqbackend.py\u001b[0m in \u001b[0;36mreservations\u001b[0;34m(self, start_datetime, end_datetime)\u001b[0m\n\u001b[1;32m    539\u001b[0m         \u001b[0mstart_datetime\u001b[0m \u001b[0;34m=\u001b[0m \u001b[0mlocal_to_utc\u001b[0m\u001b[0;34m(\u001b[0m\u001b[0mstart_datetime\u001b[0m\u001b[0;34m)\u001b[0m \u001b[0;32mif\u001b[0m \u001b[0mstart_datetime\u001b[0m \u001b[0;32melse\u001b[0m \u001b[0;32mNone\u001b[0m\u001b[0;34m\u001b[0m\u001b[0;34m\u001b[0m\u001b[0m\n\u001b[1;32m    540\u001b[0m         \u001b[0mend_datetime\u001b[0m \u001b[0;34m=\u001b[0m \u001b[0mlocal_to_utc\u001b[0m\u001b[0;34m(\u001b[0m\u001b[0mend_datetime\u001b[0m\u001b[0;34m)\u001b[0m \u001b[0;32mif\u001b[0m \u001b[0mend_datetime\u001b[0m \u001b[0;32melse\u001b[0m \u001b[0;32mNone\u001b[0m\u001b[0;34m\u001b[0m\u001b[0;34m\u001b[0m\u001b[0m\n\u001b[0;32m--> 541\u001b[0;31m         raw_response = self._api_client.backend_reservations(\n\u001b[0m\u001b[1;32m    542\u001b[0m             self.name(), start_datetime, end_datetime)\n\u001b[1;32m    543\u001b[0m         \u001b[0;32mreturn\u001b[0m \u001b[0mconvert_reservation_data\u001b[0m\u001b[0;34m(\u001b[0m\u001b[0mraw_response\u001b[0m\u001b[0;34m,\u001b[0m \u001b[0mself\u001b[0m\u001b[0;34m.\u001b[0m\u001b[0mname\u001b[0m\u001b[0;34m(\u001b[0m\u001b[0;34m)\u001b[0m\u001b[0;34m)\u001b[0m\u001b[0;34m\u001b[0m\u001b[0;34m\u001b[0m\u001b[0m\n",
      "\u001b[0;32m/usr/local/lib/python3.8/site-packages/qiskit/providers/ibmq/api/clients/account.py\u001b[0m in \u001b[0;36mbackend_reservations\u001b[0;34m(self, backend_name, start_datetime, end_datetime)\u001b[0m\n\u001b[1;32m    145\u001b[0m         \"\"\"\n\u001b[1;32m    146\u001b[0m         \u001b[0mbackend_api\u001b[0m \u001b[0;34m=\u001b[0m \u001b[0mBackend\u001b[0m\u001b[0;34m(\u001b[0m\u001b[0mself\u001b[0m\u001b[0;34m.\u001b[0m\u001b[0m_session\u001b[0m\u001b[0;34m,\u001b[0m \u001b[0mbackend_name\u001b[0m\u001b[0;34m,\u001b[0m \u001b[0;34m'/Network'\u001b[0m\u001b[0;34m)\u001b[0m\u001b[0;34m\u001b[0m\u001b[0;34m\u001b[0m\u001b[0m\n\u001b[0;32m--> 147\u001b[0;31m         \u001b[0;32mreturn\u001b[0m \u001b[0mbackend_api\u001b[0m\u001b[0;34m.\u001b[0m\u001b[0mreservations\u001b[0m\u001b[0;34m(\u001b[0m\u001b[0mstart_datetime\u001b[0m\u001b[0;34m,\u001b[0m \u001b[0mend_datetime\u001b[0m\u001b[0;34m)\u001b[0m\u001b[0;34m\u001b[0m\u001b[0;34m\u001b[0m\u001b[0m\n\u001b[0m\u001b[1;32m    148\u001b[0m \u001b[0;34m\u001b[0m\u001b[0m\n\u001b[1;32m    149\u001b[0m     \u001b[0;32mdef\u001b[0m \u001b[0mmy_reservations\u001b[0m\u001b[0;34m(\u001b[0m\u001b[0mself\u001b[0m\u001b[0;34m)\u001b[0m \u001b[0;34m->\u001b[0m \u001b[0mList\u001b[0m\u001b[0;34m:\u001b[0m\u001b[0;34m\u001b[0m\u001b[0;34m\u001b[0m\u001b[0m\n",
      "\u001b[0;32m/usr/local/lib/python3.8/site-packages/qiskit/providers/ibmq/api/rest/backend.py\u001b[0m in \u001b[0;36mreservations\u001b[0;34m(self, start_datetime, end_datetime)\u001b[0m\n\u001b[1;32m    143\u001b[0m             \u001b[0mparams\u001b[0m\u001b[0;34m[\u001b[0m\u001b[0;34m'endDate'\u001b[0m\u001b[0;34m]\u001b[0m \u001b[0;34m=\u001b[0m \u001b[0mend_datetime\u001b[0m\u001b[0;34m.\u001b[0m\u001b[0misoformat\u001b[0m\u001b[0;34m(\u001b[0m\u001b[0;34m)\u001b[0m\u001b[0;34m\u001b[0m\u001b[0;34m\u001b[0m\u001b[0m\n\u001b[1;32m    144\u001b[0m         \u001b[0murl\u001b[0m \u001b[0;34m=\u001b[0m \u001b[0mself\u001b[0m\u001b[0;34m.\u001b[0m\u001b[0mget_url\u001b[0m\u001b[0;34m(\u001b[0m\u001b[0;34m'bookings'\u001b[0m\u001b[0;34m)\u001b[0m\u001b[0;34m\u001b[0m\u001b[0;34m\u001b[0m\u001b[0m\n\u001b[0;32m--> 145\u001b[0;31m         \u001b[0;32mreturn\u001b[0m \u001b[0mself\u001b[0m\u001b[0;34m.\u001b[0m\u001b[0msession\u001b[0m\u001b[0;34m.\u001b[0m\u001b[0mget\u001b[0m\u001b[0;34m(\u001b[0m\u001b[0murl\u001b[0m\u001b[0;34m,\u001b[0m \u001b[0mparams\u001b[0m\u001b[0;34m=\u001b[0m\u001b[0mparams\u001b[0m\u001b[0;34m)\u001b[0m\u001b[0;34m.\u001b[0m\u001b[0mjson\u001b[0m\u001b[0;34m(\u001b[0m\u001b[0;34m)\u001b[0m\u001b[0;34m\u001b[0m\u001b[0;34m\u001b[0m\u001b[0m\n\u001b[0m",
      "\u001b[0;32m/usr/local/lib/python3.8/site-packages/requests/sessions.py\u001b[0m in \u001b[0;36mget\u001b[0;34m(self, url, **kwargs)\u001b[0m\n\u001b[1;32m    541\u001b[0m \u001b[0;34m\u001b[0m\u001b[0m\n\u001b[1;32m    542\u001b[0m         \u001b[0mkwargs\u001b[0m\u001b[0;34m.\u001b[0m\u001b[0msetdefault\u001b[0m\u001b[0;34m(\u001b[0m\u001b[0;34m'allow_redirects'\u001b[0m\u001b[0;34m,\u001b[0m \u001b[0;32mTrue\u001b[0m\u001b[0;34m)\u001b[0m\u001b[0;34m\u001b[0m\u001b[0;34m\u001b[0m\u001b[0m\n\u001b[0;32m--> 543\u001b[0;31m         \u001b[0;32mreturn\u001b[0m \u001b[0mself\u001b[0m\u001b[0;34m.\u001b[0m\u001b[0mrequest\u001b[0m\u001b[0;34m(\u001b[0m\u001b[0;34m'GET'\u001b[0m\u001b[0;34m,\u001b[0m \u001b[0murl\u001b[0m\u001b[0;34m,\u001b[0m \u001b[0;34m**\u001b[0m\u001b[0mkwargs\u001b[0m\u001b[0;34m)\u001b[0m\u001b[0;34m\u001b[0m\u001b[0;34m\u001b[0m\u001b[0m\n\u001b[0m\u001b[1;32m    544\u001b[0m \u001b[0;34m\u001b[0m\u001b[0m\n\u001b[1;32m    545\u001b[0m     \u001b[0;32mdef\u001b[0m \u001b[0moptions\u001b[0m\u001b[0;34m(\u001b[0m\u001b[0mself\u001b[0m\u001b[0;34m,\u001b[0m \u001b[0murl\u001b[0m\u001b[0;34m,\u001b[0m \u001b[0;34m**\u001b[0m\u001b[0mkwargs\u001b[0m\u001b[0;34m)\u001b[0m\u001b[0;34m:\u001b[0m\u001b[0;34m\u001b[0m\u001b[0;34m\u001b[0m\u001b[0m\n",
      "\u001b[0;32m/usr/local/lib/python3.8/site-packages/qiskit/providers/ibmq/api/session.py\u001b[0m in \u001b[0;36mrequest\u001b[0;34m(self, method, url, bare, **kwargs)\u001b[0m\n\u001b[1;32m    269\u001b[0m         \u001b[0;32mtry\u001b[0m\u001b[0;34m:\u001b[0m\u001b[0;34m\u001b[0m\u001b[0;34m\u001b[0m\u001b[0m\n\u001b[1;32m    270\u001b[0m             \u001b[0mself\u001b[0m\u001b[0;34m.\u001b[0m\u001b[0m_log_request_info\u001b[0m\u001b[0;34m(\u001b[0m\u001b[0murl\u001b[0m\u001b[0;34m,\u001b[0m \u001b[0mmethod\u001b[0m\u001b[0;34m,\u001b[0m \u001b[0mkwargs\u001b[0m\u001b[0;34m)\u001b[0m\u001b[0;34m\u001b[0m\u001b[0;34m\u001b[0m\u001b[0m\n\u001b[0;32m--> 271\u001b[0;31m             \u001b[0mresponse\u001b[0m \u001b[0;34m=\u001b[0m \u001b[0msuper\u001b[0m\u001b[0;34m(\u001b[0m\u001b[0;34m)\u001b[0m\u001b[0;34m.\u001b[0m\u001b[0mrequest\u001b[0m\u001b[0;34m(\u001b[0m\u001b[0mmethod\u001b[0m\u001b[0;34m,\u001b[0m \u001b[0mfinal_url\u001b[0m\u001b[0;34m,\u001b[0m \u001b[0;34m**\u001b[0m\u001b[0mkwargs\u001b[0m\u001b[0;34m)\u001b[0m\u001b[0;34m\u001b[0m\u001b[0;34m\u001b[0m\u001b[0m\n\u001b[0m\u001b[1;32m    272\u001b[0m             \u001b[0mresponse\u001b[0m\u001b[0;34m.\u001b[0m\u001b[0mraise_for_status\u001b[0m\u001b[0;34m(\u001b[0m\u001b[0;34m)\u001b[0m\u001b[0;34m\u001b[0m\u001b[0;34m\u001b[0m\u001b[0m\n\u001b[1;32m    273\u001b[0m         \u001b[0;32mexcept\u001b[0m \u001b[0mRequestException\u001b[0m \u001b[0;32mas\u001b[0m \u001b[0mex\u001b[0m\u001b[0;34m:\u001b[0m\u001b[0;34m\u001b[0m\u001b[0;34m\u001b[0m\u001b[0m\n",
      "\u001b[0;32m/usr/local/lib/python3.8/site-packages/requests/sessions.py\u001b[0m in \u001b[0;36mrequest\u001b[0;34m(self, method, url, params, data, headers, cookies, files, auth, timeout, allow_redirects, proxies, hooks, stream, verify, cert, json)\u001b[0m\n\u001b[1;32m    528\u001b[0m         }\n\u001b[1;32m    529\u001b[0m         \u001b[0msend_kwargs\u001b[0m\u001b[0;34m.\u001b[0m\u001b[0mupdate\u001b[0m\u001b[0;34m(\u001b[0m\u001b[0msettings\u001b[0m\u001b[0;34m)\u001b[0m\u001b[0;34m\u001b[0m\u001b[0;34m\u001b[0m\u001b[0m\n\u001b[0;32m--> 530\u001b[0;31m         \u001b[0mresp\u001b[0m \u001b[0;34m=\u001b[0m \u001b[0mself\u001b[0m\u001b[0;34m.\u001b[0m\u001b[0msend\u001b[0m\u001b[0;34m(\u001b[0m\u001b[0mprep\u001b[0m\u001b[0;34m,\u001b[0m \u001b[0;34m**\u001b[0m\u001b[0msend_kwargs\u001b[0m\u001b[0;34m)\u001b[0m\u001b[0;34m\u001b[0m\u001b[0;34m\u001b[0m\u001b[0m\n\u001b[0m\u001b[1;32m    531\u001b[0m \u001b[0;34m\u001b[0m\u001b[0m\n\u001b[1;32m    532\u001b[0m         \u001b[0;32mreturn\u001b[0m \u001b[0mresp\u001b[0m\u001b[0;34m\u001b[0m\u001b[0;34m\u001b[0m\u001b[0m\n",
      "\u001b[0;32m/usr/local/lib/python3.8/site-packages/requests/sessions.py\u001b[0m in \u001b[0;36msend\u001b[0;34m(self, request, **kwargs)\u001b[0m\n\u001b[1;32m    641\u001b[0m \u001b[0;34m\u001b[0m\u001b[0m\n\u001b[1;32m    642\u001b[0m         \u001b[0;31m# Send the request\u001b[0m\u001b[0;34m\u001b[0m\u001b[0;34m\u001b[0m\u001b[0;34m\u001b[0m\u001b[0m\n\u001b[0;32m--> 643\u001b[0;31m         \u001b[0mr\u001b[0m \u001b[0;34m=\u001b[0m \u001b[0madapter\u001b[0m\u001b[0;34m.\u001b[0m\u001b[0msend\u001b[0m\u001b[0;34m(\u001b[0m\u001b[0mrequest\u001b[0m\u001b[0;34m,\u001b[0m \u001b[0;34m**\u001b[0m\u001b[0mkwargs\u001b[0m\u001b[0;34m)\u001b[0m\u001b[0;34m\u001b[0m\u001b[0;34m\u001b[0m\u001b[0m\n\u001b[0m\u001b[1;32m    644\u001b[0m \u001b[0;34m\u001b[0m\u001b[0m\n\u001b[1;32m    645\u001b[0m         \u001b[0;31m# Total elapsed time of the request (approximately)\u001b[0m\u001b[0;34m\u001b[0m\u001b[0;34m\u001b[0m\u001b[0;34m\u001b[0m\u001b[0m\n",
      "\u001b[0;32m/usr/local/lib/python3.8/site-packages/requests/adapters.py\u001b[0m in \u001b[0;36msend\u001b[0;34m(self, request, stream, timeout, verify, cert, proxies)\u001b[0m\n\u001b[1;32m    437\u001b[0m         \u001b[0;32mtry\u001b[0m\u001b[0;34m:\u001b[0m\u001b[0;34m\u001b[0m\u001b[0;34m\u001b[0m\u001b[0m\n\u001b[1;32m    438\u001b[0m             \u001b[0;32mif\u001b[0m \u001b[0;32mnot\u001b[0m \u001b[0mchunked\u001b[0m\u001b[0;34m:\u001b[0m\u001b[0;34m\u001b[0m\u001b[0;34m\u001b[0m\u001b[0m\n\u001b[0;32m--> 439\u001b[0;31m                 resp = conn.urlopen(\n\u001b[0m\u001b[1;32m    440\u001b[0m                     \u001b[0mmethod\u001b[0m\u001b[0;34m=\u001b[0m\u001b[0mrequest\u001b[0m\u001b[0;34m.\u001b[0m\u001b[0mmethod\u001b[0m\u001b[0;34m,\u001b[0m\u001b[0;34m\u001b[0m\u001b[0;34m\u001b[0m\u001b[0m\n\u001b[1;32m    441\u001b[0m                     \u001b[0murl\u001b[0m\u001b[0;34m=\u001b[0m\u001b[0murl\u001b[0m\u001b[0;34m,\u001b[0m\u001b[0;34m\u001b[0m\u001b[0;34m\u001b[0m\u001b[0m\n",
      "\u001b[0;32m/usr/local/lib/python3.8/site-packages/urllib3/connectionpool.py\u001b[0m in \u001b[0;36murlopen\u001b[0;34m(self, method, url, body, headers, retries, redirect, assert_same_host, timeout, pool_timeout, release_conn, chunked, body_pos, **response_kw)\u001b[0m\n\u001b[1;32m    668\u001b[0m \u001b[0;34m\u001b[0m\u001b[0m\n\u001b[1;32m    669\u001b[0m             \u001b[0;31m# Make the request on the httplib connection object.\u001b[0m\u001b[0;34m\u001b[0m\u001b[0;34m\u001b[0m\u001b[0;34m\u001b[0m\u001b[0m\n\u001b[0;32m--> 670\u001b[0;31m             httplib_response = self._make_request(\n\u001b[0m\u001b[1;32m    671\u001b[0m                 \u001b[0mconn\u001b[0m\u001b[0;34m,\u001b[0m\u001b[0;34m\u001b[0m\u001b[0;34m\u001b[0m\u001b[0m\n\u001b[1;32m    672\u001b[0m                 \u001b[0mmethod\u001b[0m\u001b[0;34m,\u001b[0m\u001b[0;34m\u001b[0m\u001b[0;34m\u001b[0m\u001b[0m\n",
      "\u001b[0;32m/usr/local/lib/python3.8/site-packages/urllib3/connectionpool.py\u001b[0m in \u001b[0;36m_make_request\u001b[0;34m(self, conn, method, url, timeout, chunked, **httplib_request_kw)\u001b[0m\n\u001b[1;32m    424\u001b[0m                     \u001b[0;31m# Python 3 (including for exceptions like SystemExit).\u001b[0m\u001b[0;34m\u001b[0m\u001b[0;34m\u001b[0m\u001b[0;34m\u001b[0m\u001b[0m\n\u001b[1;32m    425\u001b[0m                     \u001b[0;31m# Otherwise it looks like a bug in the code.\u001b[0m\u001b[0;34m\u001b[0m\u001b[0;34m\u001b[0m\u001b[0;34m\u001b[0m\u001b[0m\n\u001b[0;32m--> 426\u001b[0;31m                     \u001b[0msix\u001b[0m\u001b[0;34m.\u001b[0m\u001b[0mraise_from\u001b[0m\u001b[0;34m(\u001b[0m\u001b[0me\u001b[0m\u001b[0;34m,\u001b[0m \u001b[0;32mNone\u001b[0m\u001b[0;34m)\u001b[0m\u001b[0;34m\u001b[0m\u001b[0;34m\u001b[0m\u001b[0m\n\u001b[0m\u001b[1;32m    427\u001b[0m         \u001b[0;32mexcept\u001b[0m \u001b[0;34m(\u001b[0m\u001b[0mSocketTimeout\u001b[0m\u001b[0;34m,\u001b[0m \u001b[0mBaseSSLError\u001b[0m\u001b[0;34m,\u001b[0m \u001b[0mSocketError\u001b[0m\u001b[0;34m)\u001b[0m \u001b[0;32mas\u001b[0m \u001b[0me\u001b[0m\u001b[0;34m:\u001b[0m\u001b[0;34m\u001b[0m\u001b[0;34m\u001b[0m\u001b[0m\n\u001b[1;32m    428\u001b[0m             \u001b[0mself\u001b[0m\u001b[0;34m.\u001b[0m\u001b[0m_raise_timeout\u001b[0m\u001b[0;34m(\u001b[0m\u001b[0merr\u001b[0m\u001b[0;34m=\u001b[0m\u001b[0me\u001b[0m\u001b[0;34m,\u001b[0m \u001b[0murl\u001b[0m\u001b[0;34m=\u001b[0m\u001b[0murl\u001b[0m\u001b[0;34m,\u001b[0m \u001b[0mtimeout_value\u001b[0m\u001b[0;34m=\u001b[0m\u001b[0mread_timeout\u001b[0m\u001b[0;34m)\u001b[0m\u001b[0;34m\u001b[0m\u001b[0;34m\u001b[0m\u001b[0m\n",
      "\u001b[0;32m/usr/local/lib/python3.8/site-packages/urllib3/packages/six.py\u001b[0m in \u001b[0;36mraise_from\u001b[0;34m(value, from_value)\u001b[0m\n",
      "\u001b[0;32m/usr/local/lib/python3.8/site-packages/urllib3/connectionpool.py\u001b[0m in \u001b[0;36m_make_request\u001b[0;34m(self, conn, method, url, timeout, chunked, **httplib_request_kw)\u001b[0m\n\u001b[1;32m    419\u001b[0m                 \u001b[0;31m# Python 3\u001b[0m\u001b[0;34m\u001b[0m\u001b[0;34m\u001b[0m\u001b[0;34m\u001b[0m\u001b[0m\n\u001b[1;32m    420\u001b[0m                 \u001b[0;32mtry\u001b[0m\u001b[0;34m:\u001b[0m\u001b[0;34m\u001b[0m\u001b[0;34m\u001b[0m\u001b[0m\n\u001b[0;32m--> 421\u001b[0;31m                     \u001b[0mhttplib_response\u001b[0m \u001b[0;34m=\u001b[0m \u001b[0mconn\u001b[0m\u001b[0;34m.\u001b[0m\u001b[0mgetresponse\u001b[0m\u001b[0;34m(\u001b[0m\u001b[0;34m)\u001b[0m\u001b[0;34m\u001b[0m\u001b[0;34m\u001b[0m\u001b[0m\n\u001b[0m\u001b[1;32m    422\u001b[0m                 \u001b[0;32mexcept\u001b[0m \u001b[0mBaseException\u001b[0m \u001b[0;32mas\u001b[0m \u001b[0me\u001b[0m\u001b[0;34m:\u001b[0m\u001b[0;34m\u001b[0m\u001b[0;34m\u001b[0m\u001b[0m\n\u001b[1;32m    423\u001b[0m                     \u001b[0;31m# Remove the TypeError from the exception chain in\u001b[0m\u001b[0;34m\u001b[0m\u001b[0;34m\u001b[0m\u001b[0;34m\u001b[0m\u001b[0m\n",
      "\u001b[0;32m/usr/local/Cellar/python@3.8/3.8.5/Frameworks/Python.framework/Versions/3.8/lib/python3.8/http/client.py\u001b[0m in \u001b[0;36mgetresponse\u001b[0;34m(self)\u001b[0m\n\u001b[1;32m   1345\u001b[0m         \u001b[0;32mtry\u001b[0m\u001b[0;34m:\u001b[0m\u001b[0;34m\u001b[0m\u001b[0;34m\u001b[0m\u001b[0m\n\u001b[1;32m   1346\u001b[0m             \u001b[0;32mtry\u001b[0m\u001b[0;34m:\u001b[0m\u001b[0;34m\u001b[0m\u001b[0;34m\u001b[0m\u001b[0m\n\u001b[0;32m-> 1347\u001b[0;31m                 \u001b[0mresponse\u001b[0m\u001b[0;34m.\u001b[0m\u001b[0mbegin\u001b[0m\u001b[0;34m(\u001b[0m\u001b[0;34m)\u001b[0m\u001b[0;34m\u001b[0m\u001b[0;34m\u001b[0m\u001b[0m\n\u001b[0m\u001b[1;32m   1348\u001b[0m             \u001b[0;32mexcept\u001b[0m \u001b[0mConnectionError\u001b[0m\u001b[0;34m:\u001b[0m\u001b[0;34m\u001b[0m\u001b[0;34m\u001b[0m\u001b[0m\n\u001b[1;32m   1349\u001b[0m                 \u001b[0mself\u001b[0m\u001b[0;34m.\u001b[0m\u001b[0mclose\u001b[0m\u001b[0;34m(\u001b[0m\u001b[0;34m)\u001b[0m\u001b[0;34m\u001b[0m\u001b[0;34m\u001b[0m\u001b[0m\n",
      "\u001b[0;32m/usr/local/Cellar/python@3.8/3.8.5/Frameworks/Python.framework/Versions/3.8/lib/python3.8/http/client.py\u001b[0m in \u001b[0;36mbegin\u001b[0;34m(self)\u001b[0m\n\u001b[1;32m    305\u001b[0m         \u001b[0;31m# read until we get a non-100 response\u001b[0m\u001b[0;34m\u001b[0m\u001b[0;34m\u001b[0m\u001b[0;34m\u001b[0m\u001b[0m\n\u001b[1;32m    306\u001b[0m         \u001b[0;32mwhile\u001b[0m \u001b[0;32mTrue\u001b[0m\u001b[0;34m:\u001b[0m\u001b[0;34m\u001b[0m\u001b[0;34m\u001b[0m\u001b[0m\n\u001b[0;32m--> 307\u001b[0;31m             \u001b[0mversion\u001b[0m\u001b[0;34m,\u001b[0m \u001b[0mstatus\u001b[0m\u001b[0;34m,\u001b[0m \u001b[0mreason\u001b[0m \u001b[0;34m=\u001b[0m \u001b[0mself\u001b[0m\u001b[0;34m.\u001b[0m\u001b[0m_read_status\u001b[0m\u001b[0;34m(\u001b[0m\u001b[0;34m)\u001b[0m\u001b[0;34m\u001b[0m\u001b[0;34m\u001b[0m\u001b[0m\n\u001b[0m\u001b[1;32m    308\u001b[0m             \u001b[0;32mif\u001b[0m \u001b[0mstatus\u001b[0m \u001b[0;34m!=\u001b[0m \u001b[0mCONTINUE\u001b[0m\u001b[0;34m:\u001b[0m\u001b[0;34m\u001b[0m\u001b[0;34m\u001b[0m\u001b[0m\n\u001b[1;32m    309\u001b[0m                 \u001b[0;32mbreak\u001b[0m\u001b[0;34m\u001b[0m\u001b[0;34m\u001b[0m\u001b[0m\n",
      "\u001b[0;32m/usr/local/Cellar/python@3.8/3.8.5/Frameworks/Python.framework/Versions/3.8/lib/python3.8/http/client.py\u001b[0m in \u001b[0;36m_read_status\u001b[0;34m(self)\u001b[0m\n\u001b[1;32m    266\u001b[0m \u001b[0;34m\u001b[0m\u001b[0m\n\u001b[1;32m    267\u001b[0m     \u001b[0;32mdef\u001b[0m \u001b[0m_read_status\u001b[0m\u001b[0;34m(\u001b[0m\u001b[0mself\u001b[0m\u001b[0;34m)\u001b[0m\u001b[0;34m:\u001b[0m\u001b[0;34m\u001b[0m\u001b[0;34m\u001b[0m\u001b[0m\n\u001b[0;32m--> 268\u001b[0;31m         \u001b[0mline\u001b[0m \u001b[0;34m=\u001b[0m \u001b[0mstr\u001b[0m\u001b[0;34m(\u001b[0m\u001b[0mself\u001b[0m\u001b[0;34m.\u001b[0m\u001b[0mfp\u001b[0m\u001b[0;34m.\u001b[0m\u001b[0mreadline\u001b[0m\u001b[0;34m(\u001b[0m\u001b[0m_MAXLINE\u001b[0m \u001b[0;34m+\u001b[0m \u001b[0;36m1\u001b[0m\u001b[0;34m)\u001b[0m\u001b[0;34m,\u001b[0m \u001b[0;34m\"iso-8859-1\"\u001b[0m\u001b[0;34m)\u001b[0m\u001b[0;34m\u001b[0m\u001b[0;34m\u001b[0m\u001b[0m\n\u001b[0m\u001b[1;32m    269\u001b[0m         \u001b[0;32mif\u001b[0m \u001b[0mlen\u001b[0m\u001b[0;34m(\u001b[0m\u001b[0mline\u001b[0m\u001b[0;34m)\u001b[0m \u001b[0;34m>\u001b[0m \u001b[0m_MAXLINE\u001b[0m\u001b[0;34m:\u001b[0m\u001b[0;34m\u001b[0m\u001b[0;34m\u001b[0m\u001b[0m\n\u001b[1;32m    270\u001b[0m             \u001b[0;32mraise\u001b[0m \u001b[0mLineTooLong\u001b[0m\u001b[0;34m(\u001b[0m\u001b[0;34m\"status line\"\u001b[0m\u001b[0;34m)\u001b[0m\u001b[0;34m\u001b[0m\u001b[0;34m\u001b[0m\u001b[0m\n",
      "\u001b[0;32m/usr/local/Cellar/python@3.8/3.8.5/Frameworks/Python.framework/Versions/3.8/lib/python3.8/socket.py\u001b[0m in \u001b[0;36mreadinto\u001b[0;34m(self, b)\u001b[0m\n\u001b[1;32m    667\u001b[0m         \u001b[0;32mwhile\u001b[0m \u001b[0;32mTrue\u001b[0m\u001b[0;34m:\u001b[0m\u001b[0;34m\u001b[0m\u001b[0;34m\u001b[0m\u001b[0m\n\u001b[1;32m    668\u001b[0m             \u001b[0;32mtry\u001b[0m\u001b[0;34m:\u001b[0m\u001b[0;34m\u001b[0m\u001b[0;34m\u001b[0m\u001b[0m\n\u001b[0;32m--> 669\u001b[0;31m                 \u001b[0;32mreturn\u001b[0m \u001b[0mself\u001b[0m\u001b[0;34m.\u001b[0m\u001b[0m_sock\u001b[0m\u001b[0;34m.\u001b[0m\u001b[0mrecv_into\u001b[0m\u001b[0;34m(\u001b[0m\u001b[0mb\u001b[0m\u001b[0;34m)\u001b[0m\u001b[0;34m\u001b[0m\u001b[0;34m\u001b[0m\u001b[0m\n\u001b[0m\u001b[1;32m    670\u001b[0m             \u001b[0;32mexcept\u001b[0m \u001b[0mtimeout\u001b[0m\u001b[0;34m:\u001b[0m\u001b[0;34m\u001b[0m\u001b[0;34m\u001b[0m\u001b[0m\n\u001b[1;32m    671\u001b[0m                 \u001b[0mself\u001b[0m\u001b[0;34m.\u001b[0m\u001b[0m_timeout_occurred\u001b[0m \u001b[0;34m=\u001b[0m \u001b[0;32mTrue\u001b[0m\u001b[0;34m\u001b[0m\u001b[0;34m\u001b[0m\u001b[0m\n",
      "\u001b[0;32m/usr/local/Cellar/python@3.8/3.8.5/Frameworks/Python.framework/Versions/3.8/lib/python3.8/ssl.py\u001b[0m in \u001b[0;36mrecv_into\u001b[0;34m(self, buffer, nbytes, flags)\u001b[0m\n\u001b[1;32m   1239\u001b[0m                   \u001b[0;34m\"non-zero flags not allowed in calls to recv_into() on %s\"\u001b[0m \u001b[0;34m%\u001b[0m\u001b[0;34m\u001b[0m\u001b[0;34m\u001b[0m\u001b[0m\n\u001b[1;32m   1240\u001b[0m                   self.__class__)\n\u001b[0;32m-> 1241\u001b[0;31m             \u001b[0;32mreturn\u001b[0m \u001b[0mself\u001b[0m\u001b[0;34m.\u001b[0m\u001b[0mread\u001b[0m\u001b[0;34m(\u001b[0m\u001b[0mnbytes\u001b[0m\u001b[0;34m,\u001b[0m \u001b[0mbuffer\u001b[0m\u001b[0;34m)\u001b[0m\u001b[0;34m\u001b[0m\u001b[0;34m\u001b[0m\u001b[0m\n\u001b[0m\u001b[1;32m   1242\u001b[0m         \u001b[0;32melse\u001b[0m\u001b[0;34m:\u001b[0m\u001b[0;34m\u001b[0m\u001b[0;34m\u001b[0m\u001b[0m\n\u001b[1;32m   1243\u001b[0m             \u001b[0;32mreturn\u001b[0m \u001b[0msuper\u001b[0m\u001b[0;34m(\u001b[0m\u001b[0;34m)\u001b[0m\u001b[0;34m.\u001b[0m\u001b[0mrecv_into\u001b[0m\u001b[0;34m(\u001b[0m\u001b[0mbuffer\u001b[0m\u001b[0;34m,\u001b[0m \u001b[0mnbytes\u001b[0m\u001b[0;34m,\u001b[0m \u001b[0mflags\u001b[0m\u001b[0;34m)\u001b[0m\u001b[0;34m\u001b[0m\u001b[0;34m\u001b[0m\u001b[0m\n",
      "\u001b[0;32m/usr/local/Cellar/python@3.8/3.8.5/Frameworks/Python.framework/Versions/3.8/lib/python3.8/ssl.py\u001b[0m in \u001b[0;36mread\u001b[0;34m(self, len, buffer)\u001b[0m\n\u001b[1;32m   1097\u001b[0m         \u001b[0;32mtry\u001b[0m\u001b[0;34m:\u001b[0m\u001b[0;34m\u001b[0m\u001b[0;34m\u001b[0m\u001b[0m\n\u001b[1;32m   1098\u001b[0m             \u001b[0;32mif\u001b[0m \u001b[0mbuffer\u001b[0m \u001b[0;32mis\u001b[0m \u001b[0;32mnot\u001b[0m \u001b[0;32mNone\u001b[0m\u001b[0;34m:\u001b[0m\u001b[0;34m\u001b[0m\u001b[0;34m\u001b[0m\u001b[0m\n\u001b[0;32m-> 1099\u001b[0;31m                 \u001b[0;32mreturn\u001b[0m \u001b[0mself\u001b[0m\u001b[0;34m.\u001b[0m\u001b[0m_sslobj\u001b[0m\u001b[0;34m.\u001b[0m\u001b[0mread\u001b[0m\u001b[0;34m(\u001b[0m\u001b[0mlen\u001b[0m\u001b[0;34m,\u001b[0m \u001b[0mbuffer\u001b[0m\u001b[0;34m)\u001b[0m\u001b[0;34m\u001b[0m\u001b[0;34m\u001b[0m\u001b[0m\n\u001b[0m\u001b[1;32m   1100\u001b[0m             \u001b[0;32melse\u001b[0m\u001b[0;34m:\u001b[0m\u001b[0;34m\u001b[0m\u001b[0;34m\u001b[0m\u001b[0m\n\u001b[1;32m   1101\u001b[0m                 \u001b[0;32mreturn\u001b[0m \u001b[0mself\u001b[0m\u001b[0;34m.\u001b[0m\u001b[0m_sslobj\u001b[0m\u001b[0;34m.\u001b[0m\u001b[0mread\u001b[0m\u001b[0;34m(\u001b[0m\u001b[0mlen\u001b[0m\u001b[0;34m)\u001b[0m\u001b[0;34m\u001b[0m\u001b[0;34m\u001b[0m\u001b[0m\n",
      "\u001b[0;31mKeyboardInterrupt\u001b[0m: "
     ]
    }
   ],
   "source": [
    "%%capture\n",
    "real_backend = qk.providers.ibmq.least_busy(devices)\n",
    "print(real_backend.configuration().n_qubits)"
   ]
  },
  {
   "cell_type": "code",
   "execution_count": 8,
   "metadata": {},
   "outputs": [],
   "source": [
    "simd_backend = qk.Aer.get_backend('qasm_simulator')"
   ]
  },
  {
   "cell_type": "markdown",
   "metadata": {},
   "source": [
    "## Task 2"
   ]
  },
  {
   "cell_type": "markdown",
   "metadata": {},
   "source": [
    "Since we assume the following form of QBit wavefunction:\n",
    "$\\vert \\psi \\rangle = \\sin \\theta \\vert 0 \\rangle + \\exp{i\\varphi} \\cos \\theta \\vert 1 \\rangle$\n",
    "\n",
    "Actually we measure kinda projection on $Z$ - axis that corresponds $\\theta$ angle. Thus $\\phi$ angle describes projection onto $X,~Y$ axes. To fix it we can rotate system (or alternavely Vector) in the following way: $X,~Y,~Z \\rightarrow Z,~X,~Y$. To do this we should choose axis of rotation, obviously it is normalized vector $(1,~1,~1)$ and angle to rotate $\\alpha = 2 \\pi / 3$."
   ]
  },
  {
   "cell_type": "markdown",
   "metadata": {},
   "source": [
    "To make rotation itself we should compute corresponding axis. We know the form of such rotations (it can be derived from infinitesimal rotations): $\\hat{R}_{\\vec{n}} (\\alpha)= e^{-i \\vec{n} \\cdot \\hat{\\vec{\\sigma}} \\alpha / 2}$.\n",
    "Since all sigma's satisfy $\\hat{\\sigma}_i^2 = \\hat{I}$ it can be rewritten in the following form: \n",
    "\n",
    "$$\\hat{R}_{\\vec{n}} (\\alpha) = I \\cos{\\frac{\\alpha}{2}} - i \\vec{n} \\cdot \\hat{\\vec{\\sigma}} \\sin{\\frac{\\alpha}{2}}$$\n",
    "\n",
    "Thus the function to compute such operator is:"
   ]
  },
  {
   "cell_type": "code",
   "execution_count": 9,
   "metadata": {},
   "outputs": [],
   "source": [
    "px = np.array([[0, 1 ], [1 , 0]], dtype = 'complex128')\n",
    "py = np.array([[0,-1j], [1j, 0]], dtype = 'complex128')\n",
    "pz = np.array([[1, 0 ], [0 ,-1]], dtype = 'complex128')\n",
    "pi = np.array([[1, 0 ], [0 , 1]], dtype = 'complex128')"
   ]
  },
  {
   "cell_type": "code",
   "execution_count": 10,
   "metadata": {},
   "outputs": [],
   "source": [
    "def rot_mat(vec, angle):\n",
    "    assert len(vec) == 3\n",
    "    lvec = np.array(vec, dtype = 'float64')\n",
    "    lvec = lvec / np.linalg.norm(lvec)\n",
    "    mat = lvec[0] * px + lvec[1] * py + lvec[2] * pz\n",
    "    sq_mat = mat @ mat\n",
    "    assert np.max(np.abs(sq_mat - pi)) < 1e-4\n",
    "    res = pi * np.cos(angle / 2) - 1j * mat * np.sin(angle / 2)\n",
    "    sq_res = np.conjugate(res).T @ res\n",
    "    assert np.max(np.abs(sq_res - pi)) < 1e-4\n",
    "    return res"
   ]
  },
  {
   "cell_type": "markdown",
   "metadata": {},
   "source": [
    "We needs not general but specific rotation:"
   ]
  },
  {
   "cell_type": "code",
   "execution_count": 11,
   "metadata": {},
   "outputs": [],
   "source": [
    "rot = rot_mat([1, 1, 1], 2 * np.pi / 3)"
   ]
  },
  {
   "cell_type": "code",
   "execution_count": 12,
   "metadata": {},
   "outputs": [
    {
     "name": "stdout",
     "output_type": "stream",
     "text": [
      "[[ 0.5-0.5j -0.5-0.5j]\n",
      " [ 0.5-0.5j  0.5+0.5j]]\n"
     ]
    }
   ],
   "source": [
    "print(rot)"
   ]
  },
  {
   "cell_type": "markdown",
   "metadata": {},
   "source": [
    "We need to choose some random (but normalized) initial state:"
   ]
  },
  {
   "cell_type": "code",
   "execution_count": 13,
   "metadata": {},
   "outputs": [],
   "source": [
    "state = np.random.rand(2) + 1j * np.random.rand(2)\n",
    "state = state / np.linalg.norm(state)\n",
    "psi_angle = np.angle(state[0])\n",
    "state = np.exp(-1j * psi_angle) * state\n",
    "assert np.imag(state[0]) < 1.e-4"
   ]
  },
  {
   "cell_type": "markdown",
   "metadata": {},
   "source": [
    "Since here state has form: \n",
    "$\\vert \\psi \\rangle = e^{i\\psi} \\sin \\theta \\vert 0 \\rangle + e^{i\\phi} \\cos \\theta \\vert 1 \\rangle$\n",
    "We can rewrite in the following form:\n",
    "$\\vert \\psi \\rangle = e^{i\\psi} (\\sin \\theta \\vert 0 \\rangle + \\exp{i\\varphi} \\cos \\theta \\vert 1 \\rangle)$, thus $\\varphi = \\phi - \\psi$."
   ]
  },
  {
   "cell_type": "code",
   "execution_count": 14,
   "metadata": {},
   "outputs": [],
   "source": [
    "varphi = np.angle(state[1])\n",
    "theta  = np.arcsin(state[0])"
   ]
  },
  {
   "cell_type": "code",
   "execution_count": 15,
   "metadata": {},
   "outputs": [
    {
     "data": {
      "text/plain": [
       "(1.1480931962972682, (1.1059006046955242+0j))"
      ]
     },
     "execution_count": 15,
     "metadata": {},
     "output_type": "execute_result"
    }
   ],
   "source": [
    "varphi, theta"
   ]
  },
  {
   "cell_type": "markdown",
   "metadata": {},
   "source": [
    "Let's compute symbolic result:"
   ]
  },
  {
   "cell_type": "code",
   "execution_count": 16,
   "metadata": {},
   "outputs": [],
   "source": [
    "tht, phi = symbols('theta, phi', real = True)"
   ]
  },
  {
   "cell_type": "code",
   "execution_count": 17,
   "metadata": {},
   "outputs": [],
   "source": [
    "vec0 = Matrix([sin(theta), exp(I * phi) * cos(tht)])"
   ]
  },
  {
   "cell_type": "code",
   "execution_count": 18,
   "metadata": {},
   "outputs": [],
   "source": [
    "rot_op = Matrix([[1-I, -1-I], [1-I, 1+I]]) / 2"
   ]
  },
  {
   "cell_type": "code",
   "execution_count": 19,
   "metadata": {},
   "outputs": [],
   "source": [
    "vec1 = rot_op @ vec0"
   ]
  },
  {
   "cell_type": "code",
   "execution_count": 20,
   "metadata": {},
   "outputs": [],
   "source": [
    "ratio = ((conjugate(vec1[0]) * vec1[0]) / (conjugate(vec1[1]) * vec1[1]))"
   ]
  },
  {
   "cell_type": "raw",
   "metadata": {},
   "source": [
    "ratio.simplify()\n",
    "ratio"
   ]
  },
  {
   "cell_type": "markdown",
   "metadata": {},
   "source": [
    "As we can see ratio of probabilities is:\n",
    "$$\\frac{p(\\vert 0 \\rangle)}{p(\\vert 1 \\rangle)} = - \\frac{e^{i\\phi} (\\sin{2\\theta} \\sin{\\phi} + 1)}{e^{i\\phi} (\\sin{2\\theta} \\sin{\\phi} - 1)} = r$$\n",
    "Thus the output is:\n",
    "$$\\sin{\\phi} \\sin{2 \\theta} = \\frac{r - 1}{r + 1}$$"
   ]
  },
  {
   "cell_type": "code",
   "execution_count": 21,
   "metadata": {},
   "outputs": [],
   "source": [
    "q = qk.QuantumRegister(1)\n",
    "c = qk.ClassicalRegister(1)\n",
    "qc = qk.QuantumCircuit(q, c)\n",
    "qc.initialize(state, q)\n",
    "qc.unitary(rot, q)\n",
    "qc.measure(q, c)\n",
    "res = qk.execute(qc, backend = simd_backend, shots = 65536).result()\n",
    "r_simd = res.get_counts()"
   ]
  },
  {
   "cell_type": "code",
   "execution_count": 22,
   "metadata": {},
   "outputs": [
    {
     "name": "stdout",
     "output_type": "stream",
     "text": [
      "{'0': 56701, '1': 8835}\n"
     ]
    }
   ],
   "source": [
    "print(r_simd)"
   ]
  },
  {
   "cell_type": "code",
   "execution_count": 23,
   "metadata": {},
   "outputs": [
    {
     "data": {
      "text/html": [
       "<pre style=\"word-wrap: normal;white-space: pre;background: #fff0;line-height: 1.1;font-family: &quot;Courier New&quot;,Courier,monospace\">      ┌──────────────────────────────────────┐┌─────────┐┌─┐\n",
       "q0_0: ┤ initialize(0.89387,0.18392+0.40887j) ├┤ unitary ├┤M├\n",
       "      └──────────────────────────────────────┘└─────────┘└╥┘\n",
       "c0: 1/════════════════════════════════════════════════════╩═\n",
       "                                                          0 </pre>"
      ],
      "text/plain": [
       "      ┌──────────────────────────────────────┐┌─────────┐┌─┐\n",
       "q0_0: ┤ initialize(0.89387,0.18392+0.40887j) ├┤ unitary ├┤M├\n",
       "      └──────────────────────────────────────┘└─────────┘└╥┘\n",
       "c0: 1/════════════════════════════════════════════════════╩═\n",
       "                                                          0 "
      ]
     },
     "execution_count": 23,
     "metadata": {},
     "output_type": "execute_result"
    }
   ],
   "source": [
    "qc.draw()"
   ]
  },
  {
   "cell_type": "markdown",
   "metadata": {},
   "source": [
    "Let's compute $\\sin \\phi$:"
   ]
  },
  {
   "cell_type": "code",
   "execution_count": 24,
   "metadata": {},
   "outputs": [],
   "source": [
    "r = r_simd['0'] / r_simd['1']\n",
    "sin_phi = (r - 1) / (r + 1) / np.sin(2 * theta)"
   ]
  },
  {
   "cell_type": "code",
   "execution_count": 25,
   "metadata": {},
   "outputs": [],
   "source": [
    "res_phi = np.arcsin(sin_phi)"
   ]
  },
  {
   "cell_type": "code",
   "execution_count": 26,
   "metadata": {},
   "outputs": [
    {
     "data": {
      "text/plain": [
       "(1.1463534102080533+0j)"
      ]
     },
     "execution_count": 26,
     "metadata": {},
     "output_type": "execute_result"
    }
   ],
   "source": [
    "res_phi"
   ]
  },
  {
   "cell_type": "markdown",
   "metadata": {},
   "source": [
    "## Task 3"
   ]
  },
  {
   "cell_type": "code",
   "execution_count": 27,
   "metadata": {},
   "outputs": [],
   "source": [
    "hm = np.array([[1, 1], [1, -1]], dtype = 'complex128') / np.sqrt(2)\n",
    "sm = np.array([[1, 0], [0, 1j]], dtype = 'complex128')"
   ]
  },
  {
   "cell_type": "code",
   "execution_count": 28,
   "metadata": {},
   "outputs": [],
   "source": [
    "hadm = Matrix([[1, 1], [1, -1]]) / sqrt(2)"
   ]
  },
  {
   "cell_type": "markdown",
   "metadata": {},
   "source": [
    "We get three angles $\\alpha, \\beta, \\gamma$. Steps of Euler rotation are:\n",
    "\n",
    "1. Perform $\\hat{R}_z (\\gamma)$\n",
    "2. Perform $\\hat{R}_x (\\beta )$\n",
    "3. Perform $\\hat{R}_z (\\gamma)$\n",
    "\n",
    "To do so we need to express $\\hat{R}_x$ as combination of $\\hat{H},\\hat{S},\\hat{X}$ and $\\hat{R}_z$. It can be done in many different ways. But I prefer to decompose it in the following form: $ \\hat{R}_x = \\hat{H} \\hat{R}_z \\hat{H}$.\n"
   ]
  },
  {
   "cell_type": "code",
   "execution_count": 29,
   "metadata": {},
   "outputs": [],
   "source": [
    "rx = cos(tht / 2) * eye(2) - I * sin(tht / 2) * px\n",
    "rz = cos(tht / 2) * eye(2) - I * sin(tht / 2) * pz"
   ]
  },
  {
   "cell_type": "code",
   "execution_count": 30,
   "metadata": {},
   "outputs": [
    {
     "data": {
      "text/latex": [
       "$\\displaystyle \\left[\\begin{matrix}0 & 0\\\\0 & 0\\end{matrix}\\right]$"
      ],
      "text/plain": [
       "Matrix([\n",
       "[0, 0],\n",
       "[0, 0]])"
      ]
     },
     "execution_count": 30,
     "metadata": {},
     "output_type": "execute_result"
    }
   ],
   "source": [
    "custom_rx = hadm @ rz @ hadm\n",
    "rx - custom_rx"
   ]
  },
  {
   "cell_type": "markdown",
   "metadata": {},
   "source": [
    "Thus we can write our own $\\hat{U}_3$ gate:"
   ]
  },
  {
   "cell_type": "code",
   "execution_count": 31,
   "metadata": {},
   "outputs": [],
   "source": [
    "def custom_rx(qc, qr, alpha):\n",
    "    qc.h(qr)\n",
    "    qc.rz(alpha, qr)\n",
    "    qc.h(qr)"
   ]
  },
  {
   "cell_type": "code",
   "execution_count": 32,
   "metadata": {},
   "outputs": [],
   "source": [
    "def custom_u3_v0(qc, qr, alpha, beta, gamma):\n",
    "    qc.rz(beta, qr)\n",
    "    custom_rx(qc, qr, - np.pi / 2)\n",
    "    qc.rz(alpha, qr)\n",
    "    custom_rx(qc, qr,   np.pi / 2)\n",
    "    qc.rx(gamma, qr)"
   ]
  },
  {
   "cell_type": "markdown",
   "metadata": {},
   "source": [
    "Let's get Euler's angles from vector:"
   ]
  },
  {
   "cell_type": "code",
   "execution_count": 33,
   "metadata": {},
   "outputs": [],
   "source": [
    "def rotMatrixFromZX(vz, vx = [1, 0, 0]):\n",
    "    vz, vx = np.array(vz), np.array(vx)\n",
    "    nx = vx / np.linalg.norm(vx)\n",
    "    nz = vz / np.linalg.norm(vz)\n",
    "    assert(abs(np.dot(nx, nz)) > 1e-10)\n",
    "    ny = np.cross(nz, nx)\n",
    "    return np.array([nx, ny, nz])"
   ]
  },
  {
   "cell_type": "code",
   "execution_count": 34,
   "metadata": {},
   "outputs": [],
   "source": [
    "def _angleFromSinCos(s, c):\n",
    "    s, c = float(s), float(c)\n",
    "    if c > 0:\n",
    "        return np.arctan(s / c)\n",
    "    elif c < 0:\n",
    "        return - np.arctan(- s / c)\n",
    "    else:\n",
    "        return np.pi * np.sign(s) / 2\n",
    "    \n",
    "def rotMatrixToEuler(m):\n",
    "    cb = m[2, 2]\n",
    "    if abs(cb) == 1:\n",
    "        sb = 0\n",
    "        cc = 1\n",
    "        sc = 0\n",
    "        sa = m[1, 0]\n",
    "        ca = m[0, 0]\n",
    "    else:\n",
    "        sb = sqrt(1 - cb**2)\n",
    "        cc = m[0, 2] / sb\n",
    "        sc = m[1, 2] / sb\n",
    "        ca = - m[2, 0] / sb\n",
    "        sa = m[2, 1] / sb\n",
    "    return np.array([_angleFromSinCos(sa, ca), _angleFromSinCos(sb, cb), _angleFromSinCos(sc, cc)])"
   ]
  },
  {
   "cell_type": "code",
   "execution_count": 35,
   "metadata": {},
   "outputs": [],
   "source": [
    "def vecFromAngles(theta_, phi_):\n",
    "    return np.array([np.sin(theta_) * np.cos(phi_), np.sin(theta_) * np.sin(phi_), np.cos(theta_)])"
   ]
  },
  {
   "cell_type": "markdown",
   "metadata": {},
   "source": [
    "Let's view on specific vector:"
   ]
  },
  {
   "cell_type": "code",
   "execution_count": 36,
   "metadata": {},
   "outputs": [],
   "source": [
    "targ_vec = vecFromAngles(np.pi / 3, np.pi / 3)\n",
    "targ_mat = rotMatrixFromZX(targ_vec)\n",
    "targ_ans = rotMatrixToEuler(targ_mat)"
   ]
  },
  {
   "cell_type": "code",
   "execution_count": 37,
   "metadata": {},
   "outputs": [],
   "source": [
    "q = qk.QuantumRegister(1)\n",
    "c = qk.ClassicalRegister(1)\n",
    "qc = qk.QuantumCircuit(q, c)\n",
    "#to custom angles\n",
    "qc.rz(targ_ans[1],     q[0])\n",
    "qc.h(q[0])\n",
    "qc.rz(- np.pi / 2, q[0])\n",
    "qc.h(q[0])\n",
    "qc.rz(targ_ans[0],  q[0])\n",
    "qc.h(q[0])\n",
    "qc.rz(  np.pi / 2, q[0])\n",
    "qc.h(q[0])\n",
    "qc.rz(targ_ans[2],  q[0])\n",
    "qc.measure(q, c)\n",
    "#back transformation\n",
    "res = qk.execute(qc, backend = simd_backend, shots = 65536).result()\n",
    "r_simd_v0 = res.get_counts()"
   ]
  },
  {
   "cell_type": "code",
   "execution_count": 38,
   "metadata": {},
   "outputs": [
    {
     "data": {
      "text/plain": [
       "{'0': 49217, '1': 16319}"
      ]
     },
     "execution_count": 38,
     "metadata": {},
     "output_type": "execute_result"
    }
   ],
   "source": [
    "r_simd_v0"
   ]
  },
  {
   "cell_type": "code",
   "execution_count": 39,
   "metadata": {},
   "outputs": [
    {
     "data": {
      "text/html": [
       "<pre style=\"word-wrap: normal;white-space: pre;background: #fff0;line-height: 1.1;font-family: &quot;Courier New&quot;,Courier,monospace\">      ┌──────────┐┌───┐┌───────────┐┌───┐┌───────────┐┌───┐┌──────────┐┌───┐»\n",
       "q4_0: ┤ RZ(pi/3) ├┤ H ├┤ RZ(-pi/2) ├┤ H ├┤ RZ(-pi/3) ├┤ H ├┤ RZ(pi/2) ├┤ H ├»\n",
       "      └──────────┘└───┘└───────────┘└───┘└───────────┘└───┘└──────────┘└───┘»\n",
       "c1: 1/══════════════════════════════════════════════════════════════════════»\n",
       "                                                                            »\n",
       "«      ┌───────────┐┌─┐\n",
       "«q4_0: ┤ RZ(-pi/2) ├┤M├\n",
       "«      └───────────┘└╥┘\n",
       "«c1: 1/══════════════╩═\n",
       "«                    0 </pre>"
      ],
      "text/plain": [
       "      ┌──────────┐┌───┐┌───────────┐┌───┐┌───────────┐┌───┐┌──────────┐┌───┐»\n",
       "q4_0: ┤ RZ(pi/3) ├┤ H ├┤ RZ(-pi/2) ├┤ H ├┤ RZ(-pi/3) ├┤ H ├┤ RZ(pi/2) ├┤ H ├»\n",
       "      └──────────┘└───┘└───────────┘└───┘└───────────┘└───┘└──────────┘└───┘»\n",
       "c1: 1/══════════════════════════════════════════════════════════════════════»\n",
       "                                                                            »\n",
       "«      ┌───────────┐┌─┐\n",
       "«q4_0: ┤ RZ(-pi/2) ├┤M├\n",
       "«      └───────────┘└╥┘\n",
       "«c1: 1/══════════════╩═\n",
       "«                    0 "
      ]
     },
     "execution_count": 39,
     "metadata": {},
     "output_type": "execute_result"
    }
   ],
   "source": [
    "qc.draw()"
   ]
  },
  {
   "cell_type": "code",
   "execution_count": 40,
   "metadata": {},
   "outputs": [
    {
     "data": {
      "text/plain": [
       "(1.0483435670404493, 0.0011460158438516554)"
      ]
     },
     "execution_count": 40,
     "metadata": {},
     "output_type": "execute_result"
    }
   ],
   "source": [
    "res_theta = np.arctan(np.sqrt(r_simd_v0['0'] / r_simd_v0['1']))\n",
    "res_theta, res_theta - np.pi / 3"
   ]
  },
  {
   "cell_type": "code",
   "execution_count": 41,
   "metadata": {},
   "outputs": [],
   "source": [
    "q = qk.QuantumRegister(1)\n",
    "c = qk.ClassicalRegister(1)\n",
    "qc = qk.QuantumCircuit(q, c)\n",
    "#to custom angles\n",
    "qc.rz(targ_ans[1],     q[0])\n",
    "qc.h(q[0])\n",
    "qc.rz(- np.pi / 2, q[0])\n",
    "qc.h(q[0])\n",
    "qc.rz(targ_ans[0],  q[0])\n",
    "qc.h(q[0])\n",
    "qc.rz(  np.pi / 2, q[0])\n",
    "qc.h(q[0])\n",
    "qc.rz(targ_ans[2],  q[0])\n",
    "#as in previous task\n",
    "rot = rot_mat([1, 1, 1], 2 * np.pi / 3)\n",
    "qc.unitary(rot, q)\n",
    "qc.measure(q, c)\n",
    "res = qk.execute(qc, backend = simd_backend, shots = 65536).result()\n",
    "r_simd_v0 = res.get_counts()"
   ]
  },
  {
   "cell_type": "code",
   "execution_count": 42,
   "metadata": {},
   "outputs": [
    {
     "data": {
      "text/plain": [
       "{'0': 4301, '1': 61235}"
      ]
     },
     "execution_count": 42,
     "metadata": {},
     "output_type": "execute_result"
    }
   ],
   "source": [
    "r_simd_v0"
   ]
  },
  {
   "cell_type": "markdown",
   "metadata": {},
   "source": [
    "Let's compare phis using indirect method (by comparing of the measured ratio with the theoretical one)"
   ]
  },
  {
   "cell_type": "code",
   "execution_count": 43,
   "metadata": {},
   "outputs": [
    {
     "data": {
      "text/latex": [
       "$\\displaystyle 0.0100795849000311$"
      ],
      "text/plain": [
       "0.0100795849000311"
      ]
     },
     "execution_count": 43,
     "metadata": {},
     "output_type": "execute_result"
    }
   ],
   "source": [
    "rat = r_simd_v0['0'] / r_simd_v0['1']\n",
    "comp_rat = - (np.sin(2 * res_theta) * sin(np.pi / 3) + 1.) / (np.sin(2 * res_theta) * sin(np.pi / 3) - 1.)\n",
    "ratio_of_ratios = rat / comp_rat\n",
    "ratio_of_ratios"
   ]
  },
  {
   "cell_type": "markdown",
   "metadata": {},
   "source": [
    "## Task 4"
   ]
  },
  {
   "cell_type": "markdown",
   "metadata": {},
   "source": [
    "### Sub-Task 1"
   ]
  },
  {
   "cell_type": "code",
   "execution_count": 44,
   "metadata": {},
   "outputs": [],
   "source": [
    "hadm = Matrix([[1, 1], [1, -1]]) / sqrt(2)\n",
    "xmat = Matrix([[0, 1], [1, 0]])"
   ]
  },
  {
   "cell_type": "code",
   "execution_count": 45,
   "metadata": {},
   "outputs": [],
   "source": [
    "res1 = hadm @ xmat @ hadm"
   ]
  },
  {
   "cell_type": "code",
   "execution_count": 46,
   "metadata": {},
   "outputs": [
    {
     "data": {
      "text/latex": [
       "$\\displaystyle \\left[\\begin{matrix}1 & 0\\\\0 & -1\\end{matrix}\\right]$"
      ],
      "text/plain": [
       "Matrix([\n",
       "[1,  0],\n",
       "[0, -1]])"
      ]
     },
     "execution_count": 46,
     "metadata": {},
     "output_type": "execute_result"
    }
   ],
   "source": [
    "res1"
   ]
  },
  {
   "cell_type": "code",
   "execution_count": 47,
   "metadata": {},
   "outputs": [],
   "source": [
    "zmat = Matrix([[1, 0], [0, -1]])"
   ]
  },
  {
   "cell_type": "code",
   "execution_count": 48,
   "metadata": {},
   "outputs": [
    {
     "data": {
      "text/latex": [
       "$\\displaystyle \\left[\\begin{matrix}0 & 0\\\\0 & 0\\end{matrix}\\right]$"
      ],
      "text/plain": [
       "Matrix([\n",
       "[0, 0],\n",
       "[0, 0]])"
      ]
     },
     "execution_count": 48,
     "metadata": {},
     "output_type": "execute_result"
    }
   ],
   "source": [
    "res1 - zmat"
   ]
  },
  {
   "cell_type": "markdown",
   "metadata": {},
   "source": [
    "### Sub-Task 2"
   ]
  },
  {
   "cell_type": "markdown",
   "metadata": {},
   "source": [
    "Let's find Controlled Z matrix by definition: it should apply $\\hat Z$ to first qubit if the second one (control) is in $\\vert 1 \\rangle_2$ state. That gives us the following transition table:\n",
    "\n",
    "|Before &nbsp;&nbsp;&nbsp;&nbsp;&nbsp;&nbsp;&nbsp;&nbsp;&nbsp;| After &nbsp;&nbsp;&nbsp;&nbsp;&nbsp;&nbsp;&nbsp;&nbsp;|\n",
    "|--------------------|----------------------------|\n",
    "|$\\vert 00 \\rangle$  | $+1 \\cdot \\vert 00 \\rangle$|\n",
    "|$\\vert 10 \\rangle$  | $+1 \\cdot \\vert 10 \\rangle$|\n",
    "|$\\vert 01 \\rangle$  | $+1 \\cdot \\vert 01 \\rangle$|\n",
    "|$\\vert 11 \\rangle$  | $-1 \\cdot \\vert 11 \\rangle$|\n",
    "\n",
    "Thus it can be represented in form of matrix as:\n",
    "\n",
    "$$  \\begin{bmatrix}\n",
    "    1 & 0 & 0 & 0\\\\\n",
    "    0 & 1 & 0 & 0\\\\\n",
    "    0 & 0 & 1 & 0\\\\\n",
    "    0 & 0 & 0 &-1\n",
    "    \\end{bmatrix}    $$\n",
    "    \n",
    "Or by formula: $\\hat{CZ}: \\vert ij \\rangle \\rightarrow (-1)^{i \\cdot j} \\vert ij \\rangle$, obviously it symmetrical for $i,j$ since that $\\hat{CZ}$ is equal in both cases.\n"
   ]
  },
  {
   "cell_type": "markdown",
   "metadata": {},
   "source": [
    "### Sub-Task 3"
   ]
  },
  {
   "cell_type": "markdown",
   "metadata": {},
   "source": [
    "First of all we should determine what is Hadamar operator in terms of 2-qubits. Lets's assume that it is applied to the first one, thus transition table is:\n",
    "\n",
    "|Before &nbsp;&nbsp;&nbsp;&nbsp;&nbsp;&nbsp;&nbsp;&nbsp;&nbsp;&nbsp;&nbsp;&nbsp;&nbsp;&nbsp;&nbsp;&nbsp;&nbsp;&nbsp;&nbsp;&nbsp;&nbsp;&nbsp;&nbsp;&nbsp;&nbsp;&nbsp;&nbsp;| After &nbsp;&nbsp;&nbsp;&nbsp;&nbsp;&nbsp;&nbsp;&nbsp;&nbsp;&nbsp;&nbsp;&nbsp;&nbsp;&nbsp;&nbsp;&nbsp;&nbsp;&nbsp;&nbsp;&nbsp;&nbsp;&nbsp;&nbsp;&nbsp;&nbsp;&nbsp;|\n",
    "|--------------------|-----------------------------------------------------------------|\n",
    "|$\\vert 0x \\rangle$  | $\\frac{1}{\\sqrt{2}} \\cdot (\\vert 0x \\rangle + \\vert 1x \\rangle)$|\n",
    "|$\\vert 1x \\rangle$  | $\\frac{1}{\\sqrt{2}} \\cdot (\\vert 0x \\rangle - \\vert 1x \\rangle)$|\n",
    "\n",
    "Or it can be written as a tensor product:\n",
    "$\\hat{H}^{(2)}_{1} = \\hat{I}^{(1)}_{2} \\otimes \\hat{H}^{(1)}_{1}$. That gives us the followinfg form:"
   ]
  },
  {
   "cell_type": "code",
   "execution_count": 49,
   "metadata": {},
   "outputs": [],
   "source": [
    "from sympy.physics.quantum import TensorProduct"
   ]
  },
  {
   "cell_type": "code",
   "execution_count": 50,
   "metadata": {},
   "outputs": [],
   "source": [
    "hadm_2_1 = TensorProduct(eye(2), hadm)"
   ]
  },
  {
   "cell_type": "code",
   "execution_count": 51,
   "metadata": {},
   "outputs": [
    {
     "data": {
      "text/latex": [
       "$\\displaystyle \\left[\\begin{matrix}\\frac{\\sqrt{2}}{2} & \\frac{\\sqrt{2}}{2} & 0 & 0\\\\\\frac{\\sqrt{2}}{2} & - \\frac{\\sqrt{2}}{2} & 0 & 0\\\\0 & 0 & \\frac{\\sqrt{2}}{2} & \\frac{\\sqrt{2}}{2}\\\\0 & 0 & \\frac{\\sqrt{2}}{2} & - \\frac{\\sqrt{2}}{2}\\end{matrix}\\right]$"
      ],
      "text/plain": [
       "Matrix([\n",
       "[sqrt(2)/2,  sqrt(2)/2,         0,          0],\n",
       "[sqrt(2)/2, -sqrt(2)/2,         0,          0],\n",
       "[        0,          0, sqrt(2)/2,  sqrt(2)/2],\n",
       "[        0,          0, sqrt(2)/2, -sqrt(2)/2]])"
      ]
     },
     "execution_count": 51,
     "metadata": {},
     "output_type": "execute_result"
    }
   ],
   "source": [
    "hadm_2_1"
   ]
  },
  {
   "cell_type": "markdown",
   "metadata": {},
   "source": [
    "And vice-versa for hadamar gate on the second qubit:"
   ]
  },
  {
   "cell_type": "code",
   "execution_count": 52,
   "metadata": {},
   "outputs": [],
   "source": [
    "hadm_2_2 = TensorProduct(hadm, eye(2))"
   ]
  },
  {
   "cell_type": "code",
   "execution_count": 53,
   "metadata": {},
   "outputs": [
    {
     "data": {
      "text/latex": [
       "$\\displaystyle \\left[\\begin{matrix}\\frac{\\sqrt{2}}{2} & 0 & \\frac{\\sqrt{2}}{2} & 0\\\\0 & \\frac{\\sqrt{2}}{2} & 0 & \\frac{\\sqrt{2}}{2}\\\\\\frac{\\sqrt{2}}{2} & 0 & - \\frac{\\sqrt{2}}{2} & 0\\\\0 & \\frac{\\sqrt{2}}{2} & 0 & - \\frac{\\sqrt{2}}{2}\\end{matrix}\\right]$"
      ],
      "text/plain": [
       "Matrix([\n",
       "[sqrt(2)/2,         0,  sqrt(2)/2,          0],\n",
       "[        0, sqrt(2)/2,          0,  sqrt(2)/2],\n",
       "[sqrt(2)/2,         0, -sqrt(2)/2,          0],\n",
       "[        0, sqrt(2)/2,          0, -sqrt(2)/2]])"
      ]
     },
     "execution_count": 53,
     "metadata": {},
     "output_type": "execute_result"
    }
   ],
   "source": [
    "hadm_2_2"
   ]
  },
  {
   "cell_type": "markdown",
   "metadata": {},
   "source": [
    "The definition of controlled not for the second gate: it should invert the second qubit if the first one is in $\\vert 1 \\rangle$ state.\n",
    "\n",
    "|Before &nbsp;&nbsp;&nbsp;&nbsp;&nbsp;&nbsp;&nbsp;&nbsp;&nbsp;| After &nbsp;&nbsp;&nbsp;&nbsp;&nbsp;&nbsp;&nbsp;&nbsp;|\n",
    "|--------------------|-------------------|\n",
    "|$\\vert 00 \\rangle$  | $\\vert 00 \\rangle$|\n",
    "|$\\vert 10 \\rangle$  | $\\vert 11 \\rangle$|\n",
    "|$\\vert 01 \\rangle$  | $\\vert 01 \\rangle$|\n",
    "|$\\vert 11 \\rangle$  | $\\vert 10 \\rangle$|\n",
    "\n",
    "That gives us the following form:"
   ]
  },
  {
   "cell_type": "code",
   "execution_count": 54,
   "metadata": {},
   "outputs": [],
   "source": [
    "cnot_2 = Matrix([[1, 0, 0, 0], [0, 0, 0, 1], [0, 0, 1, 0], [0, 1, 0, 0]])"
   ]
  },
  {
   "cell_type": "code",
   "execution_count": 55,
   "metadata": {},
   "outputs": [
    {
     "data": {
      "text/latex": [
       "$\\displaystyle \\left[\\begin{matrix}1 & 0 & 0 & 0\\\\0 & 0 & 0 & 1\\\\0 & 0 & 1 & 0\\\\0 & 1 & 0 & 0\\end{matrix}\\right]$"
      ],
      "text/plain": [
       "Matrix([\n",
       "[1, 0, 0, 0],\n",
       "[0, 0, 0, 1],\n",
       "[0, 0, 1, 0],\n",
       "[0, 1, 0, 0]])"
      ]
     },
     "execution_count": 55,
     "metadata": {},
     "output_type": "execute_result"
    }
   ],
   "source": [
    "cnot_2"
   ]
  },
  {
   "cell_type": "markdown",
   "metadata": {},
   "source": [
    "Let's writre the right part of circuit:"
   ]
  },
  {
   "cell_type": "code",
   "execution_count": 56,
   "metadata": {},
   "outputs": [],
   "source": [
    "rc = hadm_2_1 @ hadm_2_2 @ cnot_2 @ hadm_2_1 @ hadm_2_2"
   ]
  },
  {
   "cell_type": "code",
   "execution_count": 57,
   "metadata": {},
   "outputs": [
    {
     "data": {
      "text/latex": [
       "$\\displaystyle \\left[\\begin{matrix}1 & 0 & 0 & 0\\\\0 & 1 & 0 & 0\\\\0 & 0 & 0 & 1\\\\0 & 0 & 1 & 0\\end{matrix}\\right]$"
      ],
      "text/plain": [
       "Matrix([\n",
       "[1, 0, 0, 0],\n",
       "[0, 1, 0, 0],\n",
       "[0, 0, 0, 1],\n",
       "[0, 0, 1, 0]])"
      ]
     },
     "execution_count": 57,
     "metadata": {},
     "output_type": "execute_result"
    }
   ],
   "source": [
    "rc"
   ]
  },
  {
   "cell_type": "code",
   "execution_count": 58,
   "metadata": {},
   "outputs": [],
   "source": [
    "cnot = Matrix([[1, 0, 0, 0], [0, 1, 0, 0], [0, 0, 0, 1], [0, 0, 1, 0]])"
   ]
  },
  {
   "cell_type": "code",
   "execution_count": 59,
   "metadata": {},
   "outputs": [
    {
     "data": {
      "text/latex": [
       "$\\displaystyle \\left[\\begin{matrix}0 & 0 & 0 & 0\\\\0 & 0 & 0 & 0\\\\0 & 0 & 0 & 0\\\\0 & 0 & 0 & 0\\end{matrix}\\right]$"
      ],
      "text/plain": [
       "Matrix([\n",
       "[0, 0, 0, 0],\n",
       "[0, 0, 0, 0],\n",
       "[0, 0, 0, 0],\n",
       "[0, 0, 0, 0]])"
      ]
     },
     "execution_count": 59,
     "metadata": {},
     "output_type": "execute_result"
    }
   ],
   "source": [
    "rc - cnot"
   ]
  },
  {
   "cell_type": "markdown",
   "metadata": {},
   "source": [
    "### Sub-Task 4"
   ]
  },
  {
   "cell_type": "markdown",
   "metadata": {},
   "source": [
    "We need to find controlled $e^{i\\alpha}$ gate. It should work as: multiply both components \n",
    "of the second cubit on $e^{i\\alpha}$ if the first one is in $\\vert 1 \\langle$ state. It's diagram:\n",
    "\n",
    "|Before &nbsp;&nbsp;&nbsp;&nbsp;&nbsp;&nbsp;&nbsp;&nbsp;&nbsp;| After &nbsp;&nbsp;&nbsp;&nbsp;&nbsp;&nbsp;&nbsp;&nbsp;|\n",
    "|--------------------|--------------------------------------|\n",
    "|$\\vert 00 \\rangle$  | $1            \\cdot \\vert 00 \\rangle$|\n",
    "|$\\vert 10 \\rangle$  | $e^{i \\alpha} \\cdot \\vert 10 \\rangle$|\n",
    "|$\\vert 01 \\rangle$  | $1            \\cdot \\vert 01 \\rangle$|\n",
    "|$\\vert 11 \\rangle$  | $e^{i \\alpha} \\cdot \\vert 11 \\rangle$|\n",
    "\n",
    "Thus the operator's matrix is the following:\n",
    "\n",
    "$$  \\begin{bmatrix}\n",
    "    1 & 0 & 0 & 0\\\\\n",
    "    0 & e^{i\\alpha} & 0 & 0\\\\\n",
    "    0 & 0 & 1 & 0\\\\\n",
    "    0 & 0 & 0 &e^{i\\alpha}\n",
    "    \\end{bmatrix}    $$\n",
    "    \n",
    "Obviously it's just another representation of the following tensor product:\n",
    "\n",
    "$\\hat{CExp} = I^{(1)}_{2} \\otimes \\hat{U}_1 (\\alpha)$ and that corresponds just $U_1$ gate on the first qubit (see Sub-Task 3)."
   ]
  },
  {
   "cell_type": "markdown",
   "metadata": {},
   "source": [
    "## Task 6"
   ]
  },
  {
   "cell_type": "markdown",
   "metadata": {},
   "source": [
    "We know that 2-qubit state can be represented as: $\\vert \\psi \\rangle = \\sum_{i, j = 0, 1} \\psi_{ij} \\vert i \\rangle \\vert j \\rangle$. Thus we can exploit Schmidt's decomposition to factorize the righ side of this equality to the following form: $\\psi_{ij} = \\sum_{k} a_k u_{ik} v_{jk}$. Fortunately this subroutinу is an essential part of numpy."
   ]
  },
  {
   "cell_type": "markdown",
   "metadata": {},
   "source": [
    "### Sub-Task 1"
   ]
  },
  {
   "cell_type": "markdown",
   "metadata": {},
   "source": [
    "We need to set qubits into the state $\\vert 00 \\rangle + \\vert 11 \\rangle$ that gives us $\\psi_{ij} = \\delta_{ij}$."
   ]
  },
  {
   "cell_type": "code",
   "execution_count": 60,
   "metadata": {},
   "outputs": [],
   "source": [
    "psis = np.array([[1, 0], [0, -1]])\n",
    "u, s, v = np.linalg.svd(psis)\n",
    "a, c = s / np.linalg.norm(s)\n",
    "b =   c / np.sqrt(a * np.conj(a) + c * np.conj(c))\n",
    "d = - a / np.sqrt(a * np.conj(a) + c * np.conj(c))\n",
    "s = np.array([a, c, b, d]).reshape(2, 2)"
   ]
  },
  {
   "cell_type": "code",
   "execution_count": 61,
   "metadata": {},
   "outputs": [],
   "source": [
    "ut = np.array(TensorProduct(eye(2), Matrix(u))).astype(dtype = 'complex64')\n",
    "vt = np.array(TensorProduct(Matrix(v), eye(2))).astype(dtype = 'complex64')\n",
    "st = np.array(TensorProduct(eye(2), Matrix(s))).astype(dtype = 'complex64')"
   ]
  },
  {
   "cell_type": "code",
   "execution_count": 62,
   "metadata": {},
   "outputs": [],
   "source": [
    "q = qk.QuantumRegister(2)\n",
    "c = qk.ClassicalRegister(2)\n",
    "qc = qk.QuantumCircuit(q, c)\n",
    "qc.unitary(st, q)\n",
    "qc.cnot(q[0], q[1])\n",
    "qc.unitary(ut, q)\n",
    "qc.unitary(vt, q)\n",
    "qc.measure(q, c)\n",
    "res = qk.execute(qc, backend = simd_backend, shots = 65536).result()\n",
    "r_simd = res.get_counts()"
   ]
  },
  {
   "cell_type": "code",
   "execution_count": 63,
   "metadata": {},
   "outputs": [
    {
     "data": {
      "text/html": [
       "<pre style=\"word-wrap: normal;white-space: pre;background: #fff0;line-height: 1.1;font-family: &quot;Courier New&quot;,Courier,monospace\">       ┌──────────┐     ┌──────────┐┌──────────┐┌─┐   \n",
       "q13_0: ┤0         ├──■──┤0         ├┤0         ├┤M├───\n",
       "       │  unitary │┌─┴─┐│  unitary ││  unitary │└╥┘┌─┐\n",
       "q13_1: ┤1         ├┤ X ├┤1         ├┤1         ├─╫─┤M├\n",
       "       └──────────┘└───┘└──────────┘└──────────┘ ║ └╥┘\n",
       " c3: 2/══════════════════════════════════════════╩══╩═\n",
       "                                                 0  1 </pre>"
      ],
      "text/plain": [
       "       ┌──────────┐     ┌──────────┐┌──────────┐┌─┐   \n",
       "q13_0: ┤0         ├──■──┤0         ├┤0         ├┤M├───\n",
       "       │  unitary │┌─┴─┐│  unitary ││  unitary │└╥┘┌─┐\n",
       "q13_1: ┤1         ├┤ X ├┤1         ├┤1         ├─╫─┤M├\n",
       "       └──────────┘└───┘└──────────┘└──────────┘ ║ └╥┘\n",
       " c3: 2/══════════════════════════════════════════╩══╩═\n",
       "                                                 0  1 "
      ]
     },
     "execution_count": 63,
     "metadata": {},
     "output_type": "execute_result"
    }
   ],
   "source": [
    "qc.draw()"
   ]
  },
  {
   "cell_type": "code",
   "execution_count": 64,
   "metadata": {},
   "outputs": [
    {
     "data": {
      "text/plain": [
       "{'00': 32751, '11': 32785}"
      ]
     },
     "execution_count": 64,
     "metadata": {},
     "output_type": "execute_result"
    }
   ],
   "source": [
    "r_simd"
   ]
  },
  {
   "cell_type": "markdown",
   "metadata": {},
   "source": [
    "### Sub-Task 2"
   ]
  },
  {
   "cell_type": "code",
   "execution_count": 65,
   "metadata": {},
   "outputs": [],
   "source": [
    "psis = np.array([[0, 1], [1, 0]])\n",
    "u, s, v = np.linalg.svd(psis)\n",
    "a, c = s / np.linalg.norm(s)\n",
    "b =   c / np.sqrt(a * np.conj(a) + c * np.conj(c))\n",
    "d = - a / np.sqrt(a * np.conj(a) + c * np.conj(c))\n",
    "s = np.array([a, c, b, d]).reshape(2, 2)"
   ]
  },
  {
   "cell_type": "code",
   "execution_count": 66,
   "metadata": {},
   "outputs": [],
   "source": [
    "ut = np.array(TensorProduct(eye(2), Matrix(u))).astype(dtype = 'complex64')\n",
    "vt = np.array(TensorProduct(Matrix(v), eye(2))).astype(dtype = 'complex64')\n",
    "st = np.array(TensorProduct(eye(2), Matrix(s))).astype(dtype = 'complex64')"
   ]
  },
  {
   "cell_type": "code",
   "execution_count": 67,
   "metadata": {},
   "outputs": [],
   "source": [
    "q = qk.QuantumRegister(2)\n",
    "c = qk.ClassicalRegister(2)\n",
    "qc = qk.QuantumCircuit(q, c)\n",
    "qc.unitary(st, q)\n",
    "qc.cnot(q[0], q[1])\n",
    "qc.unitary(ut, q)\n",
    "qc.unitary(vt, q)\n",
    "qc.measure(q, c)\n",
    "res = qk.execute(qc, backend = simd_backend, shots = 65536).result()\n",
    "r_simd = res.get_counts()"
   ]
  },
  {
   "cell_type": "code",
   "execution_count": 68,
   "metadata": {},
   "outputs": [
    {
     "data": {
      "text/plain": [
       "{'01': 32729, '10': 32807}"
      ]
     },
     "execution_count": 68,
     "metadata": {},
     "output_type": "execute_result"
    }
   ],
   "source": [
    "r_simd"
   ]
  },
  {
   "cell_type": "markdown",
   "metadata": {},
   "source": [
    "### Sub-Task 3"
   ]
  },
  {
   "cell_type": "code",
   "execution_count": 69,
   "metadata": {},
   "outputs": [
    {
     "name": "stdout",
     "output_type": "stream",
     "text": [
      "[3.23606798 1.23606798]\n"
     ]
    }
   ],
   "source": [
    "psis = np.array([[3, 1], [1, -1]])\n",
    "u, s, v = np.linalg.svd(psis)\n",
    "print(s)\n",
    "a, c = s / np.linalg.norm(s)\n",
    "b =   c / np.sqrt(a * np.conj(a) + c * np.conj(c))\n",
    "d = - a / np.sqrt(a * np.conj(a) + c * np.conj(c))\n",
    "s = np.array([a, c, b, d]).reshape(2, 2)"
   ]
  },
  {
   "cell_type": "code",
   "execution_count": 70,
   "metadata": {},
   "outputs": [],
   "source": [
    "ut = np.array(TensorProduct(eye(2), Matrix(u))).astype(dtype = 'complex64')\n",
    "vt = np.array(TensorProduct(Matrix(v), eye(2))).astype(dtype = 'complex64')\n",
    "st = np.array(TensorProduct(eye(2), Matrix(s))).astype(dtype = 'complex64')"
   ]
  },
  {
   "cell_type": "code",
   "execution_count": 71,
   "metadata": {},
   "outputs": [
    {
     "data": {
      "text/plain": [
       "array([0.903696140572831, 0.288675171919875, 0.288675130830658,\n",
       "       -0.129099435527793], dtype=object)"
      ]
     },
     "execution_count": 71,
     "metadata": {},
     "output_type": "execute_result"
    }
   ],
   "source": [
    "full_mat = st @ cnot_2 @ ut @ vt.T\n",
    "full_mat @ np.array([1, 0, 0, 0])"
   ]
  },
  {
   "cell_type": "code",
   "execution_count": 72,
   "metadata": {},
   "outputs": [],
   "source": [
    "q = qk.QuantumRegister(2)\n",
    "c = qk.ClassicalRegister(2)\n",
    "qc = qk.QuantumCircuit(q, c)\n",
    "qc.unitary(st, q)\n",
    "qc.cnot(q[0], q[1])\n",
    "qc.unitary(ut, q)\n",
    "qc.unitary(vt.T, q)\n",
    "qc.measure(q, c)\n",
    "res = qk.execute(qc, backend = simd_backend, shots = 65536).result()\n",
    "r_simd = res.get_counts()"
   ]
  },
  {
   "cell_type": "code",
   "execution_count": 73,
   "metadata": {},
   "outputs": [
    {
     "data": {
      "text/plain": [
       "{'00': 49195, '01': 5350, '10': 5464, '11': 5527}"
      ]
     },
     "execution_count": 73,
     "metadata": {},
     "output_type": "execute_result"
    }
   ],
   "source": [
    "r_simd"
   ]
  },
  {
   "cell_type": "code",
   "execution_count": null,
   "metadata": {},
   "outputs": [],
   "source": []
  }
 ],
 "metadata": {
  "kernelspec": {
   "display_name": "Python 3",
   "language": "python",
   "name": "python3"
  },
  "language_info": {
   "codemirror_mode": {
    "name": "ipython",
    "version": 3
   },
   "file_extension": ".py",
   "mimetype": "text/x-python",
   "name": "python",
   "nbconvert_exporter": "python",
   "pygments_lexer": "ipython3",
   "version": "3.8.3"
  }
 },
 "nbformat": 4,
 "nbformat_minor": 4
}
