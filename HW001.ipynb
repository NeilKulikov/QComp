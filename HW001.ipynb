{
 "cells": [
  {
   "cell_type": "markdown",
   "metadata": {},
   "source": [
    "# HW №1\n",
    "## Task 1"
   ]
  },
  {
   "cell_type": "code",
   "execution_count": 1,
   "metadata": {},
   "outputs": [],
   "source": [
    "%%capture\n",
    "!pip3 install qiskit"
   ]
  },
  {
   "cell_type": "code",
   "execution_count": 2,
   "metadata": {},
   "outputs": [],
   "source": [
    "import numpy as np\n",
    "import qiskit as qk"
   ]
  },
  {
   "cell_type": "code",
   "execution_count": 3,
   "metadata": {},
   "outputs": [],
   "source": [
    "with open('./token', 'r') as token_file:\n",
    "    token = token_file.read()"
   ]
  },
  {
   "cell_type": "code",
   "execution_count": 4,
   "metadata": {},
   "outputs": [
    {
     "name": "stderr",
     "output_type": "stream",
     "text": [
      "/usr/local/lib/python3.8/site-packages/qiskit/providers/ibmq/ibmqfactory.py:192: UserWarning: Timestamps in IBMQ backend properties, jobs, and job results are all now in local time instead of UTC.\n",
      "  warnings.warn('Timestamps in IBMQ backend properties, jobs, and job results '\n"
     ]
    },
    {
     "data": {
      "text/plain": [
       "<AccountProvider for IBMQ(hub='ibm-q', group='open', project='main')>"
      ]
     },
     "execution_count": 4,
     "metadata": {},
     "output_type": "execute_result"
    }
   ],
   "source": [
    "qk.IBMQ.save_account(token, overwrite = True)\n",
    "qk.IBMQ.load_account()"
   ]
  },
  {
   "cell_type": "code",
   "execution_count": 5,
   "metadata": {},
   "outputs": [],
   "source": [
    "provider = qk.IBMQ.get_provider(hub = 'ibm-q')"
   ]
  },
  {
   "cell_type": "code",
   "execution_count": 6,
   "metadata": {},
   "outputs": [],
   "source": [
    "devices = provider.backends(filters=lambda x: (3 <= x.configuration().n_qubits <= 5) and not x.configuration().simulator)"
   ]
  },
  {
   "cell_type": "code",
   "execution_count": 7,
   "metadata": {},
   "outputs": [
    {
     "name": "stdout",
     "output_type": "stream",
     "text": [
      "5\n"
     ]
    }
   ],
   "source": [
    "real_backend = qk.providers.ibmq.least_busy(devices)\n",
    "print(real_backend.configuration().n_qubits)"
   ]
  },
  {
   "cell_type": "code",
   "execution_count": 8,
   "metadata": {},
   "outputs": [],
   "source": [
    "simd_backend = qk.Aer.get_backend('qasm_simulator')"
   ]
  },
  {
   "cell_type": "markdown",
   "metadata": {},
   "source": [
    "## Task 2"
   ]
  },
  {
   "cell_type": "markdown",
   "metadata": {},
   "source": [
    "Since we assume the following form of QBit wavefunction:\n",
    "$\\vert \\psi \\rangle = \\sin \\theta \\vert 0 \\rangle + \\exp{i\\varphi} \\cos \\theta \\vert 1 \\rangle$\n",
    "\n",
    "Actually we measure kinda projection on $Z$ - axis that corresponds $\\theta$ angle. Thus $\\phi$ angle describes projection onto $X,~Y$ axes. To fix it we can rotate system (or alternavely Vector) in the following way: $X,~Y,~Z \\rightarrow Z,~X,~Y$. To do this we should choose axis of rotation, obviously it is normalized vector $(1,~1,~1)$ and angle to rotate $\\alpha = 2 \\pi / 3$."
   ]
  },
  {
   "cell_type": "markdown",
   "metadata": {},
   "source": [
    "To make rotation itself we should compute corresponding axis. We know the form of such rotations (it can be derived from infinitesimal rotations): $\\hat{R}_{\\vec{n}} (\\alpha)= e^{-i \\vec{n} \\cdot \\hat{\\vec{\\sigma}} \\alpha / 2}$.\n",
    "Since all sigma's satisfy $\\hat{\\sigma}_i^2 = \\hat{I}$ it can be rewritten in the following form: \n",
    "\n",
    "$$\\hat{R}_{\\vec{n}} (\\alpha) = I \\cos{\\frac{\\alpha}{2}} - i \\vec{n} \\cdot \\hat{\\vec{\\sigma}} \\sin{\\frac{\\alpha}{2}}$$\n",
    "\n",
    "Thus the function to compute such operator is:"
   ]
  },
  {
   "cell_type": "code",
   "execution_count": 9,
   "metadata": {},
   "outputs": [],
   "source": [
    "px = np.array([[0, 1 ], [1 , 0]], dtype = 'complex128')\n",
    "py = np.array([[0,-1j], [1j, 0]], dtype = 'complex128')\n",
    "pz = np.array([[1, 0 ], [0 ,-1]], dtype = 'complex128')\n",
    "pi = np.array([[1, 0 ], [0 , 1]], dtype = 'complex128')"
   ]
  },
  {
   "cell_type": "code",
   "execution_count": 10,
   "metadata": {},
   "outputs": [],
   "source": [
    "def rot_mat(vec, angle):\n",
    "    assert len(vec) == 3\n",
    "    lvec = np.array(vec, dtype = 'float64')\n",
    "    lvec = lvec / np.linalg.norm(lvec)\n",
    "    mat = lvec[0] * px + lvec[1] * py + lvec[2] * pz\n",
    "    sq_mat = mat @ mat\n",
    "    assert np.max(np.abs(sq_mat - pi)) < 1e-4\n",
    "    res = pi * np.cos(angle / 2) - 1j * mat * np.sin(angle / 2)\n",
    "    sq_res = np.conjugate(res).T @ res\n",
    "    assert np.max(np.abs(sq_res - pi)) < 1e-4\n",
    "    return res"
   ]
  },
  {
   "cell_type": "markdown",
   "metadata": {},
   "source": [
    "We needs not general but specific rotation:"
   ]
  },
  {
   "cell_type": "code",
   "execution_count": 11,
   "metadata": {},
   "outputs": [],
   "source": [
    "rot = rot_mat([1, 1, 1], 2 * np.pi / 3)"
   ]
  },
  {
   "cell_type": "code",
   "execution_count": 12,
   "metadata": {},
   "outputs": [
    {
     "name": "stdout",
     "output_type": "stream",
     "text": [
      "[[ 0.5-0.5j -0.5-0.5j]\n",
      " [ 0.5-0.5j  0.5+0.5j]]\n"
     ]
    }
   ],
   "source": [
    "print(rot)"
   ]
  },
  {
   "cell_type": "markdown",
   "metadata": {},
   "source": [
    "We need to choose some random (but normalized) initial state:"
   ]
  },
  {
   "cell_type": "code",
   "execution_count": 13,
   "metadata": {},
   "outputs": [],
   "source": [
    "state = np.random.rand(2) + 1j * np.random.rand(2)\n",
    "state = state / np.linalg.norm(state)\n",
    "psi_angle = np.angle(state[0])\n",
    "state = np.exp(-1j * psi_angle) * state\n",
    "assert np.imag(state[0]) < 1.e-4"
   ]
  },
  {
   "cell_type": "markdown",
   "metadata": {},
   "source": [
    "Since here state has form: \n",
    "$\\vert \\psi \\rangle = e^{i\\psi} \\sin \\theta \\vert 0 \\rangle + e^{i\\phi} \\cos \\theta \\vert 1 \\rangle$\n",
    "We can rewrite in the following form:\n",
    "$\\vert \\psi \\rangle = e^{i\\psi} (\\sin \\theta \\vert 0 \\rangle + \\exp{i\\varphi} \\cos \\theta \\vert 1 \\rangle)$, thus $\\varphi = \\phi - \\psi$."
   ]
  },
  {
   "cell_type": "code",
   "execution_count": 14,
   "metadata": {},
   "outputs": [],
   "source": [
    "varphi = np.angle(state[1])"
   ]
  },
  {
   "cell_type": "code",
   "execution_count": 15,
   "metadata": {},
   "outputs": [
    {
     "data": {
      "text/plain": [
       "0.2774462277789017"
      ]
     },
     "execution_count": 15,
     "metadata": {},
     "output_type": "execute_result"
    }
   ],
   "source": [
    "varphi"
   ]
  },
  {
   "cell_type": "code",
   "execution_count": 16,
   "metadata": {},
   "outputs": [],
   "source": [
    "q = qk.QuantumRegister(1)\n",
    "c = qk.ClassicalRegister(1)\n",
    "qc = qk.QuantumCircuit(q, c)\n",
    "qc.initialize(state, q)\n",
    "qc.unitary(rot, q)\n",
    "qc.measure(q, c)\n",
    "res = qk.execute(qc, backend = simd_backend, shots = 65536).result()\n",
    "r0 = res.get_counts()"
   ]
  },
  {
   "cell_type": "code",
   "execution_count": 17,
   "metadata": {},
   "outputs": [
    {
     "name": "stdout",
     "output_type": "stream",
     "text": [
      "{'0': 41364, '1': 24172}\n"
     ]
    }
   ],
   "source": [
    "print(r0)"
   ]
  },
  {
   "cell_type": "code",
   "execution_count": 18,
   "metadata": {},
   "outputs": [
    {
     "data": {
      "text/html": [
       "<pre style=\"word-wrap: normal;white-space: pre;background: #fff0;line-height: 1.1;font-family: &quot;Courier New&quot;,Courier,monospace\">      ┌──────────────────────────────────────┐┌─────────┐┌─┐\n",
       "q0_0: ┤ initialize(0.65084,0.73018+0.20795j) ├┤ unitary ├┤M├\n",
       "      └──────────────────────────────────────┘└─────────┘└╥┘\n",
       "c0: 1/════════════════════════════════════════════════════╩═\n",
       "                                                          0 </pre>"
      ],
      "text/plain": [
       "      ┌──────────────────────────────────────┐┌─────────┐┌─┐\n",
       "q0_0: ┤ initialize(0.65084,0.73018+0.20795j) ├┤ unitary ├┤M├\n",
       "      └──────────────────────────────────────┘└─────────┘└╥┘\n",
       "c0: 1/════════════════════════════════════════════════════╩═\n",
       "                                                          0 "
      ]
     },
     "execution_count": 18,
     "metadata": {},
     "output_type": "execute_result"
    }
   ],
   "source": [
    "qc.draw()"
   ]
  },
  {
   "cell_type": "markdown",
   "metadata": {},
   "source": [
    "Since we measure de-facto projection onto $Y$ axis:\n",
    "$$\\frac{p(0)}{p(1)} = "
   ]
  },
  {
   "cell_type": "code",
   "execution_count": 19,
   "metadata": {},
   "outputs": [],
   "source": [
    "phi = np.arctan(np.sqrt(r0['0'] / r0['1']))"
   ]
  },
  {
   "cell_type": "code",
   "execution_count": 20,
   "metadata": {},
   "outputs": [
    {
     "data": {
      "text/plain": [
       "0.9181156856612727"
      ]
     },
     "execution_count": 20,
     "metadata": {},
     "output_type": "execute_result"
    }
   ],
   "source": [
    "phi"
   ]
  },
  {
   "cell_type": "code",
   "execution_count": 40,
   "metadata": {},
   "outputs": [],
   "source": [
    "npoints = 100\n",
    "phis = np.linspace(-np.pi / 2, np.pi / 2, npoints)\n",
    "rs, ps = np.zeros(npoints), np.zeros(npoints)\n",
    "for i, phi in enumerate(phis):\n",
    "    angles = np.array([1, np.exp(1j * phi)])\n",
    "    state = np.random.rand(2)\n",
    "    state = np.array(state) * angles\n",
    "    state = state / np.linalg.norm(state)\n",
    "    q = qk.QuantumRegister(1)\n",
    "    c = qk.ClassicalRegister(1)\n",
    "    qc = qk.QuantumCircuit(q, c)\n",
    "    qc.initialize(state, q)\n",
    "    qc.unitary(rot, q)\n",
    "    qc.measure(q, c)\n",
    "    res = qk.execute(qc, backend = simd_backend, shots = 262144).result()\n",
    "    r0 = res.get_counts()\n",
    "    rs[i] = r0['0'] / r0['1']\n",
    "    ps[i] = np.arctan(np.sqrt(rs[i]))"
   ]
  },
  {
   "cell_type": "code",
   "execution_count": 22,
   "metadata": {},
   "outputs": [],
   "source": [
    "import matplotlib.pyplot as plt"
   ]
  },
  {
   "cell_type": "code",
   "execution_count": 41,
   "metadata": {},
   "outputs": [
    {
     "data": {
      "text/plain": [
       "<matplotlib.collections.PathCollection at 0x124e28340>"
      ]
     },
     "execution_count": 41,
     "metadata": {},
     "output_type": "execute_result"
    },
    {
     "data": {
      "image/png": "[encoded data removed]",
      "text/plain": [
       "<Figure size 432x288 with 1 Axes>"
      ]
     },
     "metadata": {
      "needs_background": "light"
     },
     "output_type": "display_data"
    }
   ],
   "source": [
    "\n",
    "#plt.scatter(phis, rs)\n",
    "plt.scatter(phis, ps)"
   ]
  },
  {
   "cell_type": "code",
   "execution_count": 38,
   "metadata": {},
   "outputs": [
    {
     "data": {
      "text/plain": [
       "<matplotlib.collections.PathCollection at 0x124d6beb0>"
      ]
     },
     "execution_count": 38,
     "metadata": {},
     "output_type": "execute_result"
    },
    {
     "data": {
      "image/png": "[encoded data removed]",
      "text/plain": [
       "<Figure size 432x288 with 1 Axes>"
      ]
     },
     "metadata": {
      "needs_background": "light"
     },
     "output_type": "display_data"
    }
   ],
   "source": [
    "plt.ylim(0, 2 * np.pi)\n",
    "plt.scatter(phis, rs)\n",
    "#plt.scatter(phis, ps)"
   ]
  },
  {
   "cell_type": "code",
   "execution_count": null,
   "metadata": {},
   "outputs": [],
   "source": []
  }
 ],
 "metadata": {
  "kernelspec": {
   "display_name": "Python 3",
   "language": "python",
   "name": "python3"
  },
  "language_info": {
   "codemirror_mode": {
    "name": "ipython",
    "version": 3
   },
   "file_extension": ".py",
   "mimetype": "text/x-python",
   "name": "python",
   "nbconvert_exporter": "python",
   "pygments_lexer": "ipython3",
   "version": "3.8.3"
  }
 },
 "nbformat": 4,
 "nbformat_minor": 4
}
