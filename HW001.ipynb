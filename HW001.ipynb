{
 "cells": [
  {
   "cell_type": "markdown",
   "metadata": {},
   "source": [
    "# HW №1\n",
    "## Task 1"
   ]
  },
  {
   "cell_type": "code",
   "execution_count": 1,
   "metadata": {},
   "outputs": [],
   "source": [
    "%%capture\n",
    "!pip3 install qiskit"
   ]
  },
  {
   "cell_type": "code",
   "execution_count": 2,
   "metadata": {},
   "outputs": [],
   "source": [
    "import numpy as np\n",
    "import qiskit as qk"
   ]
  },
  {
   "cell_type": "code",
   "execution_count": 3,
   "metadata": {},
   "outputs": [],
   "source": [
    "with open('./token', 'r') as token_file:\n",
    "    token = token_file.read()"
   ]
  },
  {
   "cell_type": "code",
   "execution_count": 4,
   "metadata": {},
   "outputs": [
    {
     "name": "stderr",
     "output_type": "stream",
     "text": [
      "/usr/local/lib/python3.8/site-packages/qiskit/providers/ibmq/ibmqfactory.py:192: UserWarning: Timestamps in IBMQ backend properties, jobs, and job results are all now in local time instead of UTC.\n",
      "  warnings.warn('Timestamps in IBMQ backend properties, jobs, and job results '\n"
     ]
    },
    {
     "data": {
      "text/plain": [
       "<AccountProvider for IBMQ(hub='ibm-q', group='open', project='main')>"
      ]
     },
     "execution_count": 4,
     "metadata": {},
     "output_type": "execute_result"
    }
   ],
   "source": [
    "qk.IBMQ.save_account(token, overwrite = True)\n",
    "qk.IBMQ.load_account()"
   ]
  },
  {
   "cell_type": "code",
   "execution_count": 5,
   "metadata": {},
   "outputs": [],
   "source": [
    "provider = qk.IBMQ.get_provider(hub = 'ibm-q')"
   ]
  },
  {
   "cell_type": "code",
   "execution_count": 6,
   "metadata": {},
   "outputs": [],
   "source": [
    "devices = provider.backends(filters=lambda x: (3 <= x.configuration().n_qubits <= 5) and not x.configuration().simulator)"
   ]
  },
  {
   "cell_type": "code",
   "execution_count": 7,
   "metadata": {},
   "outputs": [
    {
     "name": "stdout",
     "output_type": "stream",
     "text": [
      "5\n"
     ]
    }
   ],
   "source": [
    "real_backend = qk.providers.ibmq.least_busy(devices)\n",
    "print(real_backend.configuration().n_qubits)"
   ]
  },
  {
   "cell_type": "code",
   "execution_count": 8,
   "metadata": {},
   "outputs": [],
   "source": [
    "simd_backend = qk.Aer.get_backend('qasm_simulator')"
   ]
  },
  {
   "cell_type": "markdown",
   "metadata": {},
   "source": [
    "## Task 2"
   ]
  },
  {
   "cell_type": "markdown",
   "metadata": {},
   "source": [
    "Since we assume the following form of QBit wavefunction:\n",
    "$\\vert \\psi \\rangle = \\sin \\theta \\vert 0 \\rangle + \\exp{i\\varphi} \\cos \\theta \\vert 1 \\rangle$\n",
    "\n",
    "We can transform basis into:\n",
    "\n",
    "$$\n",
    "\\begin{align}\n",
    "    \\vert + \\rangle = \\frac{1}{\\sqrt 2} \\left( \\vert 0 \\rangle + \\vert 1 \\rangle \\right); & &\n",
    "        \\vert 0 \\rangle = \\frac{1}{\\sqrt 2} \\left( \\vert + \\rangle + \\vert - \\rangle \\right);\\\\\n",
    "    \\vert - \\rangle = \\frac{1}{\\sqrt 2} \\left( \\vert 0 \\rangle - \\vert 1 \\rangle \\right); & &\n",
    "        \\vert 1 \\rangle = \\frac{1}{\\sqrt 2} \\left( \\vert + \\rangle - \\vert - \\rangle \\right);\n",
    "\\end{align}\n",
    "$$\n",
    "\n",
    "In this basis:\n",
    "$\\vert \\psi \\rangle = \\frac{\\sin \\theta + e^{i\\varphi} \\cos \\theta}{\\sqrt 2} \\vert + \\rangle + \n",
    "                      \\frac{\\sin \\theta - e^{i\\varphi} \\cos \\theta}{\\sqrt 2} \\vert - \\rangle; $"
   ]
  },
  {
   "cell_type": "code",
   "execution_count": 125,
   "metadata": {},
   "outputs": [],
   "source": [
    "q = qk.QuantumRegister(2)\n",
    "c = qk.ClassicalRegister(2)\n",
    "qc = qk.QuantumCircuit(q, c)"
   ]
  },
  {
   "cell_type": "code",
   "execution_count": 126,
   "metadata": {},
   "outputs": [
    {
     "data": {
      "text/plain": [
       "<qiskit.circuit.instructionset.InstructionSet at 0x1209f9850>"
      ]
     },
     "execution_count": 126,
     "metadata": {},
     "output_type": "execute_result"
    }
   ],
   "source": [
    "qc.initialize([np.sqrt(15.) / 4., 1. / 4.], q[0])\n",
    "qc.h(q[1])\n",
    "qc.swap(q[0], q[1])\n",
    "#qc.unitary(to_basis, [0])\n",
    "#qc.unitary(to_basis, [1])\n",
    "qc.measure(q, c)"
   ]
  },
  {
   "cell_type": "code",
   "execution_count": 127,
   "metadata": {},
   "outputs": [
    {
     "data": {
      "text/html": [
       "<pre style=\"word-wrap: normal;white-space: pre;background: #fff0;line-height: 1.1;font-family: &quot;Courier New&quot;,Courier,monospace\">       ┌──────────────────────────┐   ┌─┐   \n",
       "q83_0: ┤ initialize(0.96825,0.25) ├─X─┤M├───\n",
       "       └──────────┬───┬───────────┘ │ └╥┘┌─┐\n",
       "q83_1: ───────────┤ H ├─────────────X──╫─┤M├\n",
       "                  └───┘                ║ └╥┘\n",
       "c10: 2/════════════════════════════════╩══╩═\n",
       "                                       0  1 </pre>"
      ],
      "text/plain": [
       "       ┌──────────────────────────┐   ┌─┐   \n",
       "q83_0: ┤ initialize(0.96825,0.25) ├─X─┤M├───\n",
       "       └──────────┬───┬───────────┘ │ └╥┘┌─┐\n",
       "q83_1: ───────────┤ H ├─────────────X──╫─┤M├\n",
       "                  └───┘                ║ └╥┘\n",
       "c10: 2/════════════════════════════════╩══╩═\n",
       "                                       0  1 "
      ]
     },
     "execution_count": 127,
     "metadata": {},
     "output_type": "execute_result"
    }
   ],
   "source": [
    "qc.draw()"
   ]
  },
  {
   "cell_type": "code",
   "execution_count": 128,
   "metadata": {},
   "outputs": [],
   "source": [
    "res = qk.execute(qc, backend = simd_backend, shots = 16384).result()"
   ]
  },
  {
   "cell_type": "code",
   "execution_count": 129,
   "metadata": {},
   "outputs": [
    {
     "name": "stdout",
     "output_type": "stream",
     "text": [
      "{'00': 7617, '01': 7691, '10': 541, '11': 535}\n"
     ]
    }
   ],
   "source": [
    "r = res.get_counts()\n",
    "print(r)"
   ]
  },
  {
   "cell_type": "code",
   "execution_count": 130,
   "metadata": {},
   "outputs": [
    {
     "data": {
      "image/png": "[encoded data removed]",
      "text/plain": [
       "<Figure size 504x360 with 1 Axes>"
      ]
     },
     "execution_count": 130,
     "metadata": {},
     "output_type": "execute_result"
    }
   ],
   "source": [
    "qk.visualization.plot_histogram(res.get_counts(qc))"
   ]
  },
  {
   "cell_type": "code",
   "execution_count": 131,
   "metadata": {},
   "outputs": [],
   "source": [
    "alpha = (r['00'] + r['01']) / (r['10'] + r['11'])"
   ]
  },
  {
   "cell_type": "code",
   "execution_count": 132,
   "metadata": {},
   "outputs": [
    {
     "data": {
      "text/plain": [
       "14.226765799256505"
      ]
     },
     "execution_count": 132,
     "metadata": {},
     "output_type": "execute_result"
    }
   ],
   "source": [
    "alpha"
   ]
  },
  {
   "cell_type": "code",
   "execution_count": 108,
   "metadata": {},
   "outputs": [],
   "source": [
    "beta = (r['00'] + r['10']) / (r['01'] + r['11'])"
   ]
  },
  {
   "cell_type": "code",
   "execution_count": 109,
   "metadata": {},
   "outputs": [
    {
     "data": {
      "text/plain": [
       "0.987867022567338"
      ]
     },
     "execution_count": 109,
     "metadata": {},
     "output_type": "execute_result"
    }
   ],
   "source": [
    "beta"
   ]
  },
  {
   "cell_type": "code",
   "execution_count": null,
   "metadata": {},
   "outputs": [],
   "source": [
    "tan"
   ]
  }
 ],
 "metadata": {
  "kernelspec": {
   "display_name": "Python 3",
   "language": "python",
   "name": "python3"
  },
  "language_info": {
   "codemirror_mode": {
    "name": "ipython",
    "version": 3
   },
   "file_extension": ".py",
   "mimetype": "text/x-python",
   "name": "python",
   "nbconvert_exporter": "python",
   "pygments_lexer": "ipython3",
   "version": "3.8.3"
  }
 },
 "nbformat": 4,
 "nbformat_minor": 4
}
