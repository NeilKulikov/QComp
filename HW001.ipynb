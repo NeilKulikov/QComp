{
 "cells": [
  {
   "cell_type": "markdown",
   "metadata": {},
   "source": [
    "# HW №1\n",
    "## Task 1"
   ]
  },
  {
   "cell_type": "code",
   "execution_count": 1,
   "metadata": {},
   "outputs": [],
   "source": [
    "%%capture\n",
    "!pip3 install qiskit"
   ]
  },
  {
   "cell_type": "code",
   "execution_count": 2,
   "metadata": {},
   "outputs": [],
   "source": [
    "import numpy as np\n",
    "import qiskit as qk\n",
    "from sympy import *"
   ]
  },
  {
   "cell_type": "code",
   "execution_count": 3,
   "metadata": {},
   "outputs": [],
   "source": [
    "with open('./token', 'r') as token_file:\n",
    "    token = token_file.read()"
   ]
  },
  {
   "cell_type": "code",
   "execution_count": 4,
   "metadata": {},
   "outputs": [
    {
     "name": "stderr",
     "output_type": "stream",
     "text": [
      "/usr/local/lib/python3.8/site-packages/qiskit/providers/ibmq/ibmqfactory.py:192: UserWarning: Timestamps in IBMQ backend properties, jobs, and job results are all now in local time instead of UTC.\n",
      "  warnings.warn('Timestamps in IBMQ backend properties, jobs, and job results '\n"
     ]
    },
    {
     "data": {
      "text/plain": [
       "<AccountProvider for IBMQ(hub='ibm-q', group='open', project='main')>"
      ]
     },
     "execution_count": 4,
     "metadata": {},
     "output_type": "execute_result"
    }
   ],
   "source": [
    "qk.IBMQ.save_account(token, overwrite = True)\n",
    "qk.IBMQ.load_account()"
   ]
  },
  {
   "cell_type": "code",
   "execution_count": 5,
   "metadata": {},
   "outputs": [],
   "source": [
    "provider = qk.IBMQ.get_provider(hub = 'ibm-q')"
   ]
  },
  {
   "cell_type": "code",
   "execution_count": 6,
   "metadata": {},
   "outputs": [],
   "source": [
    "devices = provider.backends(filters=lambda x: (3 <= x.configuration().n_qubits <= 5) and not x.configuration().simulator)"
   ]
  },
  {
   "cell_type": "code",
   "execution_count": 7,
   "metadata": {},
   "outputs": [
    {
     "name": "stdout",
     "output_type": "stream",
     "text": [
      "5\n"
     ]
    }
   ],
   "source": [
    "real_backend = qk.providers.ibmq.least_busy(devices)\n",
    "print(real_backend.configuration().n_qubits)"
   ]
  },
  {
   "cell_type": "code",
   "execution_count": 8,
   "metadata": {},
   "outputs": [],
   "source": [
    "simd_backend = qk.Aer.get_backend('qasm_simulator')"
   ]
  },
  {
   "cell_type": "markdown",
   "metadata": {},
   "source": [
    "## Task 2"
   ]
  },
  {
   "cell_type": "markdown",
   "metadata": {},
   "source": [
    "Since we assume the following form of QBit wavefunction:\n",
    "$\\vert \\psi \\rangle = \\sin \\theta \\vert 0 \\rangle + \\exp{i\\varphi} \\cos \\theta \\vert 1 \\rangle$\n",
    "\n",
    "Actually we measure kinda projection on $Z$ - axis that corresponds $\\theta$ angle. Thus $\\phi$ angle describes projection onto $X,~Y$ axes. To fix it we can rotate system (or alternavely Vector) in the following way: $X,~Y,~Z \\rightarrow Z,~X,~Y$. To do this we should choose axis of rotation, obviously it is normalized vector $(1,~1,~1)$ and angle to rotate $\\alpha = 2 \\pi / 3$."
   ]
  },
  {
   "cell_type": "markdown",
   "metadata": {},
   "source": [
    "To make rotation itself we should compute corresponding axis. We know the form of such rotations (it can be derived from infinitesimal rotations): $\\hat{R}_{\\vec{n}} (\\alpha)= e^{-i \\vec{n} \\cdot \\hat{\\vec{\\sigma}} \\alpha / 2}$.\n",
    "Since all sigma's satisfy $\\hat{\\sigma}_i^2 = \\hat{I}$ it can be rewritten in the following form: \n",
    "\n",
    "$$\\hat{R}_{\\vec{n}} (\\alpha) = I \\cos{\\frac{\\alpha}{2}} - i \\vec{n} \\cdot \\hat{\\vec{\\sigma}} \\sin{\\frac{\\alpha}{2}}$$\n",
    "\n",
    "Thus the function to compute such operator is:"
   ]
  },
  {
   "cell_type": "code",
   "execution_count": 9,
   "metadata": {},
   "outputs": [],
   "source": [
    "px = np.array([[0, 1 ], [1 , 0]], dtype = 'complex128')\n",
    "py = np.array([[0,-1j], [1j, 0]], dtype = 'complex128')\n",
    "pz = np.array([[1, 0 ], [0 ,-1]], dtype = 'complex128')\n",
    "pi = np.array([[1, 0 ], [0 , 1]], dtype = 'complex128')"
   ]
  },
  {
   "cell_type": "code",
   "execution_count": 10,
   "metadata": {},
   "outputs": [],
   "source": [
    "def rot_mat(vec, angle):\n",
    "    assert len(vec) == 3\n",
    "    lvec = np.array(vec, dtype = 'float64')\n",
    "    lvec = lvec / np.linalg.norm(lvec)\n",
    "    mat = lvec[0] * px + lvec[1] * py + lvec[2] * pz\n",
    "    sq_mat = mat @ mat\n",
    "    assert np.max(np.abs(sq_mat - pi)) < 1e-4\n",
    "    res = pi * np.cos(angle / 2) - 1j * mat * np.sin(angle / 2)\n",
    "    sq_res = np.conjugate(res).T @ res\n",
    "    assert np.max(np.abs(sq_res - pi)) < 1e-4\n",
    "    return res"
   ]
  },
  {
   "cell_type": "markdown",
   "metadata": {},
   "source": [
    "We needs not general but specific rotation:"
   ]
  },
  {
   "cell_type": "code",
   "execution_count": 11,
   "metadata": {},
   "outputs": [],
   "source": [
    "rot = rot_mat([1, 1, 1], 2 * np.pi / 3)"
   ]
  },
  {
   "cell_type": "code",
   "execution_count": 12,
   "metadata": {},
   "outputs": [
    {
     "name": "stdout",
     "output_type": "stream",
     "text": [
      "[[ 0.5-0.5j -0.5-0.5j]\n",
      " [ 0.5-0.5j  0.5+0.5j]]\n"
     ]
    }
   ],
   "source": [
    "print(rot)"
   ]
  },
  {
   "cell_type": "markdown",
   "metadata": {},
   "source": [
    "We need to choose some random (but normalized) initial state:"
   ]
  },
  {
   "cell_type": "code",
   "execution_count": 13,
   "metadata": {},
   "outputs": [],
   "source": [
    "state = np.random.rand(2) + 1j * np.random.rand(2)\n",
    "state = state / np.linalg.norm(state)\n",
    "psi_angle = np.angle(state[0])\n",
    "state = np.exp(-1j * psi_angle) * state\n",
    "assert np.imag(state[0]) < 1.e-4"
   ]
  },
  {
   "cell_type": "markdown",
   "metadata": {},
   "source": [
    "Since here state has form: \n",
    "$\\vert \\psi \\rangle = e^{i\\psi} \\sin \\theta \\vert 0 \\rangle + e^{i\\phi} \\cos \\theta \\vert 1 \\rangle$\n",
    "We can rewrite in the following form:\n",
    "$\\vert \\psi \\rangle = e^{i\\psi} (\\sin \\theta \\vert 0 \\rangle + \\exp{i\\varphi} \\cos \\theta \\vert 1 \\rangle)$, thus $\\varphi = \\phi - \\psi$."
   ]
  },
  {
   "cell_type": "code",
   "execution_count": 38,
   "metadata": {},
   "outputs": [],
   "source": [
    "varphi = np.angle(state[1])\n",
    "theta  = np.arcsin(state[0])"
   ]
  },
  {
   "cell_type": "code",
   "execution_count": 39,
   "metadata": {},
   "outputs": [
    {
     "data": {
      "text/plain": [
       "(0.8499274381374198, (0.3058488498816444+0j))"
      ]
     },
     "execution_count": 39,
     "metadata": {},
     "output_type": "execute_result"
    }
   ],
   "source": [
    "varphi, theta"
   ]
  },
  {
   "cell_type": "markdown",
   "metadata": {},
   "source": [
    "Let's compute symbolic result:"
   ]
  },
  {
   "cell_type": "code",
   "execution_count": 32,
   "metadata": {},
   "outputs": [],
   "source": [
    "tht, phi = symbols('theta, phi', real = True)"
   ]
  },
  {
   "cell_type": "code",
   "execution_count": 33,
   "metadata": {},
   "outputs": [],
   "source": [
    "vec0 = Matrix([sin(theta), exp(I * phi) * cos(tht)])"
   ]
  },
  {
   "cell_type": "code",
   "execution_count": 34,
   "metadata": {},
   "outputs": [],
   "source": [
    "rot_op = Matrix([[1-I, -1-I], [1-I, 1+I]]) / 2"
   ]
  },
  {
   "cell_type": "code",
   "execution_count": 35,
   "metadata": {},
   "outputs": [],
   "source": [
    "vec1 = rot_op @ vec0"
   ]
  },
  {
   "cell_type": "code",
   "execution_count": 36,
   "metadata": {},
   "outputs": [],
   "source": [
    "ratio = ((conjugate(vec1[0]) * vec1[0]) / (conjugate(vec1[1]) * vec1[1])).simplify()"
   ]
  },
  {
   "cell_type": "code",
   "execution_count": 37,
   "metadata": {},
   "outputs": [
    {
     "data": {
      "text/latex": [
       "$\\displaystyle \\frac{i e^{2 i \\phi} \\sin{\\left(2 \\theta \\right)} - 2 e^{i \\phi} - i \\sin{\\left(2 \\theta \\right)}}{- i e^{2 i \\phi} \\sin{\\left(2 \\theta \\right)} - 2 e^{i \\phi} + i \\sin{\\left(2 \\theta \\right)}}$"
      ],
      "text/plain": [
       "(I*exp(2*I*phi)*sin(2*theta) - 2*exp(I*phi) - I*sin(2*theta))/(-I*exp(2*I*phi)*sin(2*theta) - 2*exp(I*phi) + I*sin(2*theta))"
      ]
     },
     "execution_count": 37,
     "metadata": {},
     "output_type": "execute_result"
    }
   ],
   "source": [
    "ratio"
   ]
  },
  {
   "cell_type": "markdown",
   "metadata": {},
   "source": [
    "As we can see ratio of probabilities is:\n",
    "$$\\frac{p(\\vert 0 \\rangle)}{p(\\vert 1 \\rangle)} = - \\frac{e^{i\\phi} (\\sin{2\\theta} \\sin{\\phi} + 1)}{e^{i\\phi} (\\sin{2\\theta} \\sin{\\phi} - 1)} = r$$\n",
    "Thus the output is:\n",
    "$$\\sin{\\phi} \\sin{2 \\theta} = \\frac{r - 1}{r + 1}$$"
   ]
  },
  {
   "cell_type": "code",
   "execution_count": 28,
   "metadata": {},
   "outputs": [],
   "source": [
    "q = qk.QuantumRegister(1)\n",
    "c = qk.ClassicalRegister(1)\n",
    "qc = qk.QuantumCircuit(q, c)\n",
    "qc.initialize(state, q)\n",
    "qc.unitary(rot, q)\n",
    "qc.measure(q, c)\n",
    "res = qk.execute(qc, backend = simd_backend, shots = 65536).result()\n",
    "r_simd = res.get_counts()"
   ]
  },
  {
   "cell_type": "code",
   "execution_count": 30,
   "metadata": {},
   "outputs": [
    {
     "name": "stdout",
     "output_type": "stream",
     "text": [
      "{'0': 46917, '1': 18619}\n"
     ]
    }
   ],
   "source": [
    "print(r_simd)"
   ]
  },
  {
   "cell_type": "code",
   "execution_count": 31,
   "metadata": {},
   "outputs": [
    {
     "data": {
      "text/html": [
       "<pre style=\"word-wrap: normal;white-space: pre;background: #fff0;line-height: 1.1;font-family: &quot;Courier New&quot;,Courier,monospace\">      ┌─────────────────────────────────────┐┌─────────┐┌─┐\n",
       "q0_0: ┤ initialize(0.3011,0.62941+0.71637j) ├┤ unitary ├┤M├\n",
       "      └─────────────────────────────────────┘└─────────┘└╥┘\n",
       "c0: 1/═══════════════════════════════════════════════════╩═\n",
       "                                                         0 </pre>"
      ],
      "text/plain": [
       "      ┌─────────────────────────────────────┐┌─────────┐┌─┐\n",
       "q0_0: ┤ initialize(0.3011,0.62941+0.71637j) ├┤ unitary ├┤M├\n",
       "      └─────────────────────────────────────┘└─────────┘└╥┘\n",
       "c0: 1/═══════════════════════════════════════════════════╩═\n",
       "                                                         0 "
      ]
     },
     "execution_count": 31,
     "metadata": {},
     "output_type": "execute_result"
    }
   ],
   "source": [
    "qc.draw()"
   ]
  },
  {
   "cell_type": "markdown",
   "metadata": {},
   "source": [
    "Let's compute $\\sin \\phi$:"
   ]
  },
  {
   "cell_type": "code",
   "execution_count": 40,
   "metadata": {},
   "outputs": [],
   "source": [
    "r = r_simd['0'] / r_simd['1']\n",
    "sin_phi = (r - 1) / (r + 1) / np.sin(2 * theta)"
   ]
  },
  {
   "cell_type": "code",
   "execution_count": 41,
   "metadata": {},
   "outputs": [],
   "source": [
    "res_phi = np.arcsin(sin_phi)"
   ]
  },
  {
   "cell_type": "code",
   "execution_count": 42,
   "metadata": {},
   "outputs": [
    {
     "data": {
      "text/plain": [
       "(0.8509617839983838+0j)"
      ]
     },
     "execution_count": 42,
     "metadata": {},
     "output_type": "execute_result"
    }
   ],
   "source": [
    "res_phi"
   ]
  },
  {
   "cell_type": "code",
   "execution_count": null,
   "metadata": {},
   "outputs": [],
   "source": []
  }
 ],
 "metadata": {
  "kernelspec": {
   "display_name": "Python 3",
   "language": "python",
   "name": "python3"
  },
  "language_info": {
   "codemirror_mode": {
    "name": "ipython",
    "version": 3
   },
   "file_extension": ".py",
   "mimetype": "text/x-python",
   "name": "python",
   "nbconvert_exporter": "python",
   "pygments_lexer": "ipython3",
   "version": "3.8.3"
  }
 },
 "nbformat": 4,
 "nbformat_minor": 4
}
