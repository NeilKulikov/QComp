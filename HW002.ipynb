{
 "cells": [
  {
   "cell_type": "code",
   "execution_count": 2,
   "metadata": {},
   "outputs": [],
   "source": [
    "%%capture\n",
    "!pip3 install qiskit"
   ]
  },
  {
   "cell_type": "markdown",
   "metadata": {},
   "source": [
    "# Homework \\#2"
   ]
  },
  {
   "cell_type": "code",
   "execution_count": 1,
   "metadata": {},
   "outputs": [],
   "source": [
    "import numpy as np\n",
    "import qiskit as qk\n",
    "from sympy import *"
   ]
  },
  {
   "cell_type": "code",
   "execution_count": 3,
   "metadata": {},
   "outputs": [],
   "source": [
    "with open('./token', 'r') as token_file:\n",
    "    token = token_file.read()"
   ]
  },
  {
   "cell_type": "code",
   "execution_count": 4,
   "metadata": {},
   "outputs": [],
   "source": [
    "%%capture\n",
    "qk.IBMQ.save_account(token, overwrite = True)\n",
    "qk.IBMQ.load_account()"
   ]
  },
  {
   "cell_type": "code",
   "execution_count": 5,
   "metadata": {},
   "outputs": [],
   "source": [
    "provider = qk.IBMQ.get_provider(hub = 'ibm-q')"
   ]
  },
  {
   "cell_type": "code",
   "execution_count": 6,
   "metadata": {},
   "outputs": [],
   "source": [
    "devices = provider.backends(filters=lambda x: (3 <= x.configuration().n_qubits <= 5) and not x.configuration().simulator)"
   ]
  },
  {
   "cell_type": "code",
   "execution_count": 7,
   "metadata": {},
   "outputs": [
    {
     "data": {
      "text/plain": [
       "[<IBMQBackend('ibmqx2') from IBMQ(hub='ibm-q', group='open', project='main')>,\n",
       " <IBMQBackend('ibmq_vigo') from IBMQ(hub='ibm-q', group='open', project='main')>,\n",
       " <IBMQBackend('ibmq_ourense') from IBMQ(hub='ibm-q', group='open', project='main')>,\n",
       " <IBMQBackend('ibmq_valencia') from IBMQ(hub='ibm-q', group='open', project='main')>,\n",
       " <IBMQBackend('ibmq_london') from IBMQ(hub='ibm-q', group='open', project='main')>,\n",
       " <IBMQBackend('ibmq_burlington') from IBMQ(hub='ibm-q', group='open', project='main')>,\n",
       " <IBMQBackend('ibmq_essex') from IBMQ(hub='ibm-q', group='open', project='main')>,\n",
       " <IBMQBackend('ibmq_santiago') from IBMQ(hub='ibm-q', group='open', project='main')>]"
      ]
     },
     "execution_count": 7,
     "metadata": {},
     "output_type": "execute_result"
    }
   ],
   "source": [
    "devices"
   ]
  },
  {
   "cell_type": "code",
   "execution_count": 8,
   "metadata": {},
   "outputs": [],
   "source": [
    "simd_backend = qk.Aer.get_backend('qasm_simulator')"
   ]
  },
  {
   "cell_type": "markdown",
   "metadata": {},
   "source": [
    "## Task \\#1"
   ]
  },
  {
   "cell_type": "markdown",
   "metadata": {},
   "source": [
    "Firstly we should take a look on the following equation:\n",
    "$$\\hat H \\vert x \\rangle = \\frac{1}{\\sqrt 2} \\left\\{ \\vert 0 \\rangle + (-1)^{x} \\vert 1 \\rangle\\right\\}$$.\n",
    "Thus we can apply it as it is prescripted in Deutch's algorithm: \n",
    "$$\\hat{H}_x \\hat{H}_y \\hat{U}_f \\hat{H}_x \\vert 0 \\rangle_x \\otimes \\vert 0 \\rangle_y = \\hat{H}_x \\hat{H}_y \\hat{U}_f \\frac{1}{\\sqrt 2} (\\vert 0 \\rangle_x \\otimes \\vert 0 \\rangle_y + \\vert 1 \\rangle_x \\otimes \\vert 0 \\rangle_y)$$\n",
    "Oracle gives us by definition:\n",
    "$$=\\hat{H}_x \\hat{H}_y \\frac{1}{\\sqrt 2} (\\vert 0 \\rangle_x \\otimes \\vert f(0) \\rangle_y + \\vert 1 \\rangle_x \\otimes \\vert f(1) \\rangle_y) = \\hat{H}_x \\frac{1}{2} (\\vert 0 \\rangle_x \\otimes \\vert f(0) \\rangle_y + \\vert 1 \\rangle_x \\otimes \\vert f(0) \\rangle_y + \\vert 0 \\rangle_x \\otimes \\vert f(1) \\rangle_y - \\vert 1 \\rangle_x \\otimes \\vert f(1) \\rangle_y) = \\frac{1}{2 \\sqrt 2 } \\left(\\vert 0 \\rangle_x \\otimes ( \\vert 0 \\rangle_y + (-1)^{f(0)} \\vert 1 \\rangle_y) + \\vert 1 \\rangle_x \\otimes (\\vert 0 \\rangle_y +(-1)^{f(0)}  \\vert 1 \\rangle_y)+ \\vert 0 \\rangle_x \\otimes (\\vert 0 \\rangle_y + (-1)^{f(1)} \\vert 1 \\rangle_y) - \\vert 1 \\rangle_x \\otimes (\\vert 0 \\rangle_y + (-1)^{f(1)} \\vert 1 \\rangle_y\\right)$$\n",
    "It can be written in shorter form since some terms can be removed:\n",
    "$$ = \\frac{1}{\\sqrt 2} \\left\\{\n",
    "    \\begin{aligned}\n",
    "        \\vert 0 \\rangle_x \\vert 0 \\rangle_y + (-1)^{f(0)} \\vert 0 \\rangle_x \\vert 1 \\rangle_y & & f(0) = f(1)\\\\\n",
    "        \\vert 0 \\rangle_x \\vert 0 \\rangle_y + (-1)^{f(0)} \\vert 1 \\rangle_x \\vert 1 \\rangle_y & & f(0) \\neq f(1)\n",
    "    \\end{aligned}\n",
    "    \\right.\n",
    "$$\n",
    "Thus we can see that probability to measure zero state is $P(\\vert 0 \\rangle_x \\vert 0 \\rangle_y) = \\frac{1}{2}$ and we can't extract any data from it. On the other hand we can use info about measurements of other qubits: $P(\\vert 0 \\rangle_x \\vert 1 \\rangle_y) = \\frac{1}{2},~f(0)=f(1)$ or $P(\\vert 1 \\rangle_x \\vert 1 \\rangle_y) = \\frac{1}{2},~f(0)\\neq f(1)$. It gives us enough info about structure of function. "
   ]
  },
  {
   "cell_type": "markdown",
   "metadata": {},
   "source": [
    "## Task \\#2"
   ]
  },
  {
   "cell_type": "markdown",
   "metadata": {},
   "source": [
    "### Sub-Task \\#1"
   ]
  },
  {
   "cell_type": "markdown",
   "metadata": {},
   "source": [
    "We need to prove identity for tensor product of Hadamar's operators:\n",
    "$$\\hat{H}^{\\otimes n} \\vert \\pmb{x} \\rangle = \\frac{1}{\\sqrt{2^n}} \\sum_{\\pmb z} (-1)^{\\pmb x \\cdot \\pmb z} \\vert \\pmb z \\rangle$$\n",
    "Or it can be written in form of operator equality using Dirac's notation:\n",
    "$$\\hat{H}^{\\otimes n} = \\frac{1}{\\sqrt{2^n}} \\sum_{\\pmb z, \\pmb x} (-1)^{\\pmb x \\cdot \\pmb z} \\vert \\pmb z \\rangle \\langle \\pmb{x} \\vert$$"
   ]
  },
  {
   "cell_type": "markdown",
   "metadata": {},
   "source": [
    "First of all let's write Hadamar's operator for one qu-bit:\n",
    "$$\\hat{H} = \\frac{1}{\\sqrt{2}} \\begin{bmatrix} 1 & 1 \\\\ 1 & -1 \\end{bmatrix} = \\sum_{x_1,y_1} (-1)^{\\pmb{x}_1 \\pmb{z}_1} \\vert \\pmb{x}_1 \\rangle \\langle \\pmb{z}_1 \\vert$$\n",
    "Now we can expand tensor product explicitly:\n",
    "$$\\hat{H}^{\\otimes n} = \\frac{1}{\\sqrt{2^n}} \\left\\{ \\sum_{x_1,y_1} (-1)^{{x}_1 {z}_1} \\vert {x}_1 \\rangle \\langle {z}_1 \\vert \\right\\} \\otimes \\left\\{ \\sum_{x_2,y_2} (-1)^{{x}_2 {z}_2} \\vert {x}_2 \\rangle \\langle {z}_2 \\vert \\right\\} \\otimes \\cdots \\otimes \\left\\{ \\sum_{x_n,y_n} (-1)^{{x}_n {z}_n} \\vert {x}_n \\rangle \\langle {z}_n \\vert \\right\\}$$\n",
    "Multiplying and re-arranging bras & kets we get:\n",
    "$$\\hat{H}^{\\otimes n} = \\frac{1}{\\sqrt{2^n}} \\sum_{x_1,\\cdots,x_n \\vert y_1,\\cdots,y_n} (-1)^{x_1 y_1} \\cdot (-1)^{x_n y_n} \\cdot \\left\\{\\vert {x}_1 \\rangle \\otimes \\cdots \\otimes \\vert {x}_n \\rangle\\right\\} \\left\\{\\langle {z}_1 \\vert \\otimes \\cdots \\otimes \\langle {z}_n \\vert\\right\\}$$\n",
    "That form is equal to the target one."
   ]
  },
  {
   "cell_type": "markdown",
   "metadata": {},
   "source": [
    "### Sub-Task \\#3"
   ]
  },
  {
   "cell_type": "markdown",
   "metadata": {},
   "source": [
    "The following identity should be proven (assuming $\\pmb{s}^\\perp=\\{(\\pmb x \\oplus \\pmb y) \\cdot \\pmb z = 0\\}$):\n",
    "$$\\hat{H}^{\\otimes n} \\frac{1}{\\sqrt 2} \\{\\vert \\pmb x \\rangle + \\vert \\pmb y \\rangle\\} = \\frac{1}{\\sqrt{2^{n+1}}} \\sum_{\\pmb z\\in \\pmb{s}^{\\perp}} (-1)^{\\pmb x \\cdot \\pmb z} \\vert \\pmb z \\rangle$$"
   ]
  },
  {
   "cell_type": "markdown",
   "metadata": {},
   "source": [
    "Let's write $\\vert \\pmb x \\rangle + \\vert \\pmb y \\rangle = \\vert \\pmb{x}_0 \\rangle + \\vert \\pmb{x}_0 \\oplus \\pmb a \\rangle$. Thus, using previous identity:\n",
    "$$\\hat{H}^{\\otimes n} \\frac{1}{\\sqrt 2} \\{\\vert \\pmb{x}_0 \\rangle + \\vert \\pmb{x}_0 \\oplus \\pmb a \\rangle\\} = \\frac{1}{\\sqrt{2^{n+1}}} \\sum_{\\pmb z} \\{(-1)^{\\pmb{x}_0 \\cdot \\pmb z} + (-1)^{(\\pmb{x}_0 \\oplus \\pmb{a}) \\cdot \\pmb z}\\} \\vert \\pmb z \\rangle$$"
   ]
  },
  {
   "cell_type": "markdown",
   "metadata": {},
   "source": [
    "Since $(-1)^{(\\pmb{x}_0 \\oplus \\pmb{a}) \\cdot \\pmb z}\\} = (-1)^{\\pmb{x}_0 \\cdot \\pmb z} \\cdot (-1)^{\\pmb{a} \\cdot \\pmb z}$ we have:\n",
    "$$(-1)^{\\pmb{x}_0 \\cdot \\pmb z} + (-1)^{(\\pmb{x}_0 \\oplus \\pmb{a}) \\cdot \\pmb z} = \n",
    "    \\left\\{\n",
    "    \\begin{aligned}\n",
    "        &0 & &\\pmb a \\cdot \\pmb z = 1\\\\\n",
    "        &2 (-1)^{\\pmb {x}_0 \\cdot \\pmb z} & & \\pmb a \\cdot \\pmb z = 0\n",
    "    \\end{aligned}\n",
    "    \\right.$$"
   ]
  },
  {
   "cell_type": "markdown",
   "metadata": {},
   "source": [
    "Thus, we can write:\n",
    "$$\\hat{H}^{\\otimes n} \\frac{1}{\\sqrt 2} \\{\\vert \\pmb{x}_0 \\rangle + \\vert \\pmb{x}_0 \\oplus \\pmb a \\rangle\\} = \\frac{1}{\\sqrt{2^{n-1}}} \\sum_{\\pmb a \\cdot \\pmb z = 0} (-1)^{\\pmb{x}_0 \\cdot \\pmb z} \\vert \\pmb z \\rangle$$"
   ]
  },
  {
   "cell_type": "markdown",
   "metadata": {},
   "source": [
    "It's exatly what we want to get but with re-defined symbols. "
   ]
  },
  {
   "cell_type": "markdown",
   "metadata": {},
   "source": [
    "## Task \\#3"
   ]
  },
  {
   "cell_type": "markdown",
   "metadata": {},
   "source": [
    "First of all let's construct circuit for Simon's algorithm with $n = 1,~x=1,~a=111$:"
   ]
  },
  {
   "cell_type": "code",
   "execution_count": 9,
   "metadata": {},
   "outputs": [],
   "source": [
    "from qiskit.visualization import plot_histogram\n",
    "from qiskit_textbook.tools import simon_oracle"
   ]
  },
  {
   "cell_type": "code",
   "execution_count": 10,
   "metadata": {},
   "outputs": [],
   "source": [
    "a = '111'\n",
    "n = len(a)\n",
    "simon_circuit = qk.QuantumCircuit(n * 2, n)\n",
    "simon_circuit.h(range(n))  \n",
    "simon_circuit.barrier()\n",
    "simon_circuit += simon_oracle(a)\n",
    "simon_circuit.barrier()\n",
    "simon_circuit.h(range(n))\n",
    "simon_circuit.measure(range(n), range(n))\n",
    "results = qk.execute(simon_circuit, backend = simd_backend, shots = 8192).result()\n",
    "counts = results.get_counts()"
   ]
  },
  {
   "cell_type": "code",
   "execution_count": 11,
   "metadata": {},
   "outputs": [
    {
     "data": {
      "text/html": [
       "<pre style=\"word-wrap: normal;white-space: pre;background: #fff0;line-height: 1.1;font-family: &quot;Courier New&quot;,Courier,monospace\">     ┌───┐ ░                                ░ ┌───┐┌─┐      \n",
       "q_0: ┤ H ├─░───■──────────────■────■────■───░─┤ H ├┤M├──────\n",
       "     ├───┤ ░   │              │    │    │   ░ ├───┤└╥┘┌─┐   \n",
       "q_1: ┤ H ├─░───┼────■─────────┼────┼────┼───░─┤ H ├─╫─┤M├───\n",
       "     ├───┤ ░   │    │         │    │    │   ░ ├───┤ ║ └╥┘┌─┐\n",
       "q_2: ┤ H ├─░───┼────┼────■────┼────┼────┼───░─┤ H ├─╫──╫─┤M├\n",
       "     └───┘ ░ ┌─┴─┐  │    │  ┌─┴─┐  │    │   ░ └───┘ ║  ║ └╥┘\n",
       "q_3: ──────░─┤ X ├──┼────┼──┤ X ├──┼────┼───░───────╫──╫──╫─\n",
       "           ░ └───┘┌─┴─┐  │  └───┘┌─┴─┐  │   ░       ║  ║  ║ \n",
       "q_4: ──────░──────┤ X ├──┼───────┤ X ├──┼───░───────╫──╫──╫─\n",
       "           ░      └───┘┌─┴─┐     └───┘┌─┴─┐ ░       ║  ║  ║ \n",
       "q_5: ──────░───────────┤ X ├──────────┤ X ├─░───────╫──╫──╫─\n",
       "           ░           └───┘          └───┘ ░       ║  ║  ║ \n",
       "c: 3/═══════════════════════════════════════════════╩══╩══╩═\n",
       "                                                    0  1  2 </pre>"
      ],
      "text/plain": [
       "     ┌───┐ ░                                ░ ┌───┐┌─┐      \n",
       "q_0: ┤ H ├─░───■──────────────■────■────■───░─┤ H ├┤M├──────\n",
       "     ├───┤ ░   │              │    │    │   ░ ├───┤└╥┘┌─┐   \n",
       "q_1: ┤ H ├─░───┼────■─────────┼────┼────┼───░─┤ H ├─╫─┤M├───\n",
       "     ├───┤ ░   │    │         │    │    │   ░ ├───┤ ║ └╥┘┌─┐\n",
       "q_2: ┤ H ├─░───┼────┼────■────┼────┼────┼───░─┤ H ├─╫──╫─┤M├\n",
       "     └───┘ ░ ┌─┴─┐  │    │  ┌─┴─┐  │    │   ░ └───┘ ║  ║ └╥┘\n",
       "q_3: ──────░─┤ X ├──┼────┼──┤ X ├──┼────┼───░───────╫──╫──╫─\n",
       "           ░ └───┘┌─┴─┐  │  └───┘┌─┴─┐  │   ░       ║  ║  ║ \n",
       "q_4: ──────░──────┤ X ├──┼───────┤ X ├──┼───░───────╫──╫──╫─\n",
       "           ░      └───┘┌─┴─┐     └───┘┌─┴─┐ ░       ║  ║  ║ \n",
       "q_5: ──────░───────────┤ X ├──────────┤ X ├─░───────╫──╫──╫─\n",
       "           ░           └───┘          └───┘ ░       ║  ║  ║ \n",
       "c: 3/═══════════════════════════════════════════════╩══╩══╩═\n",
       "                                                    0  1  2 "
      ]
     },
     "execution_count": 11,
     "metadata": {},
     "output_type": "execute_result"
    }
   ],
   "source": [
    "simon_circuit.draw()"
   ]
  },
  {
   "cell_type": "code",
   "execution_count": 12,
   "metadata": {},
   "outputs": [
    {
     "data": {
      "image/png": "[encoded data removed]",
      "text/plain": [
       "<Figure size 504x360 with 1 Axes>"
      ]
     },
     "execution_count": 12,
     "metadata": {},
     "output_type": "execute_result"
    }
   ],
   "source": [
    "plot_histogram(counts)"
   ]
  },
  {
   "cell_type": "code",
   "execution_count": 13,
   "metadata": {},
   "outputs": [],
   "source": [
    "from qiskit import Aer"
   ]
  },
  {
   "cell_type": "code",
   "execution_count": 14,
   "metadata": {},
   "outputs": [],
   "source": [
    "aer_backend = Aer.get_backend('unitary_simulator')"
   ]
  },
  {
   "cell_type": "code",
   "execution_count": 15,
   "metadata": {},
   "outputs": [],
   "source": [
    "prepare_circuit = qk.QuantumCircuit(n * 2, n)\n",
    "prepare_circuit.h(range(n))  \n",
    "prepare_circuit.barrier()\n",
    "prepare_circuit += simon_oracle(a)\n",
    "prepare_circuit.barrier()\n",
    "prepare_circuit.h(range(n))\n",
    "prep_results = qk.execute(prepare_circuit, backend = aer_backend).result()"
   ]
  },
  {
   "cell_type": "code",
   "execution_count": 16,
   "metadata": {},
   "outputs": [
    {
     "data": {
      "text/html": [
       "<pre style=\"word-wrap: normal;white-space: pre;background: #fff0;line-height: 1.1;font-family: &quot;Courier New&quot;,Courier,monospace\">     ┌───┐ ░                                ░ ┌───┐\n",
       "q_0: ┤ H ├─░───■──────────────■────■────■───░─┤ H ├\n",
       "     ├───┤ ░   │              │    │    │   ░ ├───┤\n",
       "q_1: ┤ H ├─░───┼────■─────────┼────┼────┼───░─┤ H ├\n",
       "     ├───┤ ░   │    │         │    │    │   ░ ├───┤\n",
       "q_2: ┤ H ├─░───┼────┼────■────┼────┼────┼───░─┤ H ├\n",
       "     └───┘ ░ ┌─┴─┐  │    │  ┌─┴─┐  │    │   ░ └───┘\n",
       "q_3: ──────░─┤ X ├──┼────┼──┤ X ├──┼────┼───░──────\n",
       "           ░ └───┘┌─┴─┐  │  └───┘┌─┴─┐  │   ░      \n",
       "q_4: ──────░──────┤ X ├──┼───────┤ X ├──┼───░──────\n",
       "           ░      └───┘┌─┴─┐     └───┘┌─┴─┐ ░      \n",
       "q_5: ──────░───────────┤ X ├──────────┤ X ├─░──────\n",
       "           ░           └───┘          └───┘ ░      \n",
       "c: 3/══════════════════════════════════════════════\n",
       "                                                   </pre>"
      ],
      "text/plain": [
       "     ┌───┐ ░                                ░ ┌───┐\n",
       "q_0: ┤ H ├─░───■──────────────■────■────■───░─┤ H ├\n",
       "     ├───┤ ░   │              │    │    │   ░ ├───┤\n",
       "q_1: ┤ H ├─░───┼────■─────────┼────┼────┼───░─┤ H ├\n",
       "     ├───┤ ░   │    │         │    │    │   ░ ├───┤\n",
       "q_2: ┤ H ├─░───┼────┼────■────┼────┼────┼───░─┤ H ├\n",
       "     └───┘ ░ ┌─┴─┐  │    │  ┌─┴─┐  │    │   ░ └───┘\n",
       "q_3: ──────░─┤ X ├──┼────┼──┤ X ├──┼────┼───░──────\n",
       "           ░ └───┘┌─┴─┐  │  └───┘┌─┴─┐  │   ░      \n",
       "q_4: ──────░──────┤ X ├──┼───────┤ X ├──┼───░──────\n",
       "           ░      └───┘┌─┴─┐     └───┘┌─┴─┐ ░      \n",
       "q_5: ──────░───────────┤ X ├──────────┤ X ├─░──────\n",
       "           ░           └───┘          └───┘ ░      \n",
       "c: 3/══════════════════════════════════════════════\n",
       "                                                   "
      ]
     },
     "execution_count": 16,
     "metadata": {},
     "output_type": "execute_result"
    }
   ],
   "source": [
    "prepare_circuit.draw()"
   ]
  },
  {
   "cell_type": "code",
   "execution_count": 17,
   "metadata": {},
   "outputs": [
    {
     "data": {
      "text/plain": [
       "array([[ 2.5000000e-01-4.59242550e-17j,  6.9388939e-17+4.59242550e-17j,\n",
       "         6.9388939e-17+4.59242550e-17j, ...,\n",
       "         0.0000000e+00+0.00000000e+00j,  0.0000000e+00+0.00000000e+00j,\n",
       "         0.0000000e+00+0.00000000e+00j],\n",
       "       [ 6.9388939e-17+4.59242550e-17j,  2.5000000e-01-7.65404249e-17j,\n",
       "         2.5000000e-01-7.65404249e-17j, ...,\n",
       "         0.0000000e+00+0.00000000e+00j,  0.0000000e+00+0.00000000e+00j,\n",
       "         0.0000000e+00+0.00000000e+00j],\n",
       "       [ 6.9388939e-17+4.59242550e-17j,  2.5000000e-01-7.65404249e-17j,\n",
       "         2.5000000e-01-7.65404249e-17j, ...,\n",
       "         0.0000000e+00+0.00000000e+00j,  0.0000000e+00+0.00000000e+00j,\n",
       "         0.0000000e+00+0.00000000e+00j],\n",
       "       ...,\n",
       "       [ 0.0000000e+00+0.00000000e+00j,  0.0000000e+00+0.00000000e+00j,\n",
       "         0.0000000e+00+0.00000000e+00j, ...,\n",
       "         2.5000000e-01-1.07156595e-16j,  2.5000000e-01-1.07156595e-16j,\n",
       "        -6.9388939e-17+4.59242550e-17j],\n",
       "       [ 0.0000000e+00+0.00000000e+00j,  0.0000000e+00+0.00000000e+00j,\n",
       "         0.0000000e+00+0.00000000e+00j, ...,\n",
       "         2.5000000e-01-1.07156595e-16j,  2.5000000e-01-1.07156595e-16j,\n",
       "        -6.9388939e-17+4.59242550e-17j],\n",
       "       [ 0.0000000e+00+0.00000000e+00j,  0.0000000e+00+0.00000000e+00j,\n",
       "         0.0000000e+00+0.00000000e+00j, ...,\n",
       "        -6.9388939e-17+4.59242550e-17j, -6.9388939e-17+4.59242550e-17j,\n",
       "         2.5000000e-01-1.37772765e-16j]])"
      ]
     },
     "execution_count": 17,
     "metadata": {},
     "output_type": "execute_result"
    }
   ],
   "source": [
    "simon_matrix = prep_results.get_unitary(prepare_circuit, decimals = 1)\n",
    "simon_matrix"
   ]
  },
  {
   "cell_type": "code",
   "execution_count": 18,
   "metadata": {},
   "outputs": [
    {
     "data": {
      "text/plain": [
       "(64, 64)"
      ]
     },
     "execution_count": 18,
     "metadata": {},
     "output_type": "execute_result"
    }
   ],
   "source": [
    "simon_matrix.shape"
   ]
  },
  {
   "cell_type": "code",
   "execution_count": 19,
   "metadata": {},
   "outputs": [],
   "source": [
    "simon_matrix = np.matrix.round(simon_matrix, decimals = 5)"
   ]
  },
  {
   "cell_type": "code",
   "execution_count": 20,
   "metadata": {},
   "outputs": [
    {
     "data": {
      "text/plain": [
       "array([[ 0.25-0.j,  0.  +0.j,  0.  +0.j, ...,  0.  +0.j,  0.  +0.j,\n",
       "         0.  +0.j],\n",
       "       [ 0.  +0.j,  0.25-0.j,  0.25-0.j, ...,  0.  +0.j,  0.  +0.j,\n",
       "         0.  +0.j],\n",
       "       [ 0.  +0.j,  0.25-0.j,  0.25-0.j, ...,  0.  +0.j,  0.  +0.j,\n",
       "         0.  +0.j],\n",
       "       ...,\n",
       "       [ 0.  +0.j,  0.  +0.j,  0.  +0.j, ...,  0.25-0.j,  0.25-0.j,\n",
       "        -0.  +0.j],\n",
       "       [ 0.  +0.j,  0.  +0.j,  0.  +0.j, ...,  0.25-0.j,  0.25-0.j,\n",
       "        -0.  +0.j],\n",
       "       [ 0.  +0.j,  0.  +0.j,  0.  +0.j, ..., -0.  +0.j, -0.  +0.j,\n",
       "         0.25-0.j]])"
      ]
     },
     "execution_count": 20,
     "metadata": {},
     "output_type": "execute_result"
    }
   ],
   "source": [
    "simon_matrix"
   ]
  },
  {
   "cell_type": "code",
   "execution_count": 21,
   "metadata": {},
   "outputs": [],
   "source": [
    "init_state = np.zeros(64)\n",
    "init_state[0] = 1.\n",
    "simon_vec = simon_matrix @ init_state\n",
    "simon_res = np.real(simon_vec * np.conjugate(simon_vec))"
   ]
  },
  {
   "cell_type": "code",
   "execution_count": 22,
   "metadata": {},
   "outputs": [
    {
     "data": {
      "text/plain": [
       "1.0"
      ]
     },
     "execution_count": 22,
     "metadata": {},
     "output_type": "execute_result"
    }
   ],
   "source": [
    "sum(simon_res)"
   ]
  },
  {
   "cell_type": "code",
   "execution_count": 23,
   "metadata": {},
   "outputs": [
    {
     "data": {
      "text/plain": [
       "array([0.0625, 0.    , 0.    , 0.0625, 0.    , 0.0625, 0.0625, 0.    ,\n",
       "       0.    , 0.    , 0.    , 0.    , 0.    , 0.    , 0.    , 0.    ,\n",
       "       0.0625, 0.    , 0.    , 0.0625, 0.    , 0.0625, 0.0625, 0.    ,\n",
       "       0.    , 0.    , 0.    , 0.    , 0.    , 0.    , 0.    , 0.    ,\n",
       "       0.0625, 0.    , 0.    , 0.0625, 0.    , 0.0625, 0.0625, 0.    ,\n",
       "       0.    , 0.    , 0.    , 0.    , 0.    , 0.    , 0.    , 0.    ,\n",
       "       0.0625, 0.    , 0.    , 0.0625, 0.    , 0.0625, 0.0625, 0.    ,\n",
       "       0.    , 0.    , 0.    , 0.    , 0.    , 0.    , 0.    , 0.    ])"
      ]
     },
     "execution_count": 23,
     "metadata": {},
     "output_type": "execute_result"
    }
   ],
   "source": [
    "simon_res"
   ]
  },
  {
   "cell_type": "code",
   "execution_count": 24,
   "metadata": {},
   "outputs": [],
   "source": [
    "def to_str(snum, num_len = 64):\n",
    "    snum_rep = \"{0:b}\".format(snum)\n",
    "    return '0' * (num_len - len(snum_rep)) + snum_rep"
   ]
  },
  {
   "cell_type": "code",
   "execution_count": 25,
   "metadata": {},
   "outputs": [],
   "source": [
    "def prob_num(num, res, num_mask = 8, num_len = 64):\n",
    "    assert len(res.shape) == 1\n",
    "    num_rep = to_str(num)\n",
    "    acc = 0.\n",
    "    for i, e in enumerate(res):\n",
    "        i_rep = to_str(i, num_len = num_len)\n",
    "        acc += 4 * (e if i_rep[::-1][:num_mask] == num_rep[::-1][:num_mask] else 0)\n",
    "    return acc"
   ]
  },
  {
   "cell_type": "code",
   "execution_count": 26,
   "metadata": {},
   "outputs": [],
   "source": [
    "def probs(nbit, res):\n",
    "    nbit = int(nbit)\n",
    "    return prob_num(1 << nbit, res)"
   ]
  },
  {
   "cell_type": "code",
   "execution_count": 27,
   "metadata": {},
   "outputs": [],
   "source": [
    "res = [prob_num(i, simon_res) for i in range(8)]"
   ]
  },
  {
   "cell_type": "code",
   "execution_count": 28,
   "metadata": {},
   "outputs": [
    {
     "data": {
      "text/plain": [
       "([0.25, 0.0, 0.0, 0.25, 0.0, 0.25, 0.25, 0.0], 1.0)"
      ]
     },
     "execution_count": 28,
     "metadata": {},
     "output_type": "execute_result"
    }
   ],
   "source": [
    "res, sum(res)"
   ]
  },
  {
   "cell_type": "markdown",
   "metadata": {},
   "source": [
    "It proves results of simulation. Only $000, 011,101, 110$ vectors can be result of this circuit. Moreover they have equal possibility to be realized."
   ]
  },
  {
   "cell_type": "code",
   "execution_count": 29,
   "metadata": {},
   "outputs": [],
   "source": [
    "vecs = [np.array([0, 0, 0], dtype = 'bool'), np.array([0, 1, 1], dtype = 'bool'), np.array([1, 0, 1], dtype = 'bool'), np.array([1, 1, 0], dtype = 'bool')]"
   ]
  },
  {
   "cell_type": "markdown",
   "metadata": {},
   "source": [
    "Let's iterate over all possible sets of numbers and check if system is solvable:"
   ]
  },
  {
   "cell_type": "code",
   "execution_count": 30,
   "metadata": {},
   "outputs": [
    {
     "name": "stdout",
     "output_type": "stream",
     "text": [
      "0.0 0.0 False\n",
      "0.0 0.0 False\n",
      "0.0 0.0 False\n",
      "0.0 0.0 False\n",
      "0.0 0.0 False\n",
      "0.0 0.0 False\n",
      "0.0 0.0 False\n",
      "0.0 0.0 False\n",
      "0.0 0.0 False\n",
      "0.0 0.0 False\n",
      "0.0 0.0 False\n",
      "0.0 0.0 False\n",
      "0.0 0.0 False\n",
      "0.0 0.0 False\n",
      "0.0 0.0 False\n",
      "0.0 0.0 False\n",
      "0.0 0.0 False\n",
      "0.0 0.0 False\n",
      "0.0 0.0 False\n",
      "0.0 0.0 False\n",
      "0.0 0.0 False\n",
      "0.0 0.0 False\n",
      "0.0 0.0 False\n",
      "0.0 0.0 False\n",
      "0.0 0.0 False\n",
      "0.0 0.0 False\n",
      "0.0 0.0 False\n",
      "0.0 2.0 True\n",
      "0.0 0.0 False\n",
      "0.0 0.0 False\n",
      "0.0 -2.0 True\n",
      "0.0 0.0 False\n",
      "0.0 0.0 False\n",
      "0.0 0.0 False\n",
      "0.0 0.0 False\n",
      "0.0 0.0 False\n",
      "0.0 0.0 False\n",
      "0.0 0.0 False\n",
      "0.0 0.0 False\n",
      "0.0 -2.0 True\n",
      "0.0 0.0 False\n",
      "0.0 0.0 False\n",
      "0.0 0.0 False\n",
      "0.0 0.0 False\n",
      "0.0 0.0 False\n",
      "0.0 2.0 True\n",
      "0.0 0.0 False\n",
      "0.0 0.0 False\n",
      "0.0 0.0 False\n",
      "0.0 0.0 False\n",
      "0.0 0.0 False\n",
      "0.0 0.0 False\n",
      "0.0 0.0 False\n",
      "0.0 0.0 False\n",
      "0.0 2.0 True\n",
      "0.0 0.0 False\n",
      "0.0 0.0 False\n",
      "0.0 -2.0 True\n",
      "0.0 0.0 False\n",
      "0.0 0.0 False\n",
      "0.0 0.0 False\n",
      "0.0 0.0 False\n",
      "0.0 0.0 False\n",
      "0.0 0.0 False\n",
      "0.0 0.0 False\n",
      "0.0 0.0 False\n",
      "0.0 0.0 False\n",
      "0.0 0.0 False\n",
      "0.0 0.0 False\n",
      "0.0 0.0 False\n",
      "0.0 0.0 False\n",
      "0.0 0.0 False\n",
      "0.0 0.0 False\n",
      "0.0 0.0 False\n",
      "0.0 0.0 False\n",
      "0.0 0.0 False\n",
      "0.0 0.0 False\n",
      "0.0 0.0 False\n",
      "0.0 0.0 False\n",
      "0.0 0.0 False\n",
      "0.0 0.0 False\n",
      "0.0 0.0 False\n",
      "0.0 0.0 False\n",
      "0.0 0.0 False\n",
      "0.0 0.0 False\n",
      "0.0 0.0 False\n",
      "0.0 0.0 False\n",
      "0.0 0.0 False\n",
      "0.0 0.0 False\n",
      "0.0 0.0 False\n",
      "0.0 0.0 False\n",
      "0.0 2.0 True\n",
      "0.0 0.0 False\n",
      "0.0 0.0 False\n",
      "0.0 -2.0 True\n",
      "0.0 0.0 False\n",
      "0.0 0.0 False\n",
      "0.0 0.0 False\n",
      "0.0 0.0 False\n",
      "0.0 0.0 False\n",
      "0.0 0.0 False\n",
      "0.0 0.0 False\n",
      "0.0 0.0 False\n",
      "0.0 -2.0 True\n",
      "0.0 0.0 False\n",
      "0.0 0.0 False\n",
      "0.0 0.0 False\n",
      "0.0 0.0 False\n",
      "2.0 0.0 True\n",
      "2.0 2.0 True\n",
      "2.0 0.0 True\n",
      "2.0 0.0 True\n",
      "0.0 0.0 False\n",
      "0.0 0.0 False\n",
      "0.0 0.0 False\n",
      "0.0 0.0 False\n",
      "0.0 0.0 False\n",
      "0.0 0.0 False\n",
      "0.0 2.0 True\n",
      "0.0 0.0 False\n",
      "-2.0 0.0 True\n",
      "-2.0 -2.0 True\n",
      "-2.0 0.0 True\n",
      "-2.0 0.0 True\n",
      "0.0 0.0 False\n",
      "0.0 0.0 False\n",
      "0.0 0.0 False\n",
      "0.0 0.0 False\n",
      "0.0 0.0 False\n",
      "0.0 0.0 False\n",
      "0.0 0.0 False\n",
      "0.0 0.0 False\n",
      "0.0 0.0 False\n",
      "0.0 0.0 False\n",
      "0.0 0.0 False\n",
      "0.0 0.0 False\n",
      "0.0 0.0 False\n",
      "0.0 0.0 False\n",
      "0.0 0.0 False\n",
      "0.0 0.0 False\n",
      "0.0 0.0 False\n",
      "0.0 0.0 False\n",
      "0.0 0.0 False\n",
      "0.0 0.0 False\n",
      "0.0 0.0 False\n",
      "0.0 0.0 False\n",
      "0.0 0.0 False\n",
      "0.0 0.0 False\n",
      "0.0 0.0 False\n",
      "0.0 0.0 False\n",
      "0.0 0.0 False\n",
      "0.0 0.0 False\n",
      "0.0 0.0 False\n",
      "0.0 0.0 False\n",
      "0.0 0.0 False\n",
      "0.0 2.0 True\n",
      "-2.0 0.0 True\n",
      "-2.0 0.0 True\n",
      "-2.0 -2.0 True\n",
      "-2.0 0.0 True\n",
      "0.0 0.0 False\n",
      "0.0 0.0 False\n",
      "0.0 0.0 False\n",
      "0.0 0.0 False\n",
      "0.0 0.0 False\n",
      "0.0 0.0 False\n",
      "0.0 0.0 False\n",
      "0.0 -2.0 True\n",
      "0.0 0.0 False\n",
      "0.0 0.0 False\n",
      "0.0 0.0 False\n",
      "0.0 0.0 False\n",
      "0.0 0.0 False\n",
      "0.0 2.0 True\n",
      "0.0 0.0 False\n",
      "0.0 0.0 False\n",
      "0.0 0.0 False\n",
      "0.0 0.0 False\n",
      "0.0 0.0 False\n",
      "0.0 0.0 False\n",
      "2.0 0.0 True\n",
      "2.0 0.0 True\n",
      "2.0 2.0 True\n",
      "2.0 0.0 True\n",
      "0.0 0.0 False\n",
      "0.0 -2.0 True\n",
      "0.0 0.0 False\n",
      "0.0 0.0 False\n",
      "0.0 0.0 False\n",
      "0.0 0.0 False\n",
      "0.0 0.0 False\n",
      "0.0 0.0 False\n",
      "0.0 0.0 False\n",
      "0.0 0.0 False\n",
      "0.0 0.0 False\n",
      "0.0 0.0 False\n",
      "0.0 0.0 False\n",
      "0.0 0.0 False\n",
      "0.0 0.0 False\n",
      "0.0 0.0 False\n",
      "0.0 0.0 False\n",
      "0.0 0.0 False\n",
      "0.0 0.0 False\n",
      "0.0 0.0 False\n",
      "0.0 0.0 False\n",
      "0.0 0.0 False\n",
      "0.0 0.0 False\n",
      "0.0 0.0 False\n",
      "0.0 0.0 False\n",
      "0.0 0.0 False\n",
      "0.0 0.0 False\n",
      "0.0 0.0 False\n",
      "0.0 0.0 False\n",
      "0.0 0.0 False\n",
      "0.0 0.0 False\n",
      "0.0 0.0 False\n",
      "2.0 0.0 True\n",
      "2.0 0.0 True\n",
      "2.0 0.0 True\n",
      "2.0 2.0 True\n",
      "0.0 0.0 False\n",
      "0.0 0.0 False\n",
      "0.0 -2.0 True\n",
      "0.0 0.0 False\n",
      "0.0 0.0 False\n",
      "0.0 0.0 False\n",
      "0.0 0.0 False\n",
      "0.0 0.0 False\n",
      "-2.0 0.0 True\n",
      "-2.0 0.0 True\n",
      "-2.0 0.0 True\n",
      "-2.0 -2.0 True\n",
      "0.0 0.0 False\n",
      "0.0 0.0 False\n",
      "0.0 0.0 False\n",
      "0.0 0.0 False\n",
      "0.0 0.0 False\n",
      "0.0 2.0 True\n",
      "0.0 0.0 False\n",
      "0.0 0.0 False\n",
      "0.0 0.0 False\n",
      "0.0 0.0 False\n",
      "0.0 0.0 False\n",
      "0.0 0.0 False\n",
      "0.0 0.0 False\n",
      "0.0 0.0 False\n",
      "0.0 2.0 True\n",
      "0.0 0.0 False\n",
      "0.0 0.0 False\n",
      "0.0 -2.0 True\n",
      "0.0 0.0 False\n",
      "0.0 0.0 False\n",
      "0.0 0.0 False\n",
      "0.0 0.0 False\n",
      "0.0 0.0 False\n",
      "0.0 0.0 False\n"
     ]
    }
   ],
   "source": [
    "n_zero, n_ones = 0, 0\n",
    "mat = np.zeros((3, 4))\n",
    "for v0 in vecs:\n",
    "    mat[:, 0] = v0[:]\n",
    "    for v1 in vecs:\n",
    "        mat[:, 1] = v1[:]\n",
    "        for v2 in vecs:\n",
    "            mat[:, 2] = v2[:]\n",
    "            for v3 in vecs:\n",
    "                mat[:, 3] = v3[:]\n",
    "                smat0, smat1 = mat[:,:-1], mat[:,1:]\n",
    "                d0, d1 = np.linalg.det(smat0), np.linalg.det(smat1)\n",
    "                is_suitable = bool(d0) | bool(d1)\n",
    "                print(d0, d1, is_suitable)\n",
    "                if is_suitable:\n",
    "                    n_ones += 1\n",
    "                else:\n",
    "                    n_zero += 1"
   ]
  },
  {
   "cell_type": "code",
   "execution_count": 31,
   "metadata": {},
   "outputs": [
    {
     "data": {
      "text/plain": [
       "(214, 42)"
      ]
     },
     "execution_count": 31,
     "metadata": {},
     "output_type": "execute_result"
    }
   ],
   "source": [
    "n_zero, n_ones"
   ]
  },
  {
   "cell_type": "markdown",
   "metadata": {},
   "source": [
    "This results $42 / 256$ are even better than naive estimation that gives success/error ratio about: \n",
    "$1 - \\frac{7}{8} \\frac{15}{16}$."
   ]
  },
  {
   "cell_type": "markdown",
   "metadata": {},
   "source": [
    "## Task \\#4 "
   ]
  },
  {
   "cell_type": "markdown",
   "metadata": {},
   "source": [
    "### Sub-Task \\#1"
   ]
  },
  {
   "cell_type": "markdown",
   "metadata": {},
   "source": [
    "Actually Grover's search algorithm is based on the amplitude amplification technique. In basic words it's an iterative algorithm that increases probability to find right answer on every step. "
   ]
  },
  {
   "cell_type": "markdown",
   "metadata": {},
   "source": [
    "Actually it can be decomposed in the following way:\n",
    "1. Initial state preparation by Hadamar's operators. $\\vert s \\rangle = \\hat{H}^{\\otimes (n+1)} \\vert 0 \\rangle$. After this stage stet vector is distrubuted uniformly.\n",
    "2. Oracle's reflection. It reflects state around plane orthogonal to target vector $\\vert w \\rangle$: $ \\vert s \\rangle = \\sin \\theta \\vert w \\rangle + \\cos \\theta \\vert s' \\rangle$.\n",
    "3. After-reflection that moves state towards the target one rotatin it around $\\vert s \\rangle$. $2\\vert s \\rangle \\langle s \\vert - 1$.\n",
    "\n",
    "We can repeat it to increase probability to find answer."
   ]
  },
  {
   "cell_type": "markdown",
   "metadata": {},
   "source": [
    "### Sub-Task \\#2"
   ]
  },
  {
   "cell_type": "markdown",
   "metadata": {},
   "source": [
    "Let's create 2-QBits Grover's algorithm with tarket state $\\vert w\\rangle = \\vert 11 \\rangle$. That implies Oracle in form of CZ gate. Thus:"
   ]
  },
  {
   "cell_type": "code",
   "execution_count": 32,
   "metadata": {},
   "outputs": [
    {
     "data": {
      "text/plain": [
       "<qiskit.circuit.instructionset.InstructionSet at 0x1230f28b0>"
      ]
     },
     "execution_count": 32,
     "metadata": {},
     "output_type": "execute_result"
    }
   ],
   "source": [
    "qc = qk.QuantumCircuit(2, 2)\n",
    "#Preparation\n",
    "qc.h(range(2))\n",
    "#Oracle\n",
    "qc.cz(0, 1)\n",
    "#Grover's diffusion\n",
    "qc.h(range(2))\n",
    "qc.z(range(2))\n",
    "qc.cz(0, 1)\n",
    "qc.h(range(2))\n",
    "qc.barrier()\n",
    "qc.measure(range(2), range(2))"
   ]
  },
  {
   "cell_type": "code",
   "execution_count": 33,
   "metadata": {},
   "outputs": [
    {
     "data": {
      "text/html": [
       "<pre style=\"word-wrap: normal;white-space: pre;background: #fff0;line-height: 1.1;font-family: &quot;Courier New&quot;,Courier,monospace\">     ┌───┐   ┌───┐┌───┐   ┌───┐ ░ ┌─┐   \n",
       "q_0: ┤ H ├─■─┤ H ├┤ Z ├─■─┤ H ├─░─┤M├───\n",
       "     ├───┤ │ ├───┤├───┤ │ ├───┤ ░ └╥┘┌─┐\n",
       "q_1: ┤ H ├─■─┤ H ├┤ Z ├─■─┤ H ├─░──╫─┤M├\n",
       "     └───┘   └───┘└───┘   └───┘ ░  ║ └╥┘\n",
       "c: 2/══════════════════════════════╩══╩═\n",
       "                                   0  1 </pre>"
      ],
      "text/plain": [
       "     ┌───┐   ┌───┐┌───┐   ┌───┐ ░ ┌─┐   \n",
       "q_0: ┤ H ├─■─┤ H ├┤ Z ├─■─┤ H ├─░─┤M├───\n",
       "     ├───┤ │ ├───┤├───┤ │ ├───┤ ░ └╥┘┌─┐\n",
       "q_1: ┤ H ├─■─┤ H ├┤ Z ├─■─┤ H ├─░──╫─┤M├\n",
       "     └───┘   └───┘└───┘   └───┘ ░  ║ └╥┘\n",
       "c: 2/══════════════════════════════╩══╩═\n",
       "                                   0  1 "
      ]
     },
     "execution_count": 33,
     "metadata": {},
     "output_type": "execute_result"
    }
   ],
   "source": [
    "qc.draw()"
   ]
  },
  {
   "cell_type": "code",
   "execution_count": 34,
   "metadata": {},
   "outputs": [],
   "source": [
    "res = qk.execute(qc, shots = 65536, backend = simd_backend).result()"
   ]
  },
  {
   "cell_type": "code",
   "execution_count": 35,
   "metadata": {},
   "outputs": [],
   "source": [
    "stt = res.get_counts()"
   ]
  },
  {
   "cell_type": "code",
   "execution_count": 36,
   "metadata": {},
   "outputs": [
    {
     "data": {
      "text/plain": [
       "{'11': 65536}"
      ]
     },
     "execution_count": 36,
     "metadata": {},
     "output_type": "execute_result"
    }
   ],
   "source": [
    "stt"
   ]
  },
  {
   "cell_type": "code",
   "execution_count": 37,
   "metadata": {},
   "outputs": [
    {
     "data": {
      "image/png": "[encoded data removed]",
      "text/plain": [
       "<Figure size 504x360 with 1 Axes>"
      ]
     },
     "execution_count": 37,
     "metadata": {},
     "output_type": "execute_result"
    }
   ],
   "source": [
    "plot_histogram(stt)"
   ]
  },
  {
   "cell_type": "markdown",
   "metadata": {},
   "source": [
    "Thus Grover's algorithm is performed once and gives right answer "
   ]
  },
  {
   "cell_type": "markdown",
   "metadata": {},
   "source": [
    "### Sub-Task \\#3 "
   ]
  },
  {
   "cell_type": "code",
   "execution_count": 38,
   "metadata": {},
   "outputs": [
    {
     "data": {
      "text/plain": [
       "<qiskit.circuit.instructionset.InstructionSet at 0x123164c40>"
      ]
     },
     "execution_count": 38,
     "metadata": {},
     "output_type": "execute_result"
    }
   ],
   "source": [
    "qc = qk.QuantumCircuit(2, 2)\n",
    "qc.h(range(2))\n",
    "qc.cz(0, 1)\n",
    "qc.h(range(2))\n",
    "qc.z(range(2))\n",
    "qc.cz(0, 1)\n",
    "qc.h(range(2))\n",
    "qc.barrier()\n",
    "qc.cz(0, 1)\n",
    "qc.h(range(2))\n",
    "qc.z(range(2))\n",
    "qc.cz(0, 1)\n",
    "qc.h(range(2))\n",
    "qc.barrier()\n",
    "qc.measure(range(2), range(2))"
   ]
  },
  {
   "cell_type": "code",
   "execution_count": 39,
   "metadata": {},
   "outputs": [
    {
     "data": {
      "text/html": [
       "<pre style=\"word-wrap: normal;white-space: pre;background: #fff0;line-height: 1.1;font-family: &quot;Courier New&quot;,Courier,monospace\">     ┌───┐   ┌───┐┌───┐   ┌───┐ ░    ┌───┐┌───┐   ┌───┐ ░ ┌─┐   \n",
       "q_0: ┤ H ├─■─┤ H ├┤ Z ├─■─┤ H ├─░──■─┤ H ├┤ Z ├─■─┤ H ├─░─┤M├───\n",
       "     ├───┤ │ ├───┤├───┤ │ ├───┤ ░  │ ├───┤├───┤ │ ├───┤ ░ └╥┘┌─┐\n",
       "q_1: ┤ H ├─■─┤ H ├┤ Z ├─■─┤ H ├─░──■─┤ H ├┤ Z ├─■─┤ H ├─░──╫─┤M├\n",
       "     └───┘   └───┘└───┘   └───┘ ░    └───┘└───┘   └───┘ ░  ║ └╥┘\n",
       "c: 2/══════════════════════════════════════════════════════╩══╩═\n",
       "                                                           0  1 </pre>"
      ],
      "text/plain": [
       "     ┌───┐   ┌───┐┌───┐   ┌───┐ ░    ┌───┐┌───┐   ┌───┐ ░ ┌─┐   \n",
       "q_0: ┤ H ├─■─┤ H ├┤ Z ├─■─┤ H ├─░──■─┤ H ├┤ Z ├─■─┤ H ├─░─┤M├───\n",
       "     ├───┤ │ ├───┤├───┤ │ ├───┤ ░  │ ├───┤├───┤ │ ├───┤ ░ └╥┘┌─┐\n",
       "q_1: ┤ H ├─■─┤ H ├┤ Z ├─■─┤ H ├─░──■─┤ H ├┤ Z ├─■─┤ H ├─░──╫─┤M├\n",
       "     └───┘   └───┘└───┘   └───┘ ░    └───┘└───┘   └───┘ ░  ║ └╥┘\n",
       "c: 2/══════════════════════════════════════════════════════╩══╩═\n",
       "                                                           0  1 "
      ]
     },
     "execution_count": 39,
     "metadata": {},
     "output_type": "execute_result"
    }
   ],
   "source": [
    "qc.draw()"
   ]
  },
  {
   "cell_type": "code",
   "execution_count": 40,
   "metadata": {},
   "outputs": [],
   "source": [
    "res = qk.execute(qc, shots = 65536, backend = simd_backend).result()"
   ]
  },
  {
   "cell_type": "code",
   "execution_count": 41,
   "metadata": {},
   "outputs": [],
   "source": [
    "stt = res.get_counts()"
   ]
  },
  {
   "cell_type": "code",
   "execution_count": 42,
   "metadata": {},
   "outputs": [
    {
     "data": {
      "image/png": "[encoded data removed]",
      "text/plain": [
       "<Figure size 504x360 with 1 Axes>"
      ]
     },
     "execution_count": 42,
     "metadata": {},
     "output_type": "execute_result"
    }
   ],
   "source": [
    "plot_histogram(stt)"
   ]
  },
  {
   "cell_type": "markdown",
   "metadata": {},
   "source": [
    "It disperses probabilities across all qbits."
   ]
  },
  {
   "cell_type": "code",
   "execution_count": null,
   "metadata": {},
   "outputs": [],
   "source": []
  },
  {
   "cell_type": "code",
   "execution_count": null,
   "metadata": {},
   "outputs": [],
   "source": []
  },
  {
   "cell_type": "code",
   "execution_count": null,
   "metadata": {},
   "outputs": [],
   "source": []
  }
 ],
 "metadata": {
  "kernelspec": {
   "display_name": "Python 3.8.3 64-bit",
   "language": "python",
   "name": "python38364bit3053ff7d49644525b06f57e8a0005985"
  },
  "language_info": {
   "codemirror_mode": {
    "name": "ipython",
    "version": 3
   },
   "file_extension": ".py",
   "mimetype": "text/x-python",
   "name": "python",
   "nbconvert_exporter": "python",
   "pygments_lexer": "ipython3",
   "version": "3.8.5"
  }
 },
 "nbformat": 4,
 "nbformat_minor": 4
}
